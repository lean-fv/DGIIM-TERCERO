{
  "nbformat": 4,
  "nbformat_minor": 0,
  "metadata": {
    "colab": {
      "provenance": []
    },
    "kernelspec": {
      "name": "python3",
      "display_name": "Python 3"
    },
    "language_info": {
      "name": "python"
    }
  },
  "cells": [
    {
      "cell_type": "markdown",
      "source": [
        "## Ejercicios"
      ],
      "metadata": {
        "id": "f1bAtg8dHPzX"
      }
    },
    {
      "cell_type": "markdown",
      "source": [
        "Autor: Leandro Jorge Fernández Vega\n",
        "\n",
        "Carrera: Doble Grado en Ingeniería Informática y Matemáticas\n",
        "\n",
        "Curso: 3º"
      ],
      "metadata": {
        "id": "HVvknGfdHUZf"
      }
    },
    {
      "cell_type": "code",
      "execution_count": null,
      "metadata": {
        "id": "ALfysL0nHETs"
      },
      "outputs": [],
      "source": [
        "import sympy as sp\n",
        "import numpy as np\n",
        "import matplotlib.pyplot as plt\n",
        "import matplotlib as mpl"
      ]
    },
    {
      "cell_type": "code",
      "source": [
        "t, y0, z = sp.symbols('t, y_0,  z')\n",
        "N=75\n",
        "a,b=0,1\n",
        "ya=1 #f(a)=ya, donde a es la abscisa inicial"
      ],
      "metadata": {
        "id": "zRIxvK--9NFu"
      },
      "execution_count": null,
      "outputs": []
    },
    {
      "cell_type": "code",
      "source": [
        "def f(t,z):\n",
        "    return z\n",
        "\n",
        "def sol_exacta(f,a,ya):\n",
        "\n",
        "  # Definimos y como una función simbólica\n",
        "  y = sp.Function('y')\n",
        "\n",
        "  # Declaramos la EDO\n",
        "  edo = y(t).diff(t)-f(t,y(t))\n",
        "\n",
        "  # La igualamos a 0\n",
        "  sp.Eq(edo,0)\n",
        "\n",
        "  # Resolvemos simbólicamente la EDO\n",
        "  edo_sol = sp.dsolve(edo)\n",
        "\n",
        "  # Imponemos las condiciones iniciales\n",
        "  ics = {y(a): y0}\n",
        "\n",
        "  # De esta manera haríamos la sustituciones correspondientes\n",
        "  edo_sol.rhs.subs(t, a),edo_sol.lhs.subs(t, a).subs(ics)\n",
        "\n",
        "  # Ecuación asociada al PVI\n",
        "  CI_eq = sp.Eq(edo_sol.lhs.subs(t, a).subs(ics),edo_sol.rhs.subs(t, a))\n",
        "\n",
        "  # Solución del PVI\n",
        "  CI_sol = sp.solve(CI_eq)\n",
        "\n",
        "  # Única solución exacta de nuestro PVI\n",
        "  sol_exacta = edo_sol.rhs.subs(CI_sol[0]).subs({y0:ya})\n",
        "\n",
        "  return sol_exacta"
      ],
      "metadata": {
        "id": "HMDt744USgZL"
      },
      "execution_count": null,
      "outputs": []
    },
    {
      "cell_type": "markdown",
      "source": [
        "1. Repita las aproximaciones anteriores con diferentes valores de $N$ (y por tanto de $h$) y compruebe el efecto en cuanto a mayor o menor precisión, estabilidad y coste computacional."
      ],
      "metadata": {
        "id": "VPjx_01ePKTI"
      }
    },
    {
      "cell_type": "code",
      "source": [
        "def euler_explicito(F,x0,y0,xfinal,N):\n",
        "  ''' método de Euler para resolver el PVI\n",
        "    X,Y     = integrate(F,x0,y0,xfinal,N).\n",
        "    {y}'    = {F(x,{y})}, donde\n",
        "    {y}     = {y[0],y[1],...y[N-1]}.\n",
        "    x0,y0   = condiciones iniciales\n",
        "    xfinal  = valor final de la variable x\n",
        "    h       = incremento de x usado para la integración\n",
        "    F       = función suplida por el usuario que devuelve\n",
        "            el array F(x,y) = {y'[0],y'[1],...,y'[N-1]}.\n",
        "  '''\n",
        "  X = np.linspace(x0,xfinal,N+1)\n",
        "  Y = [y0]; h = (xfinal-x0)/N\n",
        "  for n in range(N):\n",
        "      Y.append(Y[n] + h*F(X[n],Y[n]))\n",
        "  return np.array(X),np.array(Y)\n",
        "\n",
        "\n",
        "def euler_implicito(F,x0,y0,xfinal,N):\n",
        "  ''' método de Euler implicito para resolver el PVI\n",
        "    X,Y     = integrate(F,x0,y0,xfinal,N).\n",
        "    {y}'    = {F(x,{y})}, donde\n",
        "    {y}     = {y[0],y[1],...y[N-1]}.\n",
        "    x0,y0   = condiciones iniciales\n",
        "    xfinal  = valor final de la variable x\n",
        "    h       = incremento de x usado para la integración\n",
        "    F       = función suplida por el usuario que devuelve\n",
        "            el array F(x,y) = {y'[0],y'[1],...,y'[N-1]}.\n",
        "  '''\n",
        "  X = np.linspace(x0,xfinal,N+1)\n",
        "  Y = [y0]; h = (xfinal-x0)/N\n",
        "  y1 = sp.Symbol('y1') # usaremos esta variable como incógnita\n",
        "  for n in range(N):   # de la ecuación a resolver en cada iteración\n",
        "      Y.append(sp.solve(Y[n]+h*F(X[n+1],y1)-y1,y1)[0])\n",
        "  return np.array(X),np.array(Y)\n",
        "\n",
        "\n",
        "def euler_implicito_aprox(F,x0,y0,xfinal,N):\n",
        "  ''' método de Euler implicito aprox para resolver el PVI\n",
        "    X,Y     = integrate(F,x0,y0,xfinal,N).\n",
        "    {y}'    = {F(x,{y})}, donde\n",
        "    {y}     = {y[0],y[1],...y[N-1]}.\n",
        "    x0,y0   = condiciones iniciales\n",
        "    xfinal  = valor final de la variable x\n",
        "    h       = incremento de x usado para la integración\n",
        "    F       = función suplida por el usuario que devuelve\n",
        "            el array F(x,y) = {y'[0],y'[1],...,y'[N-1]}.\n",
        "  '''\n",
        "  X = np.linspace(x0,xfinal,N+1)\n",
        "  Y = [y0]; h = (xfinal-x0)/N\n",
        "\n",
        "  for n in range(N):\n",
        "      y1 = Y[n] + h*F(X[n],Y[n])    #  valor inicial para una\n",
        "      Y.append(Y[n]+h*F(X[n+1],y1)) #  iteración de punto fijo\n",
        "  return np.array(X),np.array(Y)"
      ],
      "metadata": {
        "id": "RKZadXwNN5Vj"
      },
      "execution_count": null,
      "outputs": []
    },
    {
      "cell_type": "code",
      "source": [
        "xx,yy=euler_explicito(f,a,ya,b,N)\n",
        "sol_exacta=sol_exacta(f,a,ya)\n",
        "valores_exactos = np.array([sol_exacta.subs({t:xx[n]}) for n in range(len(xx))])\n",
        "\n",
        "print(\"Valores exactos:\\n\",valores_exactos)\n",
        "print(\"Valores aproximados:\\n\",yy)\n",
        "print(\"Error:\\n\",abs(valores_exactos-yy))"
      ],
      "metadata": {
        "colab": {
          "base_uri": "https://localhost:8080/"
        },
        "id": "lnQWSw-0PNyA",
        "outputId": "b0971a07-2f55-496d-8037-29cec3a46f46"
      },
      "execution_count": null,
      "outputs": [
        {
          "output_type": "stream",
          "name": "stdout",
          "text": [
            "Valores exactos:\n",
            " [1 1.01342261860434 1.02702540389888 1.04081077419239 1.05478118025366\n",
            " 1.06893910574725 1.08328706767496 1.09782761682338 1.11256333821731\n",
            " 1.12749685157938 1.14263081179572 1.15796790938803 1.17351087099181\n",
            " 1.18926245984118 1.20522547626009 1.22140275816017 1.23779718154525\n",
            " 1.25441166102266 1.27124915032140 1.28831264281726 1.30560517206495\n",
            " 1.32312981233744 1.34088967917248 1.35888792992651 1.37712776433596\n",
            " 1.39561242508609 1.41434519838750 1.43332941456034 1.45256844862637\n",
            " 1.47206572090898 1.49182469764127 1.51184889158225 1.53214186264135\n",
            " 1.55270721851134 1.57354861530962 1.59466975822832 1.61607440219289\n",
            " 1.63776635252977 1.65974946564280 1.68202764969889 1.70460486532275\n",
            " 1.72748512630109 1.75067250029610 1.77417110956869 1.79798513171127\n",
            " 1.82211880039051 1.84657640609995 1.87136229692281 1.89648087930495\n",
            " 1.92193661883829 1.94773404105468 1.97387773223045 2.00037234020178\n",
            " 2.02722257519099 2.05443321064389 2.08200908407846 2.10995509794482\n",
            " 2.13827622049682 2.16697748667528 2.19606399900312 2.22554092849247\n",
            " 2.25541351556398 2.28568707097847 2.31636697678109 2.34745868725812\n",
            " 2.37896772990663 2.41089970641721 2.44326029366977 2.47605524474283\n",
            " 2.50929038993630 2.54297163780795 2.57710497622391 2.61169647342312\n",
            " 2.64675227909618 2.68227862547867 2.71828182845905]\n",
            "Valores aproximados:\n",
            " [1.         1.01333333 1.02684444 1.0405357  1.05440951 1.06846831\n",
            " 1.08271455 1.09715074 1.11177942 1.12660315 1.14162452 1.15684618\n",
            " 1.1722708  1.18790108 1.20373976 1.21978962 1.23605348 1.25253419\n",
            " 1.26923465 1.28615778 1.30330655 1.32068397 1.33829309 1.356137\n",
            " 1.37421882 1.39254174 1.41110897 1.42992375 1.4489894  1.46830926\n",
            " 1.48788672 1.50772521 1.52782821 1.54819925 1.56884191 1.5897598\n",
            " 1.6109566  1.63243602 1.65420183 1.67625786 1.69860796 1.72125607\n",
            " 1.74420615 1.76746223 1.79102839 1.81490877 1.83910756 1.86362899\n",
            " 1.88847738 1.91365708 1.9391725  1.96502814 1.99122851 2.01777823\n",
            " 2.04468194 2.07194436 2.09957029 2.12756456 2.15593208 2.18467784\n",
            " 2.21380688 2.24332431 2.2732353  2.3035451  2.33425904 2.36538249\n",
            " 2.39692092 2.42887987 2.46126493 2.4940818  2.52733622 2.56103404\n",
            " 2.59518116 2.62978358 2.66484736 2.70037866]\n",
            "Error:\n",
            " [0 8.92852710090430e-5 0.000180959454438190 0.000275070488684470\n",
            " 0.000371667167243350 0.000470799153007739 0.000572516992796812\n",
            " 0.000676872132118644 0.000783916930169770 0.000893704675072993\n",
            " 0.00100628959936255 0.00112172689571532 0.00124007273293469\n",
            " 0.00136138427218935 0.00148571968351319 0.00161313816256836\n",
            " 0.00174369994767631 0.00187746633712060 0.00201449970672707\n",
            " 0.00215486352772332 0.00229862238488465 0.00244584199496867\n",
            " 0.00259658922544315 0.00275093211351418 0.00290893988545560\n",
            " 0.00307068297624791 0.00323623304952880 0.00340566301786116\n",
            " 0.00357904706332368 0.00375646065842972 0.00393798058737693\n",
            " 0.00412368496763560 0.00431365327188082 0.00450796635026940\n",
            " 0.00470670645307569 0.00490995725368082 0.00511780387193017\n",
            " 0.00533033289786000 0.00554763241580014 0.00576979202885797\n",
            " 0.00599690288379118 0.00622905769627247 0.00646635077655544\n",
            " 0.00670887805554687 0.00695673711128864 0.00721002719586128\n",
            " 0.00746884926270996 0.00773330599440381 0.00800350183083309\n",
            " 0.00827954299784994 0.00856153753636346 0.00884959533189100\n",
            " 0.00914382814457726 0.00944434963968588 0.00975127541857068\n",
            " 0.0100647230501338 0.0103848121027847 0.0107116641768918\n",
            " 0.0110454029377567 0.0113861541490956 0.0117340457070547\n",
            " 0.0120892076747574 0.0124517723173962 0.0128218741378689\n",
            " 0.0131996499129858 0.0135852387302333 0.0139787820251231\n",
            " 0.0143804236191221 0.0147903097581765 0.0152085891518463\n",
            " 0.0156354130130434 0.0160709350984014 0.0165153117492678\n",
            " 0.0169687019333482 0.0174312672869927 0.0179031721581504]\n"
          ]
        }
      ]
    },
    {
      "cell_type": "markdown",
      "source": [
        "2. A partir de la implementación del algoritmo del método de Euler explícito, realice las modificaciones oportunas para obtener también las implementaciones correspondientes a los métodos de Euler mejorado (o del punto medio), así como del de Euler modificado (o de Heun)."
      ],
      "metadata": {
        "id": "wcJdHu1TPOjW"
      }
    },
    {
      "cell_type": "code",
      "source": [
        "def euler_mejorado(F,x0,y0,xfinal,N):\n",
        "    X = np.linspace(x0,xfinal,N+1)\n",
        "    Y = [y0]; h = (xfinal-x0)/N\n",
        "    for n in range(N):\n",
        "        Y.append(Y[n] + h*F(X[n] + h/2,Y[n] + (h/2)*F(X[n],Y[n])))\n",
        "    return np.array(X),np.array(Y)\n",
        "\n",
        "def euler_modificado(F,x0,y0,xfinal,N):\n",
        "    X = np.linspace(x0,xfinal,N+1)\n",
        "    Y = [y0]; h = (xfinal-x0)/N\n",
        "    for n in range(N):\n",
        "        Y.append(Y[n] + (h/2)*(F(X[n],Y[n])+F(X[n+1],Y[n]+h*F(X[n],Y[n]))))\n",
        "    return np.array(X),np.array(Y)"
      ],
      "metadata": {
        "id": "0SxHiC3hXfUw"
      },
      "execution_count": null,
      "outputs": []
    },
    {
      "cell_type": "code",
      "source": [
        "xx,yy_em=euler_mejorado(f,a,ya,b,N)\n",
        "xx,yy_emod=euler_modificado(f,a,ya,b,N)"
      ],
      "metadata": {
        "id": "nHJJyYETG7Bu"
      },
      "execution_count": null,
      "outputs": []
    },
    {
      "cell_type": "markdown",
      "source": [
        "**Ejercicios:**\n",
        "3. Realice varios experimentos numéricos, con diferentes valores de $N$, y compare y ratifique los órdenes de convergencia de los diferentes métodos vistos hasta el momento."
      ],
      "metadata": {
        "id": "Nadx5S0ml1dN"
      }
    },
    {
      "cell_type": "code",
      "source": [
        "def Taylor2(F,x0,y0,xfinal,N):\n",
        "  ''' método del método de Taylor de orden 2 para resolver el PVI\n",
        "    X,Y     = integrate(F,x0,y0,xfinal,N).\n",
        "    {y}'    = {F(x,{y})}, donde\n",
        "    {y}     = {y[0],y[1],...y[N-1]}.\n",
        "    x0,y0   = condiciones iniciales\n",
        "    xfinal  = valor final de la variable x\n",
        "    h       = incremento de x usado para la integración\n",
        "    F       = función suplida por el usuario que devuelve\n",
        "            el array F(x,y) = {y'[0],y'[1],...,y'[N-1]}.\n",
        "  '''\n",
        "\n",
        "  t, z = sp.symbols('t, z')\n",
        "\n",
        "  X = np.linspace(x0,xfinal,N+1)\n",
        "  Y = [y0]; h = (xfinal-x0)/N\n",
        "\n",
        "  def F1(t,z):\n",
        "      return F(t,z)\n",
        "\n",
        "  def F2(t,z):\n",
        "      return sp.diff(F(t,z),t) + sp.diff(F(t,z),z)*F1(t,z)\n",
        "\n",
        "  for n in range(N):\n",
        "      Y.append(Y[n]+h*F1(X[n],Y[n])+h**2/2*F2(t,z).subs({t:X[n],z:Y[n]}))\n",
        "  return np.array(X),np.array(Y)"
      ],
      "metadata": {
        "id": "CaXZl9mqknXr"
      },
      "execution_count": null,
      "outputs": []
    },
    {
      "cell_type": "code",
      "source": [
        "xx,yy_taylor2=Taylor2(f,a,ya,b,N)"
      ],
      "metadata": {
        "id": "k-DqZP0AH-pT"
      },
      "execution_count": null,
      "outputs": []
    },
    {
      "cell_type": "code",
      "source": [
        "# y ya estaría todo preparado para poder realizar la correspondiente\n",
        "fig, ax = plt.subplots(figsize=(6, 6))  # figura de Matplotlib\n",
        "#xx = np.linspace(a, b, N+1)\n",
        "ax.plot(xx, valores_exactos, label=\"sol. exacta\")\n",
        "ax.plot(xx, yy_em,'yo',label=\"EulerMejorado\")\n",
        "ax.plot(xx, yy_emod,'mo', label=\"EulerModificado\")\n",
        "ax.plot(xx, yy_taylor2,'co', label=\"Taylor2\")\n",
        "ax.set_title(r\"$%s$\" % sp.latex(sol_exacta), fontsize=18)\n",
        "ax.set_xlabel(r\"$t$\", fontsize=18)\n",
        "ax.set_ylabel(r\"$y$\", fontsize=18)\n",
        "ax.legend()\n",
        "\n",
        "fig.tight_layout()"
      ],
      "metadata": {
        "colab": {
          "base_uri": "https://localhost:8080/",
          "height": 607
        },
        "id": "HJJ-aWJMGUyl",
        "outputId": "f4c7eba0-a573-4de1-de13-b6598fd84102"
      },
      "execution_count": null,
      "outputs": [
        {
          "output_type": "display_data",
          "data": {
            "text/plain": [
              "<Figure size 600x600 with 1 Axes>"
            ],
            "image/png": "[encoded data removed]"
          },
          "metadata": {}
        }
      ]
    },
    {
      "cell_type": "markdown",
      "source": [
        "4. A partir de la implementación del algoritmo del método de Taylor de orden $p=2$, realice las modificaciones oportunas para obtener también una posible implementación correspondiente al método de Taylor de orden $p=3$."
      ],
      "metadata": {
        "id": "-5Ym1Jw1l9sx"
      }
    },
    {
      "cell_type": "code",
      "source": [
        "def Taylor3(F,x0,y0,xfinal,N):\n",
        "  ''' método del método de Taylor de orden 3 para resolver el PVI\n",
        "    X,Y     = integrate(F,x0,y0,xfinal,N).\n",
        "    {y}'    = {F(x,{y})}, donde\n",
        "    {y}     = {y[0],y[1],...y[N-1]}.\n",
        "    x0,y0   = condiciones iniciales\n",
        "    xfinal  = valor final de la variable x\n",
        "    h       = incremento de x usado para la integración\n",
        "    F       = función suplida por el usuario que devuelve\n",
        "            el array F(x,y) = {y'[0],y'[1],...,y'[N-1]}.\n",
        "  '''\n",
        "\n",
        "  t, z = sp.symbols('t, z')\n",
        "\n",
        "  X = np.linspace(x0,xfinal,N+1)\n",
        "  Y = [y0]; h = (xfinal-x0)/N\n",
        "\n",
        "  def F1(t,z):\n",
        "    return F(t,z)\n",
        "\n",
        "  def F2(t,z):\n",
        "    return sp.diff(F(t,z),t) + sp.diff(F(t,z),z)*F1(t,z)\n",
        "\n",
        "  def F3(t,z):\n",
        "    return sp.diff(F2(t,z),t) + sp.diff(F2(t,z),z)*F1(t,z)\n",
        "\n",
        "\n",
        "  for n in range(N):\n",
        "      Y.append(Y[n]+h*F1(X[n],Y[n]) + h**2/2*F2(t,z).subs({t:X[n],z:Y[n]}) + h**3/6*F3(t,z).subs({t:X[n], z:Y[n]}))\n",
        "  return np.array(X),np.array(Y)"
      ],
      "metadata": {
        "id": "19rq0oq3mXS1"
      },
      "execution_count": null,
      "outputs": []
    },
    {
      "cell_type": "code",
      "source": [
        "xx,yy=Taylor3(f,a,ya,b,N)\n",
        "#sol_exacta=sol_exacta(f,a,ya)\n",
        "valores_exactos = np.array([sol_exacta.subs({t:xx[n]}) for n in range(len(xx))])\n",
        "\n",
        "print(\"Valores exactos:\\n\",valores_exactos)\n",
        "print(\"Valores aproximados:\\n\",yy)\n",
        "print(\"Error:\\n\",abs(valores_exactos-yy))"
      ],
      "metadata": {
        "colab": {
          "base_uri": "https://localhost:8080/"
        },
        "id": "Hq_RQd5Nn2KC",
        "outputId": "b2669fb2-a167-4c41-ee7f-a14d9962708a"
      },
      "execution_count": null,
      "outputs": [
        {
          "output_type": "stream",
          "name": "stdout",
          "text": [
            "Valores exactos:\n",
            " [1 1.01342261860434 1.02702540389888 1.04081077419239 1.05478118025366\n",
            " 1.06893910574725 1.08328706767496 1.09782761682338 1.11256333821731\n",
            " 1.12749685157938 1.14263081179572 1.15796790938803 1.17351087099181\n",
            " 1.18926245984118 1.20522547626009 1.22140275816017 1.23779718154525\n",
            " 1.25441166102266 1.27124915032140 1.28831264281726 1.30560517206495\n",
            " 1.32312981233744 1.34088967917248 1.35888792992651 1.37712776433596\n",
            " 1.39561242508609 1.41434519838750 1.43332941456034 1.45256844862637\n",
            " 1.47206572090898 1.49182469764127 1.51184889158225 1.53214186264135\n",
            " 1.55270721851134 1.57354861530962 1.59466975822832 1.61607440219289\n",
            " 1.63776635252977 1.65974946564280 1.68202764969889 1.70460486532275\n",
            " 1.72748512630109 1.75067250029610 1.77417110956869 1.79798513171127\n",
            " 1.82211880039051 1.84657640609995 1.87136229692281 1.89648087930495\n",
            " 1.92193661883829 1.94773404105468 1.97387773223045 2.00037234020178\n",
            " 2.02722257519099 2.05443321064389 2.08200908407846 2.10995509794482\n",
            " 2.13827622049682 2.16697748667528 2.19606399900312 2.22554092849247\n",
            " 2.25541351556398 2.28568707097847 2.31636697678109 2.34745868725812\n",
            " 2.37896772990663 2.41089970641721 2.44326029366977 2.47605524474283\n",
            " 2.50929038993630 2.54297163780795 2.57710497622391 2.61169647342312\n",
            " 2.64675227909618 2.68227862547867 2.71828182845905]\n",
            "Valores aproximados:\n",
            " [1 1.01342261728395 1.02702540122265 1.04081077012416 1.05478117475655\n",
            " 1.06893909878362 1.08328705920645 1.09782760681083 1.11256332662081\n",
            " 1.12749683835820 1.14263079690835 1.15796789279210 1.17351085264415\n",
            " 1.18926243969776 1.20522545427600 1.22140273428962 1.23779715574156\n",
            " 1.25441163323824 1.27124912050774 1.28831261092487 1.30560513804340\n",
            " 1.32312977613532 1.34088964073738 1.35888788920501 1.37712772127361\n",
            " 1.39561237962738 1.41434515047586 1.43332936413811 1.45256839563479\n",
            " 1.47206566528815 1.49182463933016 1.51184883051866 1.53214179876190\n",
            " 1.55270715175142 1.57354854560344 1.59466968550879 1.61607432639169\n",
            " 1.63776627357726 1.65974938346805 1.68202756422962 1.70460477648533\n",
            " 1.72748503402049 1.75067240449589 1.77417101017102 1.79798502863682\n",
            " 1.82211869355849 1.84657629542805 1.87136218232720 1.89648076070024\n",
            " 1.92193649613749 1.94773391416920 1.97387760107007 2.00037220467459\n",
            " 2.02722243520339 2.05443306610057 2.08200893488233 2.10995494399702\n",
            " 2.13827606169667 2.16697732292026 2.19606383018882 2.22554075451257\n",
            " 2.25541333631022 2.28568688634063 2.31636678664693 2.34745849151335\n",
            " 2.37896752843489 2.41089949910002 2.44326008038650 2.47605502537069\n",
            " 2.50929016435024 2.54297140588069 2.57710473782586 2.61169622842235\n",
            " 2.64675202735840 2.68227836686716 2.71828156283463]\n",
            "Error:\n",
            " [0 1.32039179590038e-9 2.67623012639717e-9 4.06822797671680e-9\n",
            " 5.49711232089578e-9 6.96362256746852e-9 8.46851122560111e-9\n",
            " 1.00125441271359e-8 1.15965015368147e-8 1.32211765979662e-8\n",
            " 1.48873771088631e-8 1.65959250786329e-8 1.83476573933916e-8\n",
            " 2.01434251501098e-8 2.19840952109251e-8 2.38705490929192e-8\n",
            " 2.58036845224296e-8 2.77844149909612e-8 2.98136695331408e-8\n",
            " 3.18923938369409e-8 3.40215506877684e-8 3.62021197464202e-8\n",
            " 3.84350968829494e-8 4.07214966191560e-8 4.30623503522298e-8\n",
            " 4.54587081311075e-8 4.79116384344280e-8 5.04222277264432e-8\n",
            " 5.29915824554195e-8 5.56208277213699e-8 5.83111086083221e-8\n",
            " 6.10635892961398e-8 6.38794555030131e-8 6.67599124870577e-8\n",
            " 6.97061872667604e-8 7.27195275107562e-8 7.58012030921407e-8\n",
            " 7.89525049782469e-8 8.21747478951806e-8 8.54692676632851e-8\n",
            " 8.88374245278101e-8 9.22806018266442e-8 9.58002064344043e-8\n",
            " 9.93976698726584e-8 1.03074447865836e-7 1.06832021895542e-7\n",
            " 1.10671898090331e-7 1.14595609224111e-7 1.18604714050008e-7\n",
            " 1.22700797744457e-7 1.26885473239469e-7 1.31160380778539e-7\n",
            " 1.35527188582785e-7 1.39987593517077e-7 1.44543322200263e-7\n",
            " 1.49196128340634e-7 1.53947799397258e-7 1.58800149030469e-7\n",
            " 1.63755025539558e-7 1.68814306089615e-7 1.73979900708332e-7\n",
            " 1.79253752730091e-7 1.84637837463697e-7 1.90134163080558e-7\n",
            " 1.95744773279216e-7 2.01471745953086e-7 2.07317193634537e-7\n",
            " 2.13283266159436e-7 2.19372146226249e-7 2.25586058277827e-7\n",
            " 2.31927260063713e-7 2.38398050633748e-7 2.45000764564907e-7\n",
            " 2.51737778622640e-7 2.58611508652251e-7 2.65624410911158e-7]\n"
          ]
        }
      ]
    },
    {
      "cell_type": "markdown",
      "source": [
        "5. Repita las aproximaciones anteriores con diferentes valores de $N$ (y por tanto de $h$) y compruebe el efecto en cuanto a mayor o menor precisión, estabilidad y coste computacional"
      ],
      "metadata": {
        "id": "XC3YLGMGrwln"
      }
    },
    {
      "cell_type": "code",
      "source": [
        "def Runge_Kutta4(F,x0,y0,xfinal,N):\n",
        "\n",
        "    def RK4(F,xn,yn,h):\n",
        "        K1 = F(xn,yn)\n",
        "        K2 = F(xn + h/2, yn + K1*h/2)\n",
        "        K3 = F(xn + h/2, yn + K2*h/2)\n",
        "        K4 = F(xn + h  , yn + K3*h)\n",
        "        return (K1 + 2*K2 + 2*K3 + K4)/6\n",
        "\n",
        "    X = np.linspace(x0,xfinal,N+1)\n",
        "    Y = [y0]; h = (xfinal-x0)/N\n",
        "    for n in range(N):\n",
        "        Y.append( Y[n] + h*RK4(F,X[n],Y[n],h) )\n",
        "    return np.array(X),np.array(Y)"
      ],
      "metadata": {
        "id": "xjqAMEzKrlqz"
      },
      "execution_count": null,
      "outputs": []
    },
    {
      "cell_type": "markdown",
      "source": [
        "6. A partir de la implementación del algoritmo del método de Runge-Kutta de 4 evaluaciones, realice las modificaciones oportunas para intentar obtener también las implementaciones correspondientes a otros muchos métodos de tipo Runge-Kutta, tanto explícitos como implícitos, a partir del correspondiente arreglo de Butcher."
      ],
      "metadata": {
        "id": "0YYW9gllrwtP"
      }
    },
    {
      "cell_type": "code",
      "source": [
        "class Butcher: #clase para los arreglos de Butcher\n",
        "    def __init__(self,a,b,c): #Constructor\n",
        "        self.a = a\n",
        "        self.b = b\n",
        "        self.c = c\n",
        "\n",
        "    def __repr__(self): #Representacion\n",
        "        s = ''\n",
        "        for i in range(len(self.a)):\n",
        "            s += \"{: >6} │ \".format(str(self.c[i])[:6])\n",
        "            for j in range(len(self.a)):\n",
        "                s += \"{: >6} \".format(str(self.a[i][j])[:6])\n",
        "            s += '\\n'\n",
        "        s += \"───────┼─\"\n",
        "        for i in range(len(self.a)):\n",
        "            s += \"───────\"\n",
        "        s += \"\\n       │ \"\n",
        "        for i in range(len(self.a)):\n",
        "            s += \"{: >6} \".format(str(self.b[i])[:6])\n",
        "        return s\n",
        "\n",
        "    @classmethod #Decorator para metodo de clase\n",
        "    def create_matrix(self, matrix):\n",
        "        a = []\n",
        "        b = []\n",
        "        c = []\n",
        "\n",
        "        for i in range(len(matrix)-1):\n",
        "            c.append(matrix[i][0])\n",
        "            b.append(matrix[len(matrix)-1][i+1])\n",
        "            v = []\n",
        "\n",
        "            for j in range(len(matrix)-1):\n",
        "                v.append(matrix[i][j+1])\n",
        "            a.append(v)\n",
        "        return Butcher(a,b,c)\n",
        "\n",
        "    def is_explicit(self):\n",
        "        explicit = True\n",
        "        for i in range(len(self.a)):\n",
        "            for j in range(i+1, len(self.a)):\n",
        "                if self.a[i][j] != 0:\n",
        "                    explicit = False\n",
        "        return explicit\n",
        "\n",
        "\n",
        "def RK_Butcher(F,x0,y0,xfinal,butcher,N):\n",
        "  ''' método Runge-Kutta explícito para resolver el PVI a partir de un arreglo de Butcher dado\n",
        "    X, Y    = integrate(F,x0,y0,xfinal,N)\n",
        "    {y}'    = {F(x,{y})}, donde\n",
        "    {y}     = {y[0],y[1],...,y[N-1]}\n",
        "    x0,y0   = condiciones iniciales\n",
        "    xfinal  = valor final de la variable x\n",
        "    h       = incremento de x usado para la integración\n",
        "    F       = función dada por el usuario que devuelve el\n",
        "            array F(x,y)={y'[0], y'[1],...,yy'[N-1]}\n",
        "    butcher = arreglo de Butcher para el método\n",
        "  '''\n",
        "\n",
        "  if ( butcher.is_explicit() ):\n",
        "      def phi(F,x0,y0,h,butcher):\n",
        "          tam = len(butcher.a)\n",
        "          k0 = F(x0,y0)\n",
        "          k = np.array([k0])\n",
        "\n",
        "          for i in range(1, tam):\n",
        "              kx = 0\n",
        "              for j in range(i):\n",
        "                  kx += k[j] * butcher.a[i][j]\n",
        "              k = np.append(k, F(x0 + h*butcher.c[i], y0 + h*kx))\n",
        "\n",
        "          return np.dot(butcher.b, k)\n",
        "\n",
        "\n",
        "      X = np.linspace(x0,xfinal,N+1)\n",
        "      Y = [y0]; h = (xfinal-x0)/N\n",
        "\n",
        "      for n in range(N):\n",
        "          Y.append( Y[n] + h*phi(F,X[n],Y[n],h, butcher) )\n",
        "\n",
        "      return np.array(X),np.array(Y)\n",
        "  else:\n",
        "      print(\"Debe tratarse de un método implícito\")\n",
        "      return None"
      ],
      "metadata": {
        "id": "7kiRfEx6sXQO"
      },
      "execution_count": null,
      "outputs": []
    },
    {
      "cell_type": "markdown",
      "source": [
        "7. A partir de la implementación del algoritmo del método de Adams-Bashforth anterior, realice las modificaciones oportunas para intentar obtener también las implementaciones correspondientes a otros muchos métodos de tipo Adams, como Adams-Moulton (AM), Milne-Simpson, Nyström y/o Newton-Cotes."
      ],
      "metadata": {
        "id": "NNLs91j04aoD"
      }
    },
    {
      "cell_type": "code",
      "source": [
        "def Adams_Bashford2(F,x0,y0,xfinal,N):\n",
        "\n",
        "  ''' Método de Adams-Bashforth (con k = 2) para resolver\n",
        "  el problema de valores iniciales {y}' = {F(x,{y})},\n",
        "  donde    {y} = {y[0],y[1],...y[N-1]}.\n",
        "  X,Y    = integrate(F,x0,y0,xfinal,N).\n",
        "  x0,y0  = condiciones iniciales\n",
        "  xfinal = valor final de x\n",
        "  N      = número de subintervalos de la partición\n",
        "  h      = incremento de x usado en la integración\n",
        "  F      = función suplida por el usuario que devuelve el\n",
        "          array F(x,y) = {y'[0],y'[1],...,y'[N-1]}.\n",
        "  '''\n",
        "\n",
        "  def AB2(F,x0,y0,y1,h):\n",
        "      return (3*F(x0+h,y1)-F(x0,y0))/2\n",
        "\n",
        "  X = np.linspace(x0,xfinal,N+1)\n",
        "  h = (xfinal-x0)/N\n",
        "  y1 = y0 + h*F(x0,y0); Y = [y0,y1]\n",
        "  for n in range(N-1):\n",
        "      Y.append(Y[n+1] + h*AB2(F,X[n],Y[n],Y[n+1],h))\n",
        "  return np.array(X),np.array(Y)"
      ],
      "metadata": {
        "id": "Dbenopvv4Zxz"
      },
      "execution_count": null,
      "outputs": []
    },
    {
      "cell_type": "code",
      "source": [
        "def Adams_Moulton(F,x0,y0,xfinal,N):\n",
        "  ''' Método de Adams-Moulton q=1, m=0, r=0 (con k = 1) para resolver\n",
        "  el problema de valores iniciales\n",
        "  {y}'    = {F(x,{y})}, donde\n",
        "  {y}     = {y[0],y[1],...y[N-1]}.\n",
        "  X,Y     = integrate(F,x0,y0,xfinal,N).\n",
        "  x0,y0   = condiciones iniciales\n",
        "  xfinal  = valor final de x\n",
        "  N       = número de subintervalos de la partición\n",
        "  h       = incremento de x usado en la integración\n",
        "  F       = función suplida por el usuario que devuelve el\n",
        "          array F(x,y) = {y'[0],y'[1],...,y'[N-1]}.\n",
        "  '''\n",
        "  def AM(F,x0,y0,t,h):\n",
        "      return 1/2*(F(x0,y0)+F(x0+h,t))\n",
        "\n",
        "  X = np.linspace(x0,xfinal,N+1)\n",
        "  h = (xfinal-x0)/N\n",
        "#Definimos una variable simbolica para resolver la ecuacion\n",
        "  t = sp.Symbol('t')\n",
        "  Y = [y0]\n",
        "  for n in range(N):\n",
        "      Y.append(sp.solve(Y[n]+h*AM(F,X[n],Y[n],t,h)-t,t)[0])\n",
        "  return np.array(X),np.array(Y)"
      ],
      "metadata": {
        "id": "Lsizcj_947ud"
      },
      "execution_count": null,
      "outputs": []
    },
    {
      "cell_type": "code",
      "source": [
        "def Milne_Simpson(F,x0,y0,xfinal,N):\n",
        "  ''' Método de Milne-simpson (q=2, m=0, r=0) para resolver\n",
        "  el problema de valores iniciales {y}' = {F(x,{y})},\n",
        "  donde\n",
        "  {y}     = {y[0],y[1],...y[N-1]}.\n",
        "  X,Y     = integrate(F,x0,y0,xfinal,N).\n",
        "  x0,y0   = condiciones iniciales\n",
        "  xfinal  = valor final de x\n",
        "  N       = número de subintervalos de la partición\n",
        "  h       = incremento de x usado en la integración\n",
        "  F       = función suplida por el usuario que devuelve el\n",
        "          array F(x,y) = {y'[0],y'[1],...,y'[N-1]}.\n",
        "  '''\n",
        "  def MS(F,x0,y0,y1,y2,h):\n",
        "      return (F(x0,y0)+4*F(x0+h,y1)+F(x0+2*h,y2))/3\n",
        "\n",
        "  X = np.linspace(x0,xfinal,N+1)\n",
        "  h = (xfinal-x0)/N\n",
        "  #Definimos una variable simbolica para resolver la ecuacion\n",
        "  t = sp.Symbol('t')\n",
        "  y1 = y0 + h*F(x0,y0);\n",
        "  Y = [y0,y1]\n",
        "  for n in range(N-1):\n",
        "      Y.append(sp.solve(Y[n]+h*MS(F,X[n],Y[n],Y[n+1],t,h)-t,t)[0])\n",
        "  return np.array(X),np.array(Y)"
      ],
      "metadata": {
        "id": "OPlIcjWv474U"
      },
      "execution_count": null,
      "outputs": []
    },
    {
      "cell_type": "code",
      "source": [
        "def Nystrom(F,x0,y0,xfinal,N):\n",
        "  ''' Método de Nystrom (q=2, m=0, r>=0) para r=1 y k=2 para resolver\n",
        "  el problema de valores iniciales\n",
        "  {y}'    = {F(x,{y})}, donde\n",
        "  {y}     = {y[0],y[1],...y[N-1]}.\n",
        "  X,Y     = integrate(F,x0,y0,xfinal,N).\n",
        "  x0,y0   = condiciones iniciales\n",
        "  xfinal  = valor final de x\n",
        "  N       = número de subintervalos de la partición\n",
        "  h       = incremento de x usado en la integración\n",
        "  F       = función suplida por el usuario que devuelve el\n",
        "          array F(x,y) = {y'[0],y'[1],...,y'[N-1]}.\n",
        "  '''\n",
        "  def Nys(F,x0,y1,h):\n",
        "      return 2*F(x0+h,y1)\n",
        "\n",
        "  X = np.linspace(x0,xfinal,N+1)\n",
        "  h = (xfinal-x0)/float(N)\n",
        "  y1 = y0 + h*F(x0,y0); Y = [y0,y1]\n",
        "  for n in range(N-1):\n",
        "      Y.append(Y[n] + h*Nys(F,X[n],Y[n+1],h))\n",
        "  return np.array(X),np.array(Y)"
      ],
      "metadata": {
        "id": "8bI90kr748Ed"
      },
      "execution_count": null,
      "outputs": []
    },
    {
      "cell_type": "code",
      "source": [
        "def Newton_Cotes(F,x0,y0,xfinal,N):\n",
        "  ''' Método de NewtonCotes (q=k, m=r) para m=r=0 y k=1 para resolver\n",
        "  el problema de valores iniciales\n",
        "  {y}'    = {F(x,{y})}, donde\n",
        "  {y}     = {y[0],y[1],...y[N-1]}.\n",
        "  X,Y     = integrate(F,x0,y0,xfinal,N).\n",
        "  x0,y0   = condiciones iniciales\n",
        "  xfinal  = valor final de x\n",
        "  N       = número de subintervalos de la partición\n",
        "  h       = incremento de x usado en la integración\n",
        "  F       = función suplida por el usuario que devuelve el\n",
        "          array F(x,y) = {y'[0],y'[1],...,y'[N-1]}.\n",
        "  '''\n",
        "  def NC(F,x0,y0,y1,h):\n",
        "      return (F(x0,y0) + F(x0+h,y1))/2\n",
        "  X = np.linspace(x0,xfinal,N+1)\n",
        "  h = (xfinal-x0)/N\n",
        "  t = sp.Symbol('t')\n",
        "  Y = [y0]\n",
        "  for n in range(N):\n",
        "      Y.append(sp.solve(Y[n]+h*NC(F,X[n],Y[n],t,h)-t,t)[0])\n",
        "  return np.array(X),np.array(Y)"
      ],
      "metadata": {
        "id": "oA-YvIsd8OlK"
      },
      "execution_count": null,
      "outputs": []
    },
    {
      "cell_type": "markdown",
      "source": [
        "8. Intente la implementación del algoritmo de tipo Predictor-Corrector anterior, o cualquier otro adecuado, eligiendo convenientemente los otros métodos necesarios para proporcionar los valores previos necesarios."
      ],
      "metadata": {
        "id": "pZ-Bs-J99q3y"
      }
    },
    {
      "cell_type": "code",
      "source": [
        "def ABM5(F,x0,y0,xfinal,N):\n",
        "  ''' Método predictor-corrector Adams-Bashforth-Moulton de orden 5 para resolver el PVI\n",
        "  {y}'    = F(x,{y}), donde\n",
        "  {y}     = {y[0],y[1],...,y[N-1]}\n",
        "  X,Y     = integrate(F,x0,y0,xfinal,N)\n",
        "  x0,y0   = condiciones iniciales\n",
        "  xfinal  = valor final de x\n",
        "  N       = número de subintervalos de la partición\n",
        "  h       = incremento de x usado en la integración\n",
        "  F       = función suplida por el usuario que devuelve el\n",
        "          array F(x,y) = {y'[0],y'[1],...,y'[N-1]}\n",
        "  '''\n",
        "\n",
        "  h = (xfinal-x0)/N\n",
        "  X = np.linspace(x0,xfinal,N+1)\n",
        "  Y = np.zeros(N+1)\n",
        "\n",
        "  # usaremos alguno de los métodos de un paso vistos anteriormente para calcular las semillas\n",
        "  # en este caso volveremos a usar Euler explicito para x_1,...,x_4\n",
        "  _, Y[0:5] = euler_explicito(F,x0,y0,x0+4*h,4)\n",
        "\n",
        "  K1 = F(X[4],Y[4])\n",
        "  K2 = F(X[3],Y[3])\n",
        "  K3 = F(X[2],Y[2])\n",
        "  K4 = F(X[1],Y[1])\n",
        "  k5 = F(X[0],Y[0])\n",
        "  for i in range(4,N):\n",
        "    K5 = K4\n",
        "    K4 = K3\n",
        "    K3 = K2\n",
        "    K2 = K1\n",
        "    K1 = F(X[i],Y[i])\n",
        "    # predictor\n",
        "    Y[i+1] = Y[i] + h*(1901*K1-2774*K2+2616*K3-1274*K4+251*K5)/720\n",
        "    K0 = F(X[i+1],Y[i+1])\n",
        "    # corrector\n",
        "    Y[i+1] = Y[i] + h*(251*K0+646*K1-264*K2+106*K3-19*K4)/720\n",
        "\n",
        "  return np.array(X),np.array(Y)"
      ],
      "metadata": {
        "id": "J8bwpt3I-WU1"
      },
      "execution_count": null,
      "outputs": []
    },
    {
      "cell_type": "code",
      "source": [
        "xx,yy_abm5=ABM5(f,a,ya,b,N)"
      ],
      "metadata": {
        "id": "FMRQsBTZI1Hf"
      },
      "execution_count": null,
      "outputs": []
    },
    {
      "cell_type": "code",
      "source": [
        "# y ya estaría todo preparado para poder realizar la correspondiente\n",
        "fig, ax = plt.subplots(figsize=(6, 6))  # figura de Matplotlib\n",
        "#xx = np.linspace(a, b, 100)\n",
        "ax.plot(xx, valores_exactos, label=\"sol. exacta\")\n",
        "ax.plot(xx, yy_abm5,'yo',label=\"ABM5\")\n",
        "ax.set_title(r\"$%s$\" % sp.latex(sol_exacta), fontsize=18)\n",
        "ax.set_xlabel(r\"$t$\", fontsize=18)\n",
        "ax.set_ylabel(r\"$y$\", fontsize=18)\n",
        "ax.legend()\n",
        "\n",
        "fig.tight_layout()"
      ],
      "metadata": {
        "colab": {
          "base_uri": "https://localhost:8080/",
          "height": 607
        },
        "id": "TcAUiwAvIuDD",
        "outputId": "b2301416-0cbe-4d24-c5f8-d7b70145e91f"
      },
      "execution_count": null,
      "outputs": [
        {
          "output_type": "display_data",
          "data": {
            "text/plain": [
              "<Figure size 600x600 with 1 Axes>"
            ],
            "image/png": "[encoded data removed]"
          },
          "metadata": {}
        }
      ]
    },
    {
      "cell_type": "markdown",
      "source": [
        "Otros métodos útiles:"
      ],
      "metadata": {
        "id": "DGV8ITqv7Tpx"
      }
    },
    {
      "cell_type": "code",
      "source": [
        "def Adams_Bashford3(F,x0,y0,xfinal,N):\n",
        "\n",
        "  ''' Método de Adams-Bashforth (con k = 3) para resolver\n",
        "  el problema de valores iniciales {y}' = {F(x,{y})},\n",
        "  donde    {y} = {y[0],y[1],...y[N-1]}.\n",
        "  X,Y    = integrate(F,x0,y0,xfinal,N).\n",
        "  x0,y0  = condiciones iniciales\n",
        "  xfinal = valor final de x\n",
        "  N      = número de subintervalos de la partición\n",
        "  h      = incremento de x usado en la integración\n",
        "  F      = función suplida por el usuario que devuelve el\n",
        "          array F(x,y) = {y'[0],y'[1],...,y'[N-1]}.\n",
        "  '''\n",
        "\n",
        "  def AB3(F,x0,y0,y1,y2,h):\n",
        "      return (23*F(x0+2*h,y2)-16*F(x0+h,y1) + 5*F(x0,y0))/12\n",
        "\n",
        "  X = np.linspace(x0,xfinal,N+1)\n",
        "  h = (xfinal-x0)/N\n",
        "  y1 = y0 + h*F(x0,y0)\n",
        "  y2 = y1 + h*(3*F(x0+h,y1)-F(x0,y0))/2\n",
        "  Y = [y0,y1,y2]\n",
        "  for n in range(N-2):\n",
        "      Y.append(Y[n+2] + h*AB3(F,X[n],Y[n],Y[n+1],Y[n+2],h))\n",
        "  return np.array(X),np.array(Y)"
      ],
      "metadata": {
        "id": "ZZDMRvfR7TVu"
      },
      "execution_count": null,
      "outputs": []
    },
    {
      "cell_type": "code",
      "source": [
        "def ABM3(F,x0,y0,xfinal,N):\n",
        "\n",
        "  ''' Método predictor-corrector Adams-Bashforth-Moulton de orden 3 para resolver el PVI\n",
        "  {y}'    = F(x,{y}), donde\n",
        "  {y}     = {y[0],y[1],...,y[N-1]}\n",
        "  X,Y     = integrate(F,x0,y0,xfinal,N)\n",
        "  x0,y0   = condiciones iniciales\n",
        "  xfinal  = valor final de x\n",
        "  N       = número de subintervalos de la partición\n",
        "  h       = incremento de x usado en la integración\n",
        "  F       = función suplida por el usuario que devuelve el\n",
        "          array F(x,y) = {y'[0],y'[1],...,y'[N-1]}\n",
        "  '''\n",
        "\n",
        "  h = (xfinal-x0)/N\n",
        "  X = np.linspace(x0,xfinal,N+1)\n",
        "  Y = np.zeros(N+1)\n",
        "\n",
        "  # usaremos alguno de los métodos de un paso vistos anteriormente para calcular las semillas\n",
        "  # en este caso volveremos a usar Euler explicito para x_1,...,x_4\n",
        "  _, Y[0:3] = eulerexplicito(F,x0,y0,x0+2*h,2)\n",
        "\n",
        "  K1 = F(X[1],Y[1])\n",
        "  K2 = F(X[0],Y[0])\n",
        "  for i in range(2,N):\n",
        "      K3 = K2\n",
        "      K2 = K1\n",
        "      K1 = F(X[i],Y[i])\n",
        "      # predictor\n",
        "      Y[i+1] = Y[i] + h*(23*K1-16*K2+5*K3)/12\n",
        "      K0 = F(X[i+1],Y[i+1])\n",
        "      # corrector\n",
        "      Y[i+1] = Y[i] + h*(9*K0+19*K1-5*K2+K3)/24\n",
        "  return np.array(X),np.array(Y)"
      ],
      "metadata": {
        "id": "oYPEf9u192Up"
      },
      "execution_count": null,
      "outputs": []
    }
  ]
}