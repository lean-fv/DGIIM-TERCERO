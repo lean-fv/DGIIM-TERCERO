{
  "cells": [
    {
      "cell_type": "markdown",
      "metadata": {
        "id": "PHdDAjTb-myi"
      },
      "source": [
        "# Fórmulas de Derivación e Integración Numérica"
      ]
    },
    {
      "cell_type": "markdown",
      "metadata": {
        "id": "QAEYEgWZ-myk"
      },
      "source": [
        "Autor: Pedro González Rodelas\n",
        "\n",
        "Fecha de la primera versión: 08/09/2017\n",
        "\n",
        "Sucesivas revisiones: 22/09/2017, 12,19/09/2018, 29/03 y 6, 20/04/2020\n",
        "\n",
        "Fecha de la última revisión: 24/04/2023\n",
        "\n",
        "Estructura del notebook y algunos ejemplos tomados o adaptados de los libros:\n",
        "\n",
        "- \"Numerical Python: A Practical Techniques Approach for Industry\" de Robert Johansson. Edit. Apress (2015) con ISBN-13 (electronic): 978-1-4842-0553-2\n",
        "- \"Numerical Methods in Engineering with Python 3\" de Jaan Kiusalaas. Edit Cambridge Univ. Press (2013) con ISBN: 978-1-107-03385-6\n",
        "- \"Análisis Numérico con Mathematica\" de V. Ramírez, D. Barrera, M. Pasadas y P. González. Edit. Ariel Ciencia (2001) con ISBN: 84-344-8036-0. Dep. Legal: B.31.425-2001"
      ]
    },
    {
      "cell_type": "markdown",
      "metadata": {
        "id": "uA08O0dB-myk"
      },
      "source": [
        "En esta práctica nos ocuparemos de los métodos y algoritmos habituales para la derivación y la integración numéricas. Fundamentalmente nos centraremos en las fórmulas de tipo interpolatorio, que asumen que derivaremos o integraremos el correspondiente polinomio que interpole a la función en los nodos usados en la fórmula. En particular destacaremos las fórmulas que usan nodos equidistantes para la derivación aproximada, y revisaremos las fórmulas de integración numérica de Newton-Cotes más habituales (de los rectángulos, trapecios, Simpson, etc.), tanto en su versión simple como en sus versiones compuestas. También se presentarán fórmulas algo más avanzadas, como la integración de Romberg y las fórmulas de cuadratura gaussiana."
      ]
    },
    {
      "cell_type": "markdown",
      "metadata": {
        "id": "aCPPwZLn-myl"
      },
      "source": [
        "## Carga de los módulos y Definición de ciertas funciones empleadas"
      ]
    },
    {
      "cell_type": "code",
      "execution_count": null,
      "metadata": {
        "id": "J3O9N3ma-myl"
      },
      "outputs": [],
      "source": [
        "# Cargando el fichero version_information.py\n",
        "# alojado el directorio de trabajo actual\n",
        "# podremos comprobar las versiones concretas\n",
        "# tanto del intérprete de Python, como de los\n",
        "# módulos empleados.\n",
        "\n",
        "#%reload_ext version_information\n",
        "\n",
        "#%version_information numpy, matplotlib, sympy, scipy"
      ]
    },
    {
      "cell_type": "markdown",
      "metadata": {
        "id": "yJBGYE6Y-mym"
      },
      "source": [
        "Antes de empezar a realizar cualquier cálculo numérico o simbólico debemos de cargar los correspondientes módulos de Python que implementan la mayoría de funciones y procedimientos necesarios para ello: NumPy y SymPy, que serán cargados con los pseudónimos habituales: np y sp, respectivamente. Además cargaremos la función del módulo random que nos permitirá generar números aleatorios, cada vez que los necesitemos."
      ]
    },
    {
      "cell_type": "code",
      "execution_count": null,
      "metadata": {
        "id": "BEWbqjJe-mym"
      },
      "outputs": [],
      "source": [
        "import numpy as np # Importamos el módulo NumPy con el pseudónimo np\n",
        "import sympy as sp # Importamos el módulo SymPy con el pseudónimo sp\n",
        "# sp.init_printing() # con esta opción obtendremos bonitas fórmulas en la pantalla\n",
        "# pero en las últimas versiones de Python parece ser que no hace falta indicarlo"
      ]
    },
    {
      "cell_type": "code",
      "execution_count": null,
      "metadata": {
        "id": "cFha8R2--myn"
      },
      "outputs": [],
      "source": [
        "# Aquí importaremos dentro del módulo de gráficos Matplotlib el submódulo\n",
        "import matplotlib.pyplot as plt  #  Pyplot con el pseudónimo plt\n",
        "# usaremos una opción para poder visualizar los gráficos incrustados\n",
        "#  en línea dentro de este mismo notebook\n",
        "%matplotlib inline"
      ]
    },
    {
      "cell_type": "code",
      "execution_count": null,
      "metadata": {
        "id": "YIhKUXPb-myn"
      },
      "outputs": [],
      "source": [
        "from random import random\n",
        "# Importamos la función generadora de números pseudoaleatorios"
      ]
    },
    {
      "cell_type": "markdown",
      "metadata": {
        "id": "TUY0dzy4-myn"
      },
      "source": [
        "También definiremos cierta función propia, `mychop`, que nos permitirá cambiar por $0$ cualquier valor bastante pequeño que obtengamos, después de ciertos cálculos que involucren errores de redondeo, propios del cálculo con números en coma flotante. A su vez usaremos una versión vectorizada de la misma, que podremos aplicar a cualquier lista, tupla o array con valores numéricos en coma flotante."
      ]
    },
    {
      "cell_type": "code",
      "execution_count": null,
      "metadata": {
        "id": "EQjWLfP0-myn"
      },
      "outputs": [],
      "source": [
        "def mychop(expr, *, max=10**(-15)):\n",
        "    if abs(expr) > max:\n",
        "      return expr\n",
        "    else:\n",
        "      return 0"
      ]
    },
    {
      "cell_type": "code",
      "execution_count": null,
      "metadata": {
        "id": "IAkfhWp1-myo"
      },
      "outputs": [],
      "source": [
        "chop_vec = np.vectorize(mychop)"
      ]
    },
    {
      "cell_type": "code",
      "execution_count": null,
      "metadata": {
        "id": "94fbDa2i-myo",
        "colab": {
          "base_uri": "https://localhost:8080/"
        },
        "outputId": "133e7f01-3e84-4c3d-e743-6dfbb14dfb58"
      },
      "outputs": [
        {
          "output_type": "execute_result",
          "data": {
            "text/plain": [
              "array([1.e-14, 0.e+00, 0.e+00])"
            ]
          },
          "metadata": {},
          "execution_count": 7
        }
      ],
      "source": [
        "chop_vec([10**(-14),10**(-15),10**(-16)])"
      ]
    },
    {
      "cell_type": "markdown",
      "metadata": {
        "id": "lZIPcvQI-myo"
      },
      "source": [
        "## Obtención de fórmulas de tipo interpolatorio"
      ]
    },
    {
      "cell_type": "markdown",
      "metadata": {
        "id": "ZNKdv_2h-myo"
      },
      "source": [
        "Para obtener fórmulas de derivación o integración numéricas a partir de la interpolación polinómica necesitamos calcular, en primer lugar, el polinomio de interpolación y después la derivada correspondiente en un punto $a$ o la integral en un intervalo $[a,b]$. En lo que respecta a la derivación numérica, consideraremos distintos órdenes de derivación. Los datos de interpolación para las fórmulas de derivación numérica podrán ser lagrangianos fundamentalmente, aunque para las fórmulas de integración numérica también podrían ser de tipo Hermite. Así pues la idea detrás de todas estas fórmulas de tipo interpolatorio será la de obtener en primer lugar el correspondiente polinomio interpolador (satisfaciendo los datos indicados) y posteriormente aplicarle la derivada o integral a dicho polinomio en vez de a la función, para obtener así la correspondiente fórmula numérica. Es decir $$\\mathcal{L}(f)\\simeq\\mathcal{L}(p) $$\n",
        "donde $p$ es el polinomio que interpola a $f$ en los datos concretos indicados."
      ]
    },
    {
      "cell_type": "markdown",
      "metadata": {
        "id": "D1rGRNW1-myo"
      },
      "source": [
        "### Obtención de fórmulas de derivación numérica"
      ]
    },
    {
      "cell_type": "markdown",
      "metadata": {
        "id": "l0areJ85-myo"
      },
      "source": [
        "En las fórmulas de derivación numérica, los nodos que intervienen, es decir los puntos de interpolación de la función $f$, suelen ser\n",
        "el punto $a$ y/o ciertos puntos cercanos a su derecha e/o izquierda, de la forma $a\\pm h$, $a\\pm 2h$, etc.\n",
        "\n",
        "Las primeras fórmulas que vamos a obtener son las que utilizan los nodos $a$ y $a+h$, o $a-h$, para la derivada primera."
      ]
    },
    {
      "cell_type": "code",
      "execution_count": null,
      "metadata": {
        "id": "pVP7NCYn-myp"
      },
      "outputs": [],
      "source": [
        "f = sp.Function('f')# Crea función simbólica\n",
        "a,h = sp.symbols('a,h')\n",
        "x = [a,a+h]# Intervalo simbólico, lista que contiene variables simbólicas"
      ]
    },
    {
      "cell_type": "code",
      "execution_count": null,
      "metadata": {
        "id": "x3zTQ95E-myp"
      },
      "outputs": [],
      "source": [
        "y = [f(x[0]),f(x[1])]"
      ]
    },
    {
      "cell_type": "code",
      "execution_count": null,
      "metadata": {
        "id": "ycNbtnAy-myp",
        "colab": {
          "base_uri": "https://localhost:8080/",
          "height": 53
        },
        "outputId": "ac6274ed-9158-4efe-bf4d-f588d9fd7768"
      },
      "outputs": [
        {
          "output_type": "execute_result",
          "data": {
            "text/plain": [
              "f(a) + (-a + z)*(-f(a) + f(a + h))/h"
            ],
            "text/latex": "$\\displaystyle f{\\left(a \\right)} + \\frac{\\left(- a + z\\right) \\left(- f{\\left(a \\right)} + f{\\left(a + h \\right)}\\right)}{h}$"
          },
          "metadata": {},
          "execution_count": 10
        }
      ],
      "source": [
        "z = sp.Symbol('z')  # utilizaremos z como variable simbólica\n",
        "p = (y[1]-y[0])/(x[1]-x[0])*(z-x[0])+y[0]\n",
        "p  # este sería el polinomio interpolador de grado $1$, ecuación recta tangente con derivada aproximada (f(b)-f(a))/(b-a)"
      ]
    },
    {
      "cell_type": "code",
      "execution_count": null,
      "metadata": {
        "id": "trsBQdoc-myp",
        "colab": {
          "base_uri": "https://localhost:8080/"
        },
        "outputId": "61580655-91e1-4a80-9f0d-437999aa7acd"
      },
      "outputs": [
        {
          "output_type": "execute_result",
          "data": {
            "text/plain": [
              "(f(a), f(a + h))"
            ]
          },
          "metadata": {},
          "execution_count": 11
        }
      ],
      "source": [
        "p.subs({z:x[0]}),p.subs({z:x[1]}) #  mera comprobación, hago z=x[0]=a, y luego z=x[1]=a+h"
      ]
    },
    {
      "cell_type": "markdown",
      "metadata": {
        "id": "5JuuRAd2-myp"
      },
      "source": [
        "Derivemos ahora simbólicamente dicho polinomio, para ver cúal sería su derivada de primer orden"
      ]
    },
    {
      "cell_type": "code",
      "execution_count": null,
      "metadata": {
        "id": "IKdouxDW-myp",
        "colab": {
          "base_uri": "https://localhost:8080/",
          "height": 53
        },
        "outputId": "26d4a7a7-56f2-4b2e-e1e6-4dd05dbd3eec"
      },
      "outputs": [
        {
          "output_type": "execute_result",
          "data": {
            "text/plain": [
              "(-f(a) + f(a + h))/h"
            ],
            "text/latex": "$\\displaystyle \\frac{- f{\\left(a \\right)} + f{\\left(a + h \\right)}}{h}$"
          },
          "metadata": {},
          "execution_count": 12
        }
      ],
      "source": [
        "sp.diff(p,z)# Derivada respecto z"
      ]
    },
    {
      "cell_type": "markdown",
      "metadata": {
        "id": "y2D46ron-myq"
      },
      "source": [
        "Esta será pues la fórmula de derivación numérica obtenida a partir de estos datos de interpolación $(a,f(a))$ y $(a+h,f(a+h))$\n",
        "\n",
        "$\\mathcal{L}(f)\\equiv f'(a) \\simeq p'(a) = \\frac{f(a+h)-f(a)}{h}$"
      ]
    },
    {
      "cell_type": "markdown",
      "metadata": {
        "id": "bKHjLy44-myq"
      },
      "source": [
        "**Ejercicio:** Pruebe ahora a repetir el mismo proceso, pero con los datos de interpolación  $(a-h,f(a-h))$ y $(a,f(a))$ por un lado y $(a-h,f(a-h))$ junto con $(a+h,f(a+h))$ por otro. ¿Qué fórmulas de derivación numérica se obtiene en cada caso?"
      ]
    },
    {
      "cell_type": "markdown",
      "metadata": {
        "id": "nng9rEeQ-myq"
      },
      "source": [
        "A continuación vamos a usar tres nodos en vez de dos, empecemos por ejemplo con $a-h$, $a$ y $a+h$ para la derivada primera. Este tipo de fómulas que emplean de manera simétrica puntos a ambos lados del punto de derivación se suelen denominar *centradas*."
      ]
    },
    {
      "cell_type": "code",
      "execution_count": null,
      "metadata": {
        "id": "o0Dkd16--myq",
        "colab": {
          "base_uri": "https://localhost:8080/"
        },
        "outputId": "ce323bdb-a17b-4a3c-ab23-97d08948c587"
      },
      "outputs": [
        {
          "output_type": "execute_result",
          "data": {
            "text/plain": [
              "[f(a - h), f(a), f(a + h)]"
            ]
          },
          "metadata": {},
          "execution_count": 13
        }
      ],
      "source": [
        "x = [a-h,a,a+h]  # estos serán los nodos de interpolación, 3 nodos -> polinomio interpolación de grado 2\n",
        "y = [f(x[0]),f(x[1]),f(x[2])]  # y los valores interpolados\n",
        "y"
      ]
    },
    {
      "cell_type": "code",
      "execution_count": null,
      "metadata": {
        "id": "NOsC5vSJ-myq",
        "colab": {
          "base_uri": "https://localhost:8080/",
          "height": 53
        },
        "outputId": "b4fc1ef3-464c-4f5f-90ef-df53cfb536e3"
      },
      "outputs": [
        {
          "output_type": "execute_result",
          "data": {
            "text/plain": [
              "f(a - h) + (f(a) - f(a - h))*(-a + h + z)/h"
            ],
            "text/latex": "$\\displaystyle f{\\left(a - h \\right)} + \\frac{\\left(f{\\left(a \\right)} - f{\\left(a - h \\right)}\\right) \\left(- a + h + z\\right)}{h}$"
          },
          "metadata": {},
          "execution_count": 14
        }
      ],
      "source": [
        "p0 = y[0]  # vamos a ir construyendo el polinomio de interpolación\n",
        "p1 = p0 + (z-x[0])/(x[1]-x[0])*(y[1]-y[0]) # usando la idea de Newton\n",
        "p1 # Polinomio de grado 1"
      ]
    },
    {
      "cell_type": "code",
      "execution_count": null,
      "metadata": {
        "id": "lc1As4km-myq",
        "colab": {
          "base_uri": "https://localhost:8080/",
          "height": 53
        },
        "outputId": "d7ad271b-79bf-46f2-c127-a79f079cced7"
      },
      "outputs": [
        {
          "output_type": "execute_result",
          "data": {
            "text/plain": [
              "D*(-a + z)*(-a + h + z) + f(a - h) + (f(a) - f(a - h))*(-a + h + z)/h"
            ],
            "text/latex": "$\\displaystyle D \\left(- a + z\\right) \\left(- a + h + z\\right) + f{\\left(a - h \\right)} + \\frac{\\left(f{\\left(a \\right)} - f{\\left(a - h \\right)}\\right) \\left(- a + h + z\\right)}{h}$"
          },
          "metadata": {},
          "execution_count": 15
        }
      ],
      "source": [
        "D = sp.Symbol('D')   # D será la correspondiente diferencia dividida https://en.wikipedia.org/wiki/Divided_differences\n",
        "p2 = p1 + (z-x[0])*(z-x[1])*D # D = f[x0,x1,x2]    Revisar Métodos Numéricos I. Método del polinomio de interpolación de Newton https://en.wikipedia.org/wiki/Newton_polynomial\n",
        "p2  # ya tenemos la expresión genérica de dicho polinomio de grado 2"
      ]
    },
    {
      "cell_type": "code",
      "execution_count": null,
      "metadata": {
        "id": "lfyjcYQe-myq",
        "colab": {
          "base_uri": "https://localhost:8080/"
        },
        "outputId": "5a8febc5-088f-4827-db88-d302299d4d52"
      },
      "outputs": [
        {
          "output_type": "execute_result",
          "data": {
            "text/plain": [
              "(True, True)"
            ]
          },
          "metadata": {},
          "execution_count": 16
        }
      ],
      "source": [
        "p2.subs({z:x[0]})==y[0],p2.subs({z:x[1]})==y[1]\n",
        "# que interpola y0 e y1,"
      ]
    },
    {
      "cell_type": "code",
      "execution_count": null,
      "metadata": {
        "id": "dh3Dn76r-myr",
        "colab": {
          "base_uri": "https://localhost:8080/"
        },
        "outputId": "a112204c-aa83-47a8-f034-5bfad22646ed"
      },
      "outputs": [
        {
          "output_type": "execute_result",
          "data": {
            "text/plain": [
              "[(-2*f(a) + f(a - h) + f(a + h))/(2*h**2)]"
            ]
          },
          "metadata": {},
          "execution_count": 17
        }
      ],
      "source": [
        "# pero también tenemos aún que garantizar que p(x2) = y2\n",
        "sol2=sp.solve(p2.subs({z:x[2]})-y[2],D)  # para ello resolvemos\n",
        "sol2    # la ecuación correspondiente y despejamos el valor de D"
      ]
    },
    {
      "cell_type": "code",
      "execution_count": null,
      "metadata": {
        "id": "7Bp8HUdM-myr",
        "colab": {
          "base_uri": "https://localhost:8080/",
          "height": 53
        },
        "outputId": "e1f2d4c1-7749-41c0-c196-75d857fc8358"
      },
      "outputs": [
        {
          "output_type": "execute_result",
          "data": {
            "text/plain": [
              "f(a - h) + (f(a) - f(a - h))*(-a + h + z)/h + (-a + z)*(-a + h + z)*(-2*f(a) + f(a - h) + f(a + h))/(2*h**2)"
            ],
            "text/latex": "$\\displaystyle f{\\left(a - h \\right)} + \\frac{\\left(f{\\left(a \\right)} - f{\\left(a - h \\right)}\\right) \\left(- a + h + z\\right)}{h} + \\frac{\\left(- a + z\\right) \\left(- a + h + z\\right) \\left(- 2 f{\\left(a \\right)} + f{\\left(a - h \\right)} + f{\\left(a + h \\right)}\\right)}{2 h^{2}}$"
          },
          "metadata": {},
          "execution_count": 18
        }
      ],
      "source": [
        "D = sol2[0]\n",
        "p2 = p1 + (z-x[0])*(z-x[1])*D\n",
        "p2  # para obtener el polinomio final de interpolación"
      ]
    },
    {
      "cell_type": "code",
      "execution_count": null,
      "metadata": {
        "id": "qE2-4PZm-myr",
        "colab": {
          "base_uri": "https://localhost:8080/",
          "height": 91
        },
        "outputId": "799a78c5-ce80-43df-fde9-3693a55f9669"
      },
      "outputs": [
        {
          "output_type": "execute_result",
          "data": {
            "text/plain": [
              "-a**2*f(a)/h**2 + a**2*f(a - h)/(2*h**2) + a**2*f(a + h)/(2*h**2) + a*f(a - h)/(2*h) - a*f(a + h)/(2*h) + 2*a*z*f(a)/h**2 - a*z*f(a - h)/h**2 - a*z*f(a + h)/h**2 + f(a) - z*f(a - h)/(2*h) + z*f(a + h)/(2*h) - z**2*f(a)/h**2 + z**2*f(a - h)/(2*h**2) + z**2*f(a + h)/(2*h**2)"
            ],
            "text/latex": "$\\displaystyle - \\frac{a^{2} f{\\left(a \\right)}}{h^{2}} + \\frac{a^{2} f{\\left(a - h \\right)}}{2 h^{2}} + \\frac{a^{2} f{\\left(a + h \\right)}}{2 h^{2}} + \\frac{a f{\\left(a - h \\right)}}{2 h} - \\frac{a f{\\left(a + h \\right)}}{2 h} + \\frac{2 a z f{\\left(a \\right)}}{h^{2}} - \\frac{a z f{\\left(a - h \\right)}}{h^{2}} - \\frac{a z f{\\left(a + h \\right)}}{h^{2}} + f{\\left(a \\right)} - \\frac{z f{\\left(a - h \\right)}}{2 h} + \\frac{z f{\\left(a + h \\right)}}{2 h} - \\frac{z^{2} f{\\left(a \\right)}}{h^{2}} + \\frac{z^{2} f{\\left(a - h \\right)}}{2 h^{2}} + \\frac{z^{2} f{\\left(a + h \\right)}}{2 h^{2}}$"
          },
          "metadata": {},
          "execution_count": 19
        }
      ],
      "source": [
        "sp.expand(p2)"
      ]
    },
    {
      "cell_type": "code",
      "execution_count": null,
      "metadata": {
        "id": "DQI3WeK3-myr",
        "colab": {
          "base_uri": "https://localhost:8080/"
        },
        "outputId": "42491a56-8913-4c24-e0a7-f08123ab9da0"
      },
      "outputs": [
        {
          "output_type": "execute_result",
          "data": {
            "text/plain": [
              "True"
            ]
          },
          "metadata": {},
          "execution_count": 20
        }
      ],
      "source": [
        "p2.subs({z:x[2]})==y[2] # que también interpola el valor y[2]"
      ]
    },
    {
      "cell_type": "markdown",
      "metadata": {
        "id": "7OLbIA9O-myr"
      },
      "source": [
        "Ahora para obtener la correspondiente fórmula de derivación numérica, bastará con derivar dicho polinomio respecto de la variable independiente y evaluar en el punto donde queremos aproximar la derivada; es decir calculamos $p_2'(a) = \\frac{f(a+h)-f(a-h)}{2h}$.\n",
        "\n",
        "Vemos que resulta una fórmula con sólo dos nodos, uno a cada lado del punto $a$, ya que el coeficiente de $f(a)$ vale cero. Comprobémoslo:"
      ]
    },
    {
      "cell_type": "code",
      "execution_count": null,
      "metadata": {
        "id": "evw1yj6X-myr",
        "colab": {
          "base_uri": "https://localhost:8080/",
          "height": 53
        },
        "outputId": "54754e94-1601-4e7e-f942-72cb21cd7a86"
      },
      "outputs": [
        {
          "output_type": "execute_result",
          "data": {
            "text/plain": [
              "(-f(a - h) + f(a + h))/(2*h)"
            ],
            "text/latex": "$\\displaystyle \\frac{- f{\\left(a - h \\right)} + f{\\left(a + h \\right)}}{2 h}$"
          },
          "metadata": {},
          "execution_count": 21
        }
      ],
      "source": [
        "sp.diff(p2,z).subs({z:a}).simplify()"
      ]
    },
    {
      "cell_type": "markdown",
      "metadata": {
        "id": "PCgsGVhm-mys"
      },
      "source": [
        "Pero al tratarse ahora de un polinomio de interpolación de grado $2$ nada nos impide calcular también su derivada de segundo orden, que nos serviría en este caso como aproximación del correspondiente operador de derivada segunda\n",
        "\n",
        "$$\\mathcal{L}(f)\\equiv f''(a)\\simeq p''(a)$$"
      ]
    },
    {
      "cell_type": "code",
      "execution_count": null,
      "metadata": {
        "id": "ym-vivBG-mys",
        "colab": {
          "base_uri": "https://localhost:8080/",
          "height": 53
        },
        "outputId": "c7de09c8-0d1a-4bf0-bb8a-cdf0cf72878b"
      },
      "outputs": [
        {
          "output_type": "execute_result",
          "data": {
            "text/plain": [
              "(-2*f(a) + f(a - h) + f(a + h))/h**2"
            ],
            "text/latex": "$\\displaystyle \\frac{- 2 f{\\left(a \\right)} + f{\\left(a - h \\right)} + f{\\left(a + h \\right)}}{h^{2}}$"
          },
          "metadata": {},
          "execution_count": 22
        }
      ],
      "source": [
        "sp.diff(p2,z,2) # Nótese que en este caso, ni siquiera hemos tenido\n",
        "# que evaluar dicha derivada en el punto x=a, al ser esta constante."
      ]
    },
    {
      "cell_type": "markdown",
      "metadata": {
        "id": "olJeFDa3-mys"
      },
      "source": [
        "Por último vamos a obtener también otras fórmulas para la derivada primera o segunda, que sean de tipo *descentrado*, utilizando por ejemplo los nodos $a$, $a+h$ y $a+2h$. El procedimiento es igual que antes, solo cambian los puntos de las listas x e y."
      ]
    },
    {
      "cell_type": "code",
      "execution_count": null,
      "metadata": {
        "id": "_B1MsFy6-my0",
        "colab": {
          "base_uri": "https://localhost:8080/"
        },
        "outputId": "e2903401-c095-4108-a7ad-db7fc542fbaa"
      },
      "outputs": [
        {
          "output_type": "execute_result",
          "data": {
            "text/plain": [
              "[f(a), f(a + h), f(a + 2*h)]"
            ]
          },
          "metadata": {},
          "execution_count": 23
        }
      ],
      "source": [
        "x = [a,a+h,a+2*h]\n",
        "y = [f(x[0]),f(x[1]),f(x[2])]\n",
        "y"
      ]
    },
    {
      "cell_type": "code",
      "execution_count": null,
      "metadata": {
        "id": "5tjCDbzh-my0",
        "colab": {
          "base_uri": "https://localhost:8080/",
          "height": 53
        },
        "outputId": "958d1a16-b73c-4545-d141-55552edbc939"
      },
      "outputs": [
        {
          "output_type": "execute_result",
          "data": {
            "text/plain": [
              "f(a) + (-a + z)*(-f(a) + f(a + h))/h + (-a + z)*(-a - h + z)*(f(a) - 2*f(a + h) + f(a + 2*h))/(2*h**2)"
            ],
            "text/latex": "$\\displaystyle f{\\left(a \\right)} + \\frac{\\left(- a + z\\right) \\left(- f{\\left(a \\right)} + f{\\left(a + h \\right)}\\right)}{h} + \\frac{\\left(- a + z\\right) \\left(- a - h + z\\right) \\left(f{\\left(a \\right)} - 2 f{\\left(a + h \\right)} + f{\\left(a + 2 h \\right)}\\right)}{2 h^{2}}$"
          },
          "metadata": {},
          "execution_count": 24
        }
      ],
      "source": [
        "p0 = y[0]  # vamos a ir construyendo el polinomio de interpolación\n",
        "p1 = p0 + (z-x[0])/(x[1]-x[0])*(y[1]-y[0]) # igual que antes\n",
        "D = sp.Symbol('D')\n",
        "p2 = p1 + (z-x[0])*(z-x[1])*D\n",
        "sol2 =sp.solve(p2.subs({z:x[2]})-y[2],D)\n",
        "D = sol2[0]\n",
        "p2 = p1 + (z-x[0])*(z-x[1])*D\n",
        "p2  # para obtener el polinomio final de interpolación"
      ]
    },
    {
      "cell_type": "code",
      "execution_count": null,
      "metadata": {
        "id": "sp1QkIMu-my0",
        "colab": {
          "base_uri": "https://localhost:8080/",
          "height": 53
        },
        "outputId": "2715a0bd-0e74-4810-af30-a1a04050638a"
      },
      "outputs": [
        {
          "output_type": "execute_result",
          "data": {
            "text/plain": [
              "(-3*f(a) + 4*f(a + h) - f(a + 2*h))/(2*h)"
            ],
            "text/latex": "$\\displaystyle \\frac{- 3 f{\\left(a \\right)} + 4 f{\\left(a + h \\right)} - f{\\left(a + 2 h \\right)}}{2 h}$"
          },
          "metadata": {},
          "execution_count": 25
        }
      ],
      "source": [
        "sp.diff(p2,z).subs({z:a}).simplify() # he aquí la aproximación de\n",
        "# la derivada primera de la función en el punto x=a"
      ]
    },
    {
      "cell_type": "code",
      "execution_count": null,
      "metadata": {
        "id": "yaHaF2be-my0",
        "colab": {
          "base_uri": "https://localhost:8080/",
          "height": 53
        },
        "outputId": "afda466f-3cf1-4842-e5fa-631bf58129ef"
      },
      "outputs": [
        {
          "output_type": "execute_result",
          "data": {
            "text/plain": [
              "(f(a) - 2*f(a + h) + f(a + 2*h))/h**2"
            ],
            "text/latex": "$\\displaystyle \\frac{f{\\left(a \\right)} - 2 f{\\left(a + h \\right)} + f{\\left(a + 2 h \\right)}}{h^{2}}$"
          },
          "metadata": {},
          "execution_count": 26
        }
      ],
      "source": [
        "sp.diff(p2,z,2) # y aquí la de la derivada segunda en ese punto"
      ]
    },
    {
      "cell_type": "markdown",
      "metadata": {
        "id": "Rb3MU54v-my1"
      },
      "source": [
        "Pero si queremos obtener otras *fórmulas centradas* para la derivada segunda, usando ahora por ejemplo cinco nodos simétricos, $a-2h, \\; a-h, \\; a,\n",
        "\\; a+h$ y $a+2h$, deberemos calcular entonces el correspondiente polinomio de interpolación de grado $4$."
      ]
    },
    {
      "cell_type": "markdown",
      "metadata": {
        "id": "VRxb_eAX-my1"
      },
      "source": [
        "Procedamos como antes, de manera progresiva, calculando lo correspondientes polinomios de interpolación de Newton, interpolando un dato más de Lagrange cada vez."
      ]
    },
    {
      "cell_type": "code",
      "execution_count": null,
      "metadata": {
        "id": "pSeNGPYC-my1",
        "colab": {
          "base_uri": "https://localhost:8080/"
        },
        "outputId": "3bddb698-a064-4da8-bb6f-99fd81dca46d"
      },
      "outputs": [
        {
          "output_type": "execute_result",
          "data": {
            "text/plain": [
              "[f(a - 2*h), f(a - h), f(a), f(a + h), f(a + 2*h)]"
            ]
          },
          "metadata": {},
          "execution_count": 27
        }
      ],
      "source": [
        "x = [a-2*h,a-h,a,a+h,a+2*h] # nodos de interpolación\n",
        "y = [f(x[0]),f(x[1]),f(x[2]),f(x[3]),f(x[4])]\n",
        "y  # valores a interpolar"
      ]
    },
    {
      "cell_type": "code",
      "execution_count": null,
      "metadata": {
        "id": "1E0vvHgN-my1"
      },
      "outputs": [],
      "source": [
        "p0 = y[0]  # vamos a ir construyendo el polinomio de interpolación\n",
        "p1 = p0 + (z-x[0])/(x[1]-x[0])*(y[1]-y[0]) # igual que antes\n",
        "D1 = sp.Symbol('D1')\n",
        "p2 = p1 + (z-x[0])*(z-x[1])*D1\n",
        "sol1 =sp.solve(p2.subs({z:x[2]})-y[2],D1)\n",
        "D1 = sol1[0]\n",
        "p2 = p1 + (z-x[0])*(z-x[1])*D1\n",
        "D2 = sp.Symbol('D2')\n",
        "p3 = p2 + (z-x[0])*(z-x[1])*(z-x[2])*D2\n",
        "sol2 =sp.solve(p3.subs({z:x[3]})-y[3],D2)\n",
        "D2 = sol2[0]\n",
        "p3 = p2 + (z-x[0])*(z-x[1])*(z-x[2])*D2\n",
        "D3 = sp.Symbol('D3')\n",
        "p4 = p3 + (z-x[0])*(z-x[1])*(z-x[2])*(z-x[3])*D3\n",
        "sol3 =sp.solve(p4.subs({z:x[4]})-y[4],D3)\n",
        "D3 = sol3[0]\n",
        "p4 = p3 + (z-x[0])*(z-x[1])*(z-x[2])*(z-x[3])*D3"
      ]
    },
    {
      "cell_type": "code",
      "execution_count": null,
      "metadata": {
        "id": "DvT2-jr0-my1",
        "colab": {
          "base_uri": "https://localhost:8080/",
          "height": 53
        },
        "outputId": "abe51831-c6d1-407a-fea4-f8e162f5214f"
      },
      "outputs": [
        {
          "output_type": "execute_result",
          "data": {
            "text/plain": [
              "(-30*f(a) - f(a - 2*h) + 16*f(a - h) + 16*f(a + h) - f(a + 2*h))/(12*h**2)"
            ],
            "text/latex": "$\\displaystyle \\frac{- 30 f{\\left(a \\right)} - f{\\left(a - 2 h \\right)} + 16 f{\\left(a - h \\right)} + 16 f{\\left(a + h \\right)} - f{\\left(a + 2 h \\right)}}{12 h^{2}}$"
          },
          "metadata": {},
          "execution_count": 29
        }
      ],
      "source": [
        "formula=sp.diff(p4,z,2).subs({z:a}).simplify() # esta será la fórmula\n",
        "# obtenida esta vez para aproximar la derivada segunda f''(a)\n",
        "formula"
      ]
    },
    {
      "cell_type": "markdown",
      "metadata": {
        "id": "RM4rh88d-my1"
      },
      "source": [
        "Y de igual forma se obtendría cualquier otra fórmula de derivación numérica de tipo interpolatorio. La cuestión será obtener primero el correspondiente polinomio de interpolación, usando la fórmula o el procedimiento simbólico que consideremos más oportuno, y después derivar dicho polinomio, también simbólicamente, antes de evaluar en el punto en cuestión donde queremos aproximar la derivada, tal y cómo hemos hecho en los ejemplos anteriores."
      ]
    },
    {
      "cell_type": "markdown",
      "metadata": {
        "id": "akK8s547-my1"
      },
      "source": [
        "A continuación vamos a analizar otra de las cuestiones importantes que tienen que ver con este tipo de fórmulas, *el orden o grado de exactitud* de la misma (se presupone que para funciones de tipo polinómico). Comprobémoslo por ejemplo en el caso de la última fórmula obtenida. Tenemos que ver hasta qué potencia del tipo $x^i$, con $i$ entero natural, dicha fórmula no sólo es aproximada, sino que resulta exacta. De antemano, por construcción, dicha exactitud está garantizada para $i=0,\\,1,\\, 2,\\, 3$ y $4$, por tratarse de una fórmula de tipo interpolatorio. Sin embargo, vamos a probar que pasa con el valor $i=5$ y posteriores. Ser exacta en una base ${1, x, . . . , x^m}$ de $\\mathbb{P}_m$ equivale, por linealidad, a serlo\n",
        "en todo el espacio $\\mathbb{P}_m$ (véase Def.5 de lo apuntes del Tema 2)."
      ]
    },
    {
      "cell_type": "code",
      "execution_count": null,
      "metadata": {
        "id": "qSbkF9Pw-my1"
      },
      "outputs": [],
      "source": [
        "def formula(f):\n",
        "    return (-30*f(a)-f(a-2*h)+16*f(a-h)+16*f(a+h)-f(a+2*h))/(12*h**2)"
      ]
    },
    {
      "cell_type": "code",
      "execution_count": null,
      "metadata": {
        "id": "lvzaVrDo-my1",
        "colab": {
          "base_uri": "https://localhost:8080/",
          "height": 53
        },
        "outputId": "1dcb33d9-8e46-4ddb-fc64-e869b151637d"
      },
      "outputs": [
        {
          "output_type": "execute_result",
          "data": {
            "text/plain": [
              "(-30*f(a) - f(a - 2*h) + 16*f(a - h) + 16*f(a + h) - f(a + 2*h))/(12*h**2)"
            ],
            "text/latex": "$\\displaystyle \\frac{- 30 f{\\left(a \\right)} - f{\\left(a - 2 h \\right)} + 16 f{\\left(a - h \\right)} + 16 f{\\left(a + h \\right)} - f{\\left(a + 2 h \\right)}}{12 h^{2}}$"
          },
          "metadata": {},
          "execution_count": 31
        }
      ],
      "source": [
        "formula(f)"
      ]
    },
    {
      "cell_type": "code",
      "execution_count": null,
      "metadata": {
        "id": "letFf4U_-my2",
        "colab": {
          "base_uri": "https://localhost:8080/"
        },
        "outputId": "f55916d9-d89a-472f-c06c-4b10a2f5584b"
      },
      "outputs": [
        {
          "output_type": "execute_result",
          "data": {
            "text/plain": [
              "[0, 0, 2, 6*a, 12*a**2, 20*a**3, 30*a**4, 42*a**5, 56*a**6, 72*a**7]"
            ]
          },
          "metadata": {},
          "execution_count": 32
        }
      ],
      "source": [
        "valoresexactosderivadasegunda =[sp.diff(z**i,z,2).subs({z:a}) for i in range(10)]# Derivada segunda de x^i con i=0,...,10\n",
        "valoresexactosderivadasegunda"
      ]
    },
    {
      "cell_type": "code",
      "execution_count": null,
      "metadata": {
        "id": "FRh2R-fa-my2",
        "colab": {
          "base_uri": "https://localhost:8080/"
        },
        "outputId": "516beb3a-f773-4c94-e34f-b9fb2733d2cc"
      },
      "outputs": [
        {
          "output_type": "execute_result",
          "data": {
            "text/plain": [
              "[0,\n",
              " 0,\n",
              " 2,\n",
              " 6*a,\n",
              " 12*a**2,\n",
              " 20*a**3,\n",
              " 30*a**4 - 8*h**4,\n",
              " 42*a**5 - 56*a*h**4,\n",
              " 56*a**6 - 224*a**2*h**4 - 40*h**6,\n",
              " 72*a**7 - 672*a**3*h**4 - 360*a*h**6]"
            ]
          },
          "metadata": {},
          "execution_count": 33
        }
      ],
      "source": [
        "valoresaproximadosderivadasegunda =[formula(lambda z:z**i).simplify() for i in range(10)]# Evaluamos formula() en x^i con i=0,...,10, es decir, derivamos x^i con la fórmula de derivación obtenida a partir de interpolación\n",
        "valoresaproximadosderivadasegunda"
      ]
    },
    {
      "cell_type": "code",
      "execution_count": null,
      "metadata": {
        "id": "RzjCeBw9-my2",
        "colab": {
          "base_uri": "https://localhost:8080/"
        },
        "outputId": "94939e0f-1110-4d53-a910-39798cdf6870"
      },
      "outputs": [
        {
          "output_type": "execute_result",
          "data": {
            "text/plain": [
              "array([0, 0, 0, 0, 0, 0, -8*h**4, -56*a*h**4, -224*a**2*h**4 - 40*h**6,\n",
              "       -672*a**3*h**4 - 360*a*h**6], dtype=object)"
            ]
          },
          "metadata": {},
          "execution_count": 34
        }
      ],
      "source": [
        "# Si ahora lo que queremos es restar estos resultados uno a uno, debemos convertir estas listas en arrays\n",
        "np.array(valoresaproximadosderivadasegunda) - np.array(valoresexactosderivadasegunda)# Estamos comparando el funcional derivada con el funcional calculado con la interpolación polinómica"
      ]
    },
    {
      "cell_type": "code",
      "execution_count": null,
      "metadata": {
        "id": "hksifA1K-my2",
        "colab": {
          "base_uri": "https://localhost:8080/"
        },
        "outputId": "0f4e6398-0bb0-470c-9e7e-a72656ac9742"
      },
      "outputs": [
        {
          "output_type": "stream",
          "name": "stdout",
          "text": [
            " diferencia entre el valor aproximado mediante la fórmula empleada y el valor exacto  0\n",
            "para la derivada segunda del monomio x**i, con i =  0\n",
            " diferencia entre el valor aproximado mediante la fórmula empleada y el valor exacto  0\n",
            "para la derivada segunda del monomio x**i, con i =  1\n",
            " diferencia entre el valor aproximado mediante la fórmula empleada y el valor exacto  0\n",
            "para la derivada segunda del monomio x**i, con i =  2\n",
            " diferencia entre el valor aproximado mediante la fórmula empleada y el valor exacto  0\n",
            "para la derivada segunda del monomio x**i, con i =  3\n",
            " diferencia entre el valor aproximado mediante la fórmula empleada y el valor exacto  0\n",
            "para la derivada segunda del monomio x**i, con i =  4\n",
            " diferencia entre el valor aproximado mediante la fórmula empleada y el valor exacto  0\n",
            "para la derivada segunda del monomio x**i, con i =  5\n",
            " diferencia entre el valor aproximado mediante la fórmula empleada y el valor exacto  -8*h**4\n",
            "para la derivada segunda del monomio x**i, con i =  6\n",
            " diferencia entre el valor aproximado mediante la fórmula empleada y el valor exacto  -56*a*h**4\n",
            "para la derivada segunda del monomio x**i, con i =  7\n",
            " diferencia entre el valor aproximado mediante la fórmula empleada y el valor exacto  -224*a**2*h**4 - 40*h**6\n",
            "para la derivada segunda del monomio x**i, con i =  8\n",
            " diferencia entre el valor aproximado mediante la fórmula empleada y el valor exacto  -672*a**3*h**4 - 360*a*h**6\n",
            "para la derivada segunda del monomio x**i, con i =  9\n",
            "comprobación terminada; deduzca de aquí el grado de exactitud de la fórmula\n"
          ]
        }
      ],
      "source": [
        "# Otra opción siempre sería hacerlo elemento a elemento mediante un índice que recorra las distintas componenentes de ambas listas\n",
        "for i in range(10):\n",
        "    print(\" diferencia entre el valor aproximado mediante la fórmula empleada y el valor exacto \", valoresaproximadosderivadasegunda[i]- valoresexactosderivadasegunda[i])\n",
        "  # print(valoresaproximadosderivadasegunda[i]- valoresexactosderivadasegunda[i])\n",
        "    print(\"para la derivada segunda del monomio x**i, con i = \", i)\n",
        "print(\"comprobación terminada; deduzca de aquí el grado de exactitud de la fórmula\")"
      ]
    },
    {
      "cell_type": "markdown",
      "metadata": {
        "id": "FQb8nKH5-my2"
      },
      "source": [
        "Observamos claramente que efectivamente la fórmula es exacta para polinomios hasta grado $5$, ya que los resultados obtenidos al aplicar la fórmula a los monomios correspondientes da idéntico resultado que calculando sus derivadas segundas directamente, y claramente el proceso de derivación constituye una forma lineal.\n",
        "\n",
        "Sin embargo, para $i=6$ por ejemplo, el valor proporcionado es $30 a^4-8h^4$, cuya diferencia con el valor exacto es el término $-8h^4$. Errores del mismo orden $O(h^4)$ también aparecen en los demás casos, con $i\\geq 6$. Así pues concluimos que el orden de exactitud para funciones polinómicas es $5$ y que el orden de aproximación puede ser $4$, aunque habrá que comprobarlo fehacientemente para funciones arbitrarias (no sólo polinómicas) mediante desarrollos de Taylor."
      ]
    },
    {
      "cell_type": "code",
      "execution_count": null,
      "metadata": {
        "id": "gOZk7TCp-my2"
      },
      "outputs": [],
      "source": [
        "?f"
      ]
    },
    {
      "cell_type": "code",
      "execution_count": null,
      "metadata": {
        "id": "fdkO4l9g-my3",
        "colab": {
          "base_uri": "https://localhost:8080/",
          "height": 39
        },
        "outputId": "c83f0d05-e468-4ff0-b2b1-3d5d7be5e33b"
      },
      "outputs": [
        {
          "output_type": "execute_result",
          "data": {
            "text/plain": [
              "f(z)"
            ],
            "text/latex": "$\\displaystyle f{\\left(z \\right)}$"
          },
          "metadata": {},
          "execution_count": 37
        }
      ],
      "source": [
        "f(z)"
      ]
    },
    {
      "cell_type": "code",
      "execution_count": null,
      "metadata": {
        "id": "9UdgkS1y-my3",
        "colab": {
          "base_uri": "https://localhost:8080/",
          "height": 52
        },
        "outputId": "25e2db82-4782-4791-ae41-1755823285b3"
      },
      "outputs": [
        {
          "output_type": "execute_result",
          "data": {
            "text/plain": [
              "Derivative(f(z), z)"
            ],
            "text/latex": "$\\displaystyle \\frac{d}{d z} f{\\left(z \\right)}$"
          },
          "metadata": {},
          "execution_count": 38
        }
      ],
      "source": [
        "sp.diff(f(z),z) # podemos perfectamente obtener derivadas simbólicas"
      ]
    },
    {
      "cell_type": "code",
      "execution_count": null,
      "metadata": {
        "id": "O6Zjv1Zx-my3",
        "colab": {
          "base_uri": "https://localhost:8080/",
          "height": 54
        },
        "outputId": "2e24651f-a6f6-4c42-e410-1ba2cb7ff871"
      },
      "outputs": [
        {
          "output_type": "execute_result",
          "data": {
            "text/plain": [
              "Derivative(f(z), (z, 5))"
            ],
            "text/latex": "$\\displaystyle \\frac{d^{5}}{d z^{5}} f{\\left(z \\right)}$"
          },
          "metadata": {},
          "execution_count": 39
        }
      ],
      "source": [
        "sp.diff(f(z),z,5) # del orden que necesitemos"
      ]
    },
    {
      "cell_type": "code",
      "execution_count": null,
      "metadata": {
        "id": "oMVeHSap-my3",
        "colab": {
          "base_uri": "https://localhost:8080/",
          "height": 52
        },
        "outputId": "2be70405-aea6-4564-82da-ec6f7781ce06"
      },
      "outputs": [
        {
          "output_type": "execute_result",
          "data": {
            "text/plain": [
              "Derivative(f(a), a)"
            ],
            "text/latex": "$\\displaystyle \\frac{d}{d a} f{\\left(a \\right)}$"
          },
          "metadata": {},
          "execution_count": 40
        }
      ],
      "source": [
        "(sp.diff(f(z),z)).subs({z:a}) #  pero vemos que ¡habrá que tener\n",
        "# cuidado cuando se evaluen las derivadas en puntos concretos!\n",
        "# Esta orden de python nos da la derivada respecto a a, no la derivada respecto a z evaluada en z=a"
      ]
    },
    {
      "cell_type": "code",
      "execution_count": null,
      "metadata": {
        "id": "c_1AQkHz-my3",
        "colab": {
          "base_uri": "https://localhost:8080/",
          "height": 61
        },
        "outputId": "60ff6d47-609d-4306-8b9d-e25a11491b31"
      },
      "outputs": [
        {
          "output_type": "execute_result",
          "data": {
            "text/plain": [
              "Subs(Derivative(f(_xi_1), _xi_1), _xi_1, a)"
            ],
            "text/latex": "$\\displaystyle \\left. \\frac{d}{d \\xi_{1}} f{\\left(\\xi_{1} \\right)} \\right|_{\\substack{ \\xi_{1}=a }}$"
          },
          "metadata": {},
          "execution_count": 41
        }
      ],
      "source": [
        "k=1;\n",
        "sp.diff(f(z-h),z,k).subs({z:a+h}) # Esto puede simular la derivada\n",
        "# del orden requerido, evaluada en el punto concreto z = a"
      ]
    },
    {
      "cell_type": "code",
      "execution_count": null,
      "metadata": {
        "id": "FM9DHGTb-my3",
        "colab": {
          "base_uri": "https://localhost:8080/",
          "height": 62
        },
        "outputId": "a5e9a1d2-56ad-4d1e-9136-a936ec06e3bb"
      },
      "outputs": [
        {
          "output_type": "execute_result",
          "data": {
            "text/plain": [
              "Subs(Derivative(f(_xi_1), (_xi_1, 2)), _xi_1, a)"
            ],
            "text/latex": "$\\displaystyle \\left. \\frac{d^{2}}{d \\xi_{1}^{2}} f{\\left(\\xi_{1} \\right)} \\right|_{\\substack{ \\xi_{1}=a }}$"
          },
          "metadata": {},
          "execution_count": 42
        }
      ],
      "source": [
        "k=2;\n",
        "sp.diff(f(z-h),z,k).subs({z:a+h}) # Esto puede simular la derivada\n",
        "# del orden requerido, evaluada en el punto concreto z = a"
      ]
    },
    {
      "cell_type": "code",
      "execution_count": null,
      "metadata": {
        "id": "qpF6vdr--my3"
      },
      "outputs": [],
      "source": [
        "?sp.series\n",
        "# pero para obtener el correspondiente polinomio de Taylor será mejor\n",
        "# echar mano de la orden series, perteneciente al módulo SymPy"
      ]
    },
    {
      "cell_type": "code",
      "execution_count": null,
      "metadata": {
        "id": "49h_gplb-my4"
      },
      "outputs": [],
      "source": [
        "n=5;\n",
        "fseries = (f(z).series(z,a,n)).removeO()# Series de Taylor de f(z) en el punto z=a hasta orden n-1 sin incluir O(z^5)\n",
        "fmas    = fseries.subs({(-a+z):h}) # Polin. Taylor para z=a+h\n",
        "fmenos  = fseries.subs({(-a+z):-h})# Polin. Taylor para z=a-h"
      ]
    },
    {
      "cell_type": "code",
      "execution_count": null,
      "metadata": {
        "id": "5GW2E7G_-my4",
        "colab": {
          "base_uri": "https://localhost:8080/",
          "height": 76
        },
        "outputId": "191a606a-6996-4ea7-cf01-d1816f21f248"
      },
      "outputs": [
        {
          "output_type": "execute_result",
          "data": {
            "text/plain": [
              "h**4*Subs(Derivative(f(_xi_1), (_xi_1, 4)), _xi_1, a)/24 + h**3*Subs(Derivative(f(_xi_1), (_xi_1, 3)), _xi_1, a)/6 + h**2*Subs(Derivative(f(_xi_1), (_xi_1, 2)), _xi_1, a)/2 + h*Subs(Derivative(f(_xi_1), _xi_1), _xi_1, a) + f(a)"
            ],
            "text/latex": "$\\displaystyle \\frac{h^{4} \\left. \\frac{d^{4}}{d \\xi_{1}^{4}} f{\\left(\\xi_{1} \\right)} \\right|_{\\substack{ \\xi_{1}=a }}}{24} + \\frac{h^{3} \\left. \\frac{d^{3}}{d \\xi_{1}^{3}} f{\\left(\\xi_{1} \\right)} \\right|_{\\substack{ \\xi_{1}=a }}}{6} + \\frac{h^{2} \\left. \\frac{d^{2}}{d \\xi_{1}^{2}} f{\\left(\\xi_{1} \\right)} \\right|_{\\substack{ \\xi_{1}=a }}}{2} + h \\left. \\frac{d}{d \\xi_{1}} f{\\left(\\xi_{1} \\right)} \\right|_{\\substack{ \\xi_{1}=a }} + f{\\left(a \\right)}$"
          },
          "metadata": {},
          "execution_count": 45
        }
      ],
      "source": [
        "fmas"
      ]
    },
    {
      "cell_type": "code",
      "execution_count": null,
      "metadata": {
        "id": "zMljrFnS-my4",
        "colab": {
          "base_uri": "https://localhost:8080/",
          "height": 76
        },
        "outputId": "dc0af5d7-f5e0-471e-b398-942014a0987f"
      },
      "outputs": [
        {
          "output_type": "execute_result",
          "data": {
            "text/plain": [
              "h**4*Subs(Derivative(f(_xi_1), (_xi_1, 4)), _xi_1, a)/24 - h**3*Subs(Derivative(f(_xi_1), (_xi_1, 3)), _xi_1, a)/6 + h**2*Subs(Derivative(f(_xi_1), (_xi_1, 2)), _xi_1, a)/2 - h*Subs(Derivative(f(_xi_1), _xi_1), _xi_1, a) + f(a)"
            ],
            "text/latex": "$\\displaystyle \\frac{h^{4} \\left. \\frac{d^{4}}{d \\xi_{1}^{4}} f{\\left(\\xi_{1} \\right)} \\right|_{\\substack{ \\xi_{1}=a }}}{24} - \\frac{h^{3} \\left. \\frac{d^{3}}{d \\xi_{1}^{3}} f{\\left(\\xi_{1} \\right)} \\right|_{\\substack{ \\xi_{1}=a }}}{6} + \\frac{h^{2} \\left. \\frac{d^{2}}{d \\xi_{1}^{2}} f{\\left(\\xi_{1} \\right)} \\right|_{\\substack{ \\xi_{1}=a }}}{2} - h \\left. \\frac{d}{d \\xi_{1}} f{\\left(\\xi_{1} \\right)} \\right|_{\\substack{ \\xi_{1}=a }} + f{\\left(a \\right)}$"
          },
          "metadata": {},
          "execution_count": 46
        }
      ],
      "source": [
        "fmenos"
      ]
    },
    {
      "cell_type": "code",
      "execution_count": null,
      "metadata": {
        "id": "rDx4TwjC-my4",
        "colab": {
          "base_uri": "https://localhost:8080/",
          "height": 39
        },
        "outputId": "ebaa25e5-40ef-4969-e2cb-8cbab707f873"
      },
      "outputs": [
        {
          "output_type": "execute_result",
          "data": {
            "text/plain": [
              "h"
            ],
            "text/latex": "$\\displaystyle h$"
          },
          "metadata": {},
          "execution_count": 47
        }
      ],
      "source": [
        "h"
      ]
    },
    {
      "cell_type": "code",
      "execution_count": null,
      "metadata": {
        "id": "Q0jIy_Pq-my4",
        "colab": {
          "base_uri": "https://localhost:8080/",
          "height": 76
        },
        "outputId": "052be6a5-b879-44e1-8050-bec00ce73989"
      },
      "outputs": [
        {
          "output_type": "execute_result",
          "data": {
            "text/plain": [
              "h**2*Subs(Derivative(f(_xi_1), (_xi_1, 3)), _xi_1, a)/6 + Subs(Derivative(f(_xi_1), _xi_1), _xi_1, a)"
            ],
            "text/latex": "$\\displaystyle \\frac{h^{2} \\left. \\frac{d^{3}}{d \\xi_{1}^{3}} f{\\left(\\xi_{1} \\right)} \\right|_{\\substack{ \\xi_{1}=a }}}{6} + \\left. \\frac{d}{d \\xi_{1}} f{\\left(\\xi_{1} \\right)} \\right|_{\\substack{ \\xi_{1}=a }}$"
          },
          "metadata": {},
          "execution_count": 48
        }
      ],
      "source": [
        "# así podremos obtener el orden de aproximación de la fórmula aproximada de la derivada primera centrada\n",
        "sp.expand((fmas - fmenos)/(2*h))"
      ]
    },
    {
      "cell_type": "markdown",
      "metadata": {
        "id": "c-VKx4QcZWJZ"
      },
      "source": [
        "Hemos aproximado la función `f` por su polinomio de Taylor de orden 4 `fseries`, y luego aproximamos la derivada de dicho polinomio `fseries` por la deriva de un polinomio de interpolación de 2o orden (ver fórmula arriba de la celda 24,    $p_2'(a) = \\frac{f(a+h)-f(a-h)}{2h}$). Abajo repetimos lo mismo pero para la derivada segunda de `fseries`."
      ]
    },
    {
      "cell_type": "code",
      "execution_count": null,
      "metadata": {
        "id": "fy26rNpN-my4",
        "colab": {
          "base_uri": "https://localhost:8080/",
          "height": 77
        },
        "outputId": "fbc64fef-eb26-4868-f369-66c0e567cf63"
      },
      "outputs": [
        {
          "output_type": "execute_result",
          "data": {
            "text/plain": [
              "h**2*Subs(Derivative(f(_xi_1), (_xi_1, 4)), _xi_1, a)/12 + Subs(Derivative(f(_xi_1), (_xi_1, 2)), _xi_1, a)"
            ],
            "text/latex": "$\\displaystyle \\frac{h^{2} \\left. \\frac{d^{4}}{d \\xi_{1}^{4}} f{\\left(\\xi_{1} \\right)} \\right|_{\\substack{ \\xi_{1}=a }}}{12} + \\left. \\frac{d^{2}}{d \\xi_{1}^{2}} f{\\left(\\xi_{1} \\right)} \\right|_{\\substack{ \\xi_{1}=a }}$"
          },
          "metadata": {},
          "execution_count": 49
        }
      ],
      "source": [
        "# y esta la correspondiente fórmula para aproximar f''(a)\n",
        "sp.expand((fmas-2*f(a)+fmenos)/h**2)"
      ]
    },
    {
      "cell_type": "markdown",
      "metadata": {
        "id": "nRmPdEEE-my4"
      },
      "source": [
        "Estas dos últimas comprobaciones no hacen más que corroborar lo que ya intuíamos, que tanto la fórmula centrada usada para aproximar la derivada primera,  como la que hemos empleado para aproximar la derivada segunda, respectivamente: $f'(a)\\simeq\\frac{f(a+h)-f(a-h)}{2h}$ y $f''(a)\\simeq\\frac{f(a+h)-f(a)+f(a-h)}{h^2}$, ambas tienen un error de truncatura del tipo $O(h^2)$; es decir poseen *orden de aproximación* $2$.\n",
        "\n",
        "**Ejercicio:** En lo que respecta *al orden o grado de exactitud* (para funciones polinómicas) de las demás fórmulas vistas, realizar las comprobaciones pertinentes para ver si en estos casos coinciden o no con los respectivos *órdenes de aproximación* (para funciones arbitrarias, suficientemente derivables) obtenidos."
      ]
    },
    {
      "cell_type": "code",
      "execution_count": null,
      "metadata": {
        "id": "5KS1pXbB-my5"
      },
      "outputs": [],
      "source": [
        "def formulad1(f):\n",
        "    return (f(a+h)-f(a-h))/(2*h)"
      ]
    },
    {
      "cell_type": "code",
      "execution_count": null,
      "metadata": {
        "id": "CyqNKtJt-my5",
        "colab": {
          "base_uri": "https://localhost:8080/"
        },
        "outputId": "88a9cbe2-0d4c-4e29-b25d-c0f1690a3d41"
      },
      "outputs": [
        {
          "output_type": "execute_result",
          "data": {
            "text/plain": [
              "[0, 1, 2*a, 3*a**2, 4*a**3]"
            ]
          },
          "metadata": {},
          "execution_count": 51
        }
      ],
      "source": [
        "[sp.diff(z**i,z).subs({z:a}) for i in range(5)]"
      ]
    },
    {
      "cell_type": "code",
      "execution_count": null,
      "metadata": {
        "id": "gDeBXyC0-my5",
        "colab": {
          "base_uri": "https://localhost:8080/"
        },
        "outputId": "dd19d190-e143-4a9f-9c56-af3511f617bc"
      },
      "outputs": [
        {
          "output_type": "execute_result",
          "data": {
            "text/plain": [
              "[0, 1, 2*a, 3*a**2 + h**2, 4*a*(a**2 + h**2)]"
            ]
          },
          "metadata": {},
          "execution_count": 52
        }
      ],
      "source": [
        "[formulad1(lambda z:z**i).simplify() for i in range(5)]\n",
        "# vemos que esta fórmula resulta exacta para polinomios hasta grado 2"
      ]
    },
    {
      "cell_type": "code",
      "execution_count": null,
      "metadata": {
        "id": "FEcE6oZX-my5"
      },
      "outputs": [],
      "source": [
        "def formulad2(f):\n",
        "    return (f(a-h)-2*f(a)+f(a+h))/(h**2)"
      ]
    },
    {
      "cell_type": "code",
      "execution_count": null,
      "metadata": {
        "id": "Bqc6B6rl-my5",
        "colab": {
          "base_uri": "https://localhost:8080/"
        },
        "outputId": "0103770c-c5a0-46f0-feb0-515bd4b46aa3"
      },
      "outputs": [
        {
          "output_type": "execute_result",
          "data": {
            "text/plain": [
              "[0, 0, 2, 6*a, 12*a**2]"
            ]
          },
          "metadata": {},
          "execution_count": 54
        }
      ],
      "source": [
        "[sp.diff(z**i,z,2).subs({z:a}) for i in range(5)]"
      ]
    },
    {
      "cell_type": "code",
      "execution_count": null,
      "metadata": {
        "id": "YafM0xdN-my5",
        "colab": {
          "base_uri": "https://localhost:8080/"
        },
        "outputId": "49013978-27f7-4e58-88e8-6a4e3fa49e96"
      },
      "outputs": [
        {
          "output_type": "execute_result",
          "data": {
            "text/plain": [
              "[0, 0, 2, 6*a, 12*a**2 + 2*h**2]"
            ]
          },
          "metadata": {},
          "execution_count": 55
        }
      ],
      "source": [
        "[formulad2(lambda z:z**i).simplify() for i in range(5)]\n",
        "# sin embargo esta otra resulta exacta también para polinomios de grado 3"
      ]
    },
    {
      "cell_type": "markdown",
      "metadata": {
        "id": "wFfsPR0q-my5"
      },
      "source": [
        "## Fórmulas para derivadas de orden elevado"
      ]
    },
    {
      "cell_type": "markdown",
      "metadata": {
        "id": "LgzDJOD9-my5"
      },
      "source": [
        "Para la obtención de nuevas fórmulas de derivación numérica de alto orden, otra estrategia posible sería la aplicación reiterada de otras fórmulas de orden inferior. Esta técnica suele proporcionar nuevas fórmulas que aproximan bien esta derivada de orden superior, sobre todo cuando se usan fórmulas centradas o bien fórmulas descentradas, pero todas en la misma dirección. Si no se respeta esta premisa, la fórmula resultante puede ser inservible y habrá que verificarla en todo caso. Veámos algunos ejemplos de cómo hacerlo.\n",
        "\n",
        "Veámos cómo obtener aproximaciones de la derivada segunda a partir de la aplicación reiterada de fórmulas para la derivada primera:\n",
        "\n",
        "Si $f'(a)\\simeq \\frac{f(a+h)-f(a)}{h}$ y $f'(a+h)\\simeq \\frac{f(a+2h)-f(a+h)}{h}$, entonces podemos introducirlas en la siguiente aproximación de la derivada segunda\n",
        "\n",
        "$$f''(a)\\simeq \\frac{f'(a+h)-f'(a)}{h}\\simeq \\frac{\\frac{f(a+2h)-f(a+h)}{h}-\\frac{f(a+h)-f(a)}{h}}{h}=\\frac{f(a+2h)-2f(a+h)+f(a)}{h^2}$$\n",
        "\n",
        "De forma totalmente análoga podríamos haber obtenido la corresponiente fórmula descentrada en el otro sentido\n",
        "\n",
        "$$f''(a)\\simeq \\frac{f'(a)-f'(a-h)}{h}\\simeq \\frac{\\frac{f(a)-f(a-h)}{h}-\\frac{f(a-h)-f(a-2h)}{h}}{h}=\\frac{f(a)-2f(a-h)+f(a-2h)}{h^2}$$\n",
        "\n",
        "Si ahora empleamos fórmulas centradas, $f'(a)\\simeq \\frac{f(a+h)-f(a-h)}{2h}$ entonces tendríamos\n",
        "\n",
        "$$f''(a)\\simeq \\frac{f'(a+h)-f'(a-h)}{2h}\\simeq \\frac{\\frac{f(a+2h)-f(a)}{2h}-\\frac{f(a)-f(a-2h)}{2h}}{2h}=\\frac{f(a+2h)-2f(a)+f(a-2h)}{4h^2}$$\n"
      ]
    },
    {
      "cell_type": "markdown",
      "metadata": {
        "id": "v5bw0yNh-my5"
      },
      "source": [
        "Aproximemos ahora la derivada de una función suficientemente derivable, de la que podemos disponer de sus valores tanto a la izquierda como a la derecha del punto donde queremos obtener la derivada cuarta\n",
        "\n",
        "$$f^{iv)}(a)\\equiv \\frac{d^2}{dx^2}_{|x=a}f''(x)\\simeq \\frac{f''(a+h)-2f''(a)+f''(a-h)}{h^2}\\simeq\n",
        "\\frac{\\frac{f(a+2h)-2f(a+h)+f(a)}{h^2}-2\\frac{f(a+h)-2f(a)+f(a-h)}{h^2}+\\frac{f(a)-2f(a-h)+f(a-2h)}{h^2}}{h^2}=\n",
        "\\frac{f(a+2h)-4f(a+h)+6f(a)-4f(a-h)+f(a-2h) }{h^4}$$"
      ]
    },
    {
      "cell_type": "markdown",
      "metadata": {
        "id": "Zc5ckQY2-my6"
      },
      "source": [
        "## Comportamiento del error en las fórmulas de derivación numérica"
      ]
    },
    {
      "cell_type": "markdown",
      "metadata": {
        "id": "aygH3ZqQ-my6"
      },
      "source": [
        "Como es bien conocido, aunque sea muy simple, toda fórmula de derivación numérica que se obtuvo en el desarrollo teórico es convergente.\n",
        "Los errores teóricos siempre tienden a cero cuando $h$ tiende a cero. Sin embargo, en el cálculo llevado a cabo por ordenador suelen aparecer otros errores que pueden desaconsejar el uso\n",
        "de valores muy pequeños de $h$ si se quiere una buena aproximación. Es lo que ocurre con el eror de cancelación en las fórmulas\n",
        "de derivación numérica. Veámoslo con algún ejemplo: vamos a dar el valor de las derivadas numéricas de una función $f$ en el punto $a=2$,\n",
        "con la fórmula $\\frac{f(a+h)-f(a)}{h}$ para valores de $h$ de la forma $h=10^{-j}$ con $j\\geq 1$. Veremos que llega un momento en el\n",
        "que la derivada numérica deja de converger, con unas oscilaciones no controlables, para después pasar a valer cero, porque el numerador\n",
        "vale cero. Esto último ocurre cuando $h$ es tan pequeño que para el ordenador $a+h$ y $h$ toman el mismo valor como *número máquina*."
      ]
    },
    {
      "cell_type": "code",
      "execution_count": null,
      "metadata": {
        "id": "vN_OP1IQ-my6"
      },
      "outputs": [],
      "source": [
        "z = sp.Symbol('z')\n",
        "def func(z):\n",
        "    \"\"\"función (z-0.5)/(1+z^2)\"\"\"\n",
        "    return (z-0.5)/(1+z**2)"
      ]
    },
    {
      "cell_type": "code",
      "execution_count": null,
      "metadata": {
        "id": "dZMMym5E-my6"
      },
      "outputs": [],
      "source": [
        "f = func"
      ]
    },
    {
      "cell_type": "code",
      "execution_count": null,
      "metadata": {
        "id": "p8zmxIJD-my6",
        "colab": {
          "base_uri": "https://localhost:8080/",
          "height": 37
        },
        "outputId": "71f7519c-5216-4f3e-e0f5-f0239b9c8fd6"
      },
      "outputs": [
        {
          "output_type": "execute_result",
          "data": {
            "text/plain": [
              "-0.0400000000000000"
            ],
            "text/latex": "$\\displaystyle -0.04$"
          },
          "metadata": {},
          "execution_count": 58
        }
      ],
      "source": [
        "a=2. # El valor exacto de la derivada de la función en este punto\n",
        "vexacto = (sp.diff(f(z),z)).subs({z:a}) # sería el siguiente\n",
        "vexacto"
      ]
    },
    {
      "cell_type": "code",
      "execution_count": null,
      "metadata": {
        "id": "XdjWSveB-my6",
        "colab": {
          "base_uri": "https://localhost:8080/"
        },
        "outputId": "804f6065-17db-46f1-a0f7-4425363c4052"
      },
      "outputs": [
        {
          "output_type": "stream",
          "name": "stdout",
          "text": [
            "[-0.05       -0.04251386 -0.04027698 -0.04002797 -0.0400028  -0.04000028\n",
            " -0.04000003 -0.04       -0.04       -0.04       -0.03999967 -0.04000134\n",
            " -0.03996803 -0.03996803 -0.03885781  0.          0.          0.\n",
            "  0.          0.          0.        ]\n"
          ]
        }
      ],
      "source": [
        "n=20 # Calculemos aproximaciones, mediante una fórmula numérica de la derivada primera progresiva\n",
        "dersnum = np.array([(f(a+10**(-j))-f(a))/(10**(-j)) for j in range(n+1)])\n",
        "print(dersnum)  # con h desde 10^0 hasta el valor 10^(-n)."
      ]
    },
    {
      "cell_type": "code",
      "execution_count": null,
      "metadata": {
        "id": "cIS0b0y--my6",
        "colab": {
          "base_uri": "https://localhost:8080/"
        },
        "outputId": "ee45d8d2-9661-4df1-e30d-8e2ce06996fc"
      },
      "outputs": [
        {
          "output_type": "stream",
          "name": "stdout",
          "text": [
            "[-0.0100000000000000 -0.00251386321626584 -0.000276978631370606\n",
            " -2.79696187167056e-5 -2.79969607058783e-6 -2.79993845941906e-7\n",
            " -2.80120771578574e-8 -2.75450334763505e-9 2.24150026317815e-9\n",
            " -3.30961485994763e-9 3.29757292527599e-7 -1.33557724441014e-6\n",
            " 3.19711134943446e-5 3.19711134943446e-5 0.00114219413811950\n",
            " 0.0400000000000000 0.0400000000000000 0.0400000000000000\n",
            " 0.0400000000000000 0.0400000000000000 0.0400000000000000]\n"
          ]
        }
      ],
      "source": [
        "errores = np.array(dersnum) - vexacto  # Aquí podemos ver una tabla\n",
        "print(errores)                         # con los errores cometidos"
      ]
    },
    {
      "cell_type": "markdown",
      "metadata": {
        "id": "gkBawXBm-my6"
      },
      "source": [
        "Vemos pues que los valores redondeados, con seis cifras significativas, de la derivada numérica para $j=6,7,8$ y $9$ coincidirán con el valor exacto. Además observamos que al principio, a medida que $h$ disminuye, el error (fundamentalmente de *truncatura*) también disminuye, después empieza a haber comportamientos extraños, donde los errores pueden empezar a aumentar de nuevo; y finalmente la aproximación que da es cero (aquí el error predominante sería el de *cancelación*). Comprobémoslo a continuación."
      ]
    },
    {
      "cell_type": "code",
      "execution_count": null,
      "metadata": {
        "id": "WUSuMhm0-my6",
        "colab": {
          "base_uri": "https://localhost:8080/"
        },
        "outputId": "8b85f9ae-ebdd-445f-b27a-3a5e2bb3d130"
      },
      "outputs": [
        {
          "output_type": "execute_result",
          "data": {
            "text/plain": [
              "[-0.0500000,\n",
              " -0.0425139,\n",
              " -0.0402770,\n",
              " -0.0400280,\n",
              " -0.0400028,\n",
              " -0.0400003,\n",
              " -0.0400000,\n",
              " -0.0400000,\n",
              " -0.0400000,\n",
              " -0.0400000,\n",
              " -0.0399997,\n",
              " -0.0400013,\n",
              " -0.0399680,\n",
              " -0.0399680,\n",
              " -0.0388578,\n",
              " 0,\n",
              " 0,\n",
              " 0,\n",
              " 0,\n",
              " 0,\n",
              " 0]"
            ]
          },
          "metadata": {},
          "execution_count": 61
        }
      ],
      "source": [
        "[sp.N(dersnum[k],6) for k in range(n+1)] # con 6 cifras significativas"
      ]
    },
    {
      "cell_type": "markdown",
      "metadata": {
        "id": "zIsSHBma-my7"
      },
      "source": [
        "**Ejercicio:** Puede cambiar ahora el valor de $a$ y comprobar este mismo hecho para otros valores y otras funciones. Por ejemplo el comportamiento del error en $a=-1$ se muestra a continuación:"
      ]
    },
    {
      "cell_type": "code",
      "execution_count": null,
      "metadata": {
        "id": "nitRQVxu-my7",
        "colab": {
          "base_uri": "https://localhost:8080/",
          "height": 37
        },
        "outputId": "813c1613-1f55-427f-930a-ad2cb0659d73"
      },
      "outputs": [
        {
          "output_type": "execute_result",
          "data": {
            "text/plain": [
              "-0.250000000000000"
            ],
            "text/latex": "$\\displaystyle -0.25$"
          },
          "metadata": {},
          "execution_count": 62
        }
      ],
      "source": [
        "a=-1.  # Calculemos el valor exacto de la derivada de la función en este punto\n",
        "vexacto = (sp.diff(f(z),z)).subs({z:a}) # Éste sería el valor exacto\n",
        "vexacto"
      ]
    },
    {
      "cell_type": "code",
      "execution_count": null,
      "metadata": {
        "id": "DkyscPnh-my7",
        "colab": {
          "base_uri": "https://localhost:8080/"
        },
        "outputId": "69a95c90-bce5-47d0-b09a-4a9ef4c1c815"
      },
      "outputs": [
        {
          "output_type": "stream",
          "name": "stdout",
          "text": [
            "[ 0.25       -0.23480663 -0.24872481 -0.24987475 -0.2499875  -0.24999875\n",
            " -0.24999988 -0.24999999 -0.25       -0.24999991 -0.25000002 -0.25000002\n",
            " -0.2499112  -0.2509104  -0.2553513  -0.33306691 -1.11022302  0.\n",
            "  0.          0.          0.        ]\n"
          ]
        }
      ],
      "source": [
        "n=20 # Hagamos ahora aproximaciones, mediante una fórmula numérica simple\n",
        "dersnum = np.array([(f(a+10**(-j))-f(a))/(10**(-j)) for j in range(n+1)])\n",
        "print(dersnum)  # con h desde 10^0 hasta el valor 10^(-n)."
      ]
    },
    {
      "cell_type": "code",
      "execution_count": null,
      "metadata": {
        "id": "wmSWQhfq-my7",
        "colab": {
          "base_uri": "https://localhost:8080/"
        },
        "outputId": "a2c5c851-aa0d-4c15-b79a-5f0313cca923"
      },
      "outputs": [
        {
          "output_type": "stream",
          "name": "stdout",
          "text": [
            "[0.500000000000000 0.0151933701657467 0.00127518812181293\n",
            " 0.000125250187471337 1.25024996187051e-5 1.25003177234295e-6\n",
            " 1.24976168081048e-7 1.15113749643569e-8 1.51936774273054e-9\n",
            " 9.03372097404986e-8 -2.06850927497726e-8 -2.06850927497726e-8\n",
            " 8.87971568772628e-5 -0.000910403565285378 -0.00535129566378600\n",
            " -0.0830669073875470 -0.860223024625157 0.250000000000000\n",
            " 0.250000000000000 0.250000000000000 0.250000000000000]\n"
          ]
        }
      ],
      "source": [
        "errores = np.array(dersnum) - vexacto\n",
        "print(errores)  # Aquí podemos ver una tabla o array con los errores cometidos"
      ]
    },
    {
      "cell_type": "markdown",
      "metadata": {
        "id": "YrFh7YNo-my7"
      },
      "source": [
        "Vemos pues que el error mínimo en valor absoluto se alcanza cuando $j=8$; después empieza a aumentar hasta $j=16$. A partir de $j=17$, el error\n",
        "se hace constante porque la derivada numérica es cero.\n",
        "\n",
        "Cambiamos ahora a una fórmula de mayor precisión y volvemos a calcular las derivadas numéricas y los errores."
      ]
    },
    {
      "cell_type": "code",
      "execution_count": null,
      "metadata": {
        "id": "tIfritYA-my7",
        "colab": {
          "base_uri": "https://localhost:8080/"
        },
        "outputId": "56f6e7ff-5e9e-4c70-e99e-d7eb67cb5d96"
      },
      "outputs": [
        {
          "output_type": "stream",
          "name": "stdout",
          "text": [
            "[ 0.         -0.24749381 -0.249975   -0.24999975 -0.25       -0.25\n",
            " -0.25       -0.25       -0.25       -0.24999997 -0.25000002 -0.25000002\n",
            " -0.24996671 -0.25035529 -0.24980018 -0.27755576 -0.55511151  0.\n",
            "  0.          0.          0.        ]\n"
          ]
        }
      ],
      "source": [
        "n=20 # Hagamos ahora aproximaciones, mediante una fórmula numérica simple\n",
        "dersnum2 = np.array([(f(a+10**(-j))-f(a-10**(-j)))/(2*10**(-j)) for j in range(n+1)])\n",
        "print(dersnum2)  # con h desde 10^0 hasta el valor 10^(-n)."
      ]
    },
    {
      "cell_type": "code",
      "execution_count": null,
      "metadata": {
        "id": "asWVmm6G-my7",
        "colab": {
          "base_uri": "https://localhost:8080/"
        },
        "outputId": "5c6c746d-51e4-45e3-ce5e-d13523e09386"
      },
      "outputs": [
        {
          "output_type": "stream",
          "name": "stdout",
          "text": [
            "[0.250000000000000 0.00250618734531727 2.50006249367107e-5\n",
            " 2.49999992707473e-7 2.49969467347455e-9 2.61178023652775e-11\n",
            " -3.49444917446817e-11 -7.01078306519776e-10 1.51936774273054e-9\n",
            " 3.48260585092408e-8 -2.06850927497726e-8 -2.06850927497726e-8\n",
            " 3.32860056460049e-5 -0.000355292052972800 0.000199819459339778\n",
            " -0.0275557561562891 -0.305111512312578 0.250000000000000\n",
            " 0.250000000000000 0.250000000000000 0.250000000000000]\n"
          ]
        }
      ],
      "source": [
        "errores2 = np.array(dersnum2) - vexacto\n",
        "print(errores2)  # Aquí podemos ver una tabla o array con los errores cometidos"
      ]
    },
    {
      "cell_type": "markdown",
      "metadata": {
        "id": "Li7XwSK5-my7"
      },
      "source": [
        "Vemos que el comportamiento es similar al de la primera fórmula, sólo que el error es menor. Se consiguen más cifras exactas, once en este caso, sin que $h$ tenga que disminuir tanto como antes. Ahora con $j=5$ se han conseguido once cifras. Antes el error mínimo se alcanzó con $j=8$\n",
        "y fueron sólo unas ocho cifras significativas. Aquí se ve claramente cómo esta fórmula tiene un orden de aproximación superior."
      ]
    },
    {
      "cell_type": "markdown",
      "metadata": {
        "id": "oCmwc8jp-my8"
      },
      "source": [
        "# Integración numérica"
      ]
    },
    {
      "cell_type": "markdown",
      "metadata": {
        "id": "uKib8S5n-my8"
      },
      "source": [
        "## Fórmulas de los rectángulos"
      ]
    },
    {
      "cell_type": "markdown",
      "metadata": {
        "id": "pjurjsmD-my8"
      },
      "source": [
        "Entre las fórmulas de integración numérica más simples que hay están las denominadas *fórmulas de los rectángulos*, que además son usadas normalmente para la definición de las denominadas *sumas de Riemann* y el correspondiente concepto de *Integral de Riemann*.\n",
        "\n",
        "Veámos a continuación cómo obtenerlas; en el caso de considerar un sólo rectángulo que aproxime por ejemplo a la siguiente región del semiplano superior (con $y\\geq 0$)\n",
        "\n",
        "$$\\mathcal{R}\\equiv\\{ (x,y)\\in \\mathbb{R}^2 : a\\leq x\\leq b,\\; 0\\leq y\\leq f(x)  \\}$$\n",
        "\n",
        "aproximaríamos la correspondiente integral de la siguiente manera, sustituyendo la función integrando por una función constante en dicho intervalo de integración\n",
        "\n",
        "$$area(R)=\\int_a^b f(x)\\,dx \\simeq\\int_a^b f(x_0)\\,dx =(b-a)f(x_0),$$ para cierto punto $x_0\\in[a,b]$, que a veces tomaremos como:\n",
        "- $x_0=a$, obteniéndose la *fórmula del rectángulo izquierdo* $\\int_a^b f(x)\\,dx \\simeq (b-a)f(a),$\n",
        "- $x_0=b$, obteniéndose la *fórmula del rectángulo derecho* $\\int_a^b f(x)\\,dx \\simeq (b-a)f(b),$\n",
        "- $x_0=\\frac{a+b}{2}$, obteniéndose en este caso la *fórmula del rectángulo del punto medio* $\\int_a^b f(x)\\,dx \\simeq (b-a)f(\\frac{a+b}{2})$.\n",
        "\n",
        "Nótese que, en todos los casos, lo que se tiene es el área del correspondiente rectángulo, cuya base mide $b-a$ y la altura será la determinada por el valor $f(x_0)$. Cuando este valor de la función sea negativo en vez de positivo, entonces obtendríamos el área del correspondiente rectángulo pero cambiada de signo, que ahora estaría por debajo del eje $Ox$, justo lo mismo que el concepto de integral mide el área de las regiones del semiplano inferior (con $y\\leq 0$)\n",
        "\n",
        "$$\\mathcal{R}\\equiv\\{ (x,y)\\in \\mathbb{R}^2 : a\\leq x\\leq b,\\; f(x)\\leq y\\leq 0 \\},$$ donde $$\\int_a^b f(x)\\,dx = -area(\\mathcal{R})$$ en este caso."
      ]
    },
    {
      "cell_type": "code",
      "execution_count": null,
      "metadata": {
        "id": "_2VCFPix-my8"
      },
      "outputs": [],
      "source": [
        "import matplotlib.patches as patches"
      ]
    },
    {
      "cell_type": "code",
      "execution_count": null,
      "metadata": {
        "id": "niZQlPt7-my8"
      },
      "outputs": [],
      "source": [
        "z = sp.Symbol('z')\n",
        "xL,yL,xM,yM,xR,yR = sp.symbols('xL,yL,xM,yM,xR,yR')\n",
        "dyL,dyR = sp.symbols('dyL,dyR')\n",
        "\n",
        "def linea(z,xL,yL,xR,yR):\n",
        "    \"\"\"línea uniendo los puntos (xL,yL) y (xR,yR)\"\"\"\n",
        "    return (z-xL)/(xR-xL)*yR+(xR-z)/(xR-xL)*yL\n",
        "\n",
        "def parabola(z,xL,yL,xM,yM,xR,yR):\n",
        "    \"\"\"parábola uniendo los puntos (xL,yL), (xM,yM) y (xR,yR)\"\"\"\n",
        "    D1 = (yM-yL)/(xM-xL)\n",
        "    D2 = (yR-yL-(xR-xL)*D1)/((xR-xL)*(xR-xM))\n",
        "    return yL+D1*(z-xL)+D2*(z-xL)*(z-xM)"
      ]
    },
    {
      "cell_type": "code",
      "execution_count": null,
      "metadata": {
        "id": "cJLuYSOF-my8"
      },
      "outputs": [],
      "source": [
        "def func(z):\n",
        "    \"\"\"función z^2+1\"\"\"\n",
        "    return z**2+1\n",
        "# f_vec = np.vectorize(f)"
      ]
    },
    {
      "cell_type": "code",
      "execution_count": null,
      "metadata": {
        "id": "kEeXfy25-my8"
      },
      "outputs": [],
      "source": [
        "f = func"
      ]
    },
    {
      "cell_type": "code",
      "execution_count": null,
      "metadata": {
        "id": "xcxBicRW-my8",
        "colab": {
          "base_uri": "https://localhost:8080/",
          "height": 39
        },
        "outputId": "6768d59b-be09-4778-8153-8d10a87f3918"
      },
      "outputs": [
        {
          "output_type": "execute_result",
          "data": {
            "text/plain": [
              "2*z"
            ],
            "text/latex": "$\\displaystyle 2 z$"
          },
          "metadata": {},
          "execution_count": 71
        }
      ],
      "source": [
        "sp.diff(func(z),z)"
      ]
    },
    {
      "cell_type": "code",
      "execution_count": null,
      "metadata": {
        "id": "pzvfdqgX-my8"
      },
      "outputs": [],
      "source": [
        "def dfunc(z):\n",
        "    \"\"\"función 2z, derivada de f(z)\"\"\"\n",
        "    return 2*z"
      ]
    },
    {
      "cell_type": "code",
      "execution_count": null,
      "metadata": {
        "id": "VMBbRebB-my9"
      },
      "outputs": [],
      "source": [
        "df = sp.diff(f(z),z)   # otra forma de obtener lo mismo"
      ]
    },
    {
      "cell_type": "code",
      "execution_count": null,
      "metadata": {
        "id": "8UVlRZ6m-my9",
        "colab": {
          "base_uri": "https://localhost:8080/",
          "height": 39
        },
        "outputId": "40ead325-c68a-4267-edd7-0cd3d85ddb87"
      },
      "outputs": [
        {
          "output_type": "execute_result",
          "data": {
            "text/plain": [
              "2*z"
            ],
            "text/latex": "$\\displaystyle 2 z$"
          },
          "metadata": {},
          "execution_count": 74
        }
      ],
      "source": [
        "df"
      ]
    },
    {
      "cell_type": "code",
      "execution_count": null,
      "metadata": {
        "id": "1t_ZjTHa-my9",
        "colab": {
          "base_uri": "https://localhost:8080/",
          "height": 729
        },
        "outputId": "28d4bf67-4f74-4947-9120-74c608077cbe"
      },
      "outputs": [
        {
          "output_type": "display_data",
          "data": {
            "text/plain": [
              "<Figure size 800x800 with 1 Axes>"
            ],
            "image/png": "[encoded data removed]"
          },
          "metadata": {}
        }
      ],
      "source": [
        "nxx = 100; a = 0; b = 1\n",
        "xx = np.linspace(float(a),float(b),nxx)\n",
        "yy = f(xx)\n",
        "x0 = (a+b)/2; y0 = f(x0)\n",
        "fig,ax = plt.subplots(figsize=(8,8))\n",
        "ax.plot(x0,y0,'ro',)\n",
        "ax.plot(xx,yy,'k',label='función del integrando')\n",
        "ax.add_patch(\n",
        "    patches.Rectangle(\n",
        "        (a, 0),   # (x,y) coordenadas esquina inferior izquierda\n",
        "        b-a,      # anchura, y\n",
        "        y0,       # altura del rectángulo\n",
        "    )\n",
        ")\n",
        "ax.legend(loc=9)\n",
        "ax.set_xlabel('$x$',fontsize=18)\n",
        "ax.set_ylabel('$y$',fontsize=18)\n",
        "ax.set_title('Fórmula del rectángulo del punto medio');"
      ]
    },
    {
      "cell_type": "code",
      "execution_count": null,
      "metadata": {
        "id": "o25J0ZLo-my9",
        "colab": {
          "base_uri": "https://localhost:8080/",
          "height": 729
        },
        "outputId": "5c2994a9-e787-4aec-da71-5e5cc3a01e3f"
      },
      "outputs": [
        {
          "output_type": "display_data",
          "data": {
            "text/plain": [
              "<Figure size 800x800 with 1 Axes>"
            ],
            "image/png": "[encoded data removed]"
          },
          "metadata": {}
        }
      ],
      "source": [
        "nxx = 100; a = 0; b = 1\n",
        "xx = np.linspace(float(a),float(b),nxx)\n",
        "yy = f(xx)\n",
        "x0 = a; y0 = f(x0)\n",
        "fig,ax = plt.subplots(figsize=(8,8))\n",
        "ax.plot(x0,y0,'ro')\n",
        "ax.plot(xx,yy,'k',label='función del integrando')\n",
        "ax.add_patch(\n",
        "    patches.Rectangle(\n",
        "        (a, 0),   # (x,y) coordenadas esquina inferior izquierda\n",
        "        b-a,      # anchura, y\n",
        "        y0,       # altura del rectángulo\n",
        "    )\n",
        ")\n",
        "ax.legend(loc=9)\n",
        "ax.set_xlabel('$x$',fontsize=18)\n",
        "ax.set_ylabel('$y$',fontsize=18)\n",
        "ax.set_title('Fórmula del rectángulo izquierdo');"
      ]
    },
    {
      "cell_type": "code",
      "execution_count": null,
      "metadata": {
        "id": "sk_mDGHu-my9",
        "colab": {
          "base_uri": "https://localhost:8080/",
          "height": 729
        },
        "outputId": "21e09413-e6e8-4d55-a49e-fdd81ae9d7b2"
      },
      "outputs": [
        {
          "output_type": "display_data",
          "data": {
            "text/plain": [
              "<Figure size 800x800 with 1 Axes>"
            ],
            "image/png": "[encoded data removed]"
          },
          "metadata": {}
        }
      ],
      "source": [
        "xx = np.linspace(float(a),float(b),nxx)\n",
        "yy = f(xx)\n",
        "x0 = b; y0 = f(x0)\n",
        "fig,ax = plt.subplots(figsize=(8,8))\n",
        "ax.plot(x0,y0,'ro')\n",
        "ax.plot(xx,yy,'k',label='función del integrando')\n",
        "ax.add_patch(\n",
        "    patches.Rectangle(\n",
        "        (a, 0),   # (x,y) coordenadas esquina inferior izquierda\n",
        "        b-a,      # anchura, y\n",
        "        y0,       # altura del rectángulo\n",
        "    )\n",
        ")\n",
        "ax.legend(loc=9)\n",
        "ax.set_xlabel('$x$',fontsize=18)\n",
        "ax.set_ylabel('$y$',fontsize=18)\n",
        "ax.set_title('Fórmula del rectángulo derecho');"
      ]
    },
    {
      "cell_type": "markdown",
      "metadata": {
        "id": "UUg3TGbq-my9"
      },
      "source": [
        "La idea ahora para obtener las correspondientes fórmulas compuestas, asociadas a estas reglas de cuadratura simples, sería aplicarlas a los subintervalos que obtendríamos al subdividir el intervalo original $[a,b]$ mediante una partición cualquiera del mismo:\n",
        "$$a=x_0<x_1 < \\ldots x_{i-1}<x_i<x_{i+1}<\\ldots <x_{n-1}<x_n=b$$\n",
        "aunque se suele emplear *particiones uniformes* (con $x_{i}-x_{i-1}=h\\equiv \\frac{b-a}{n},\\; \\forall i=1,\\ldots,n$ para cierto valor entero natural $n\\in \\mathbb{N}$).\n",
        "\n",
        "Así pues, para estas fórmulas de los rectángulos obtendríamos las siguientes expresiones en cada uno de los casos:\n",
        "\n",
        "$$\\int_a^b f(x)\\,dx = \\sum_{i=0}^{n-1}\\int_{x_{i}}^{x_{i+1}} f(x)\\,dx\\simeq  \\sum_{i=0}^{n-1} (x_{i+1}- x_{i}) f(\\psi_i)$$\n",
        "\n",
        "donde $\\psi_i = x_{i}, x_{i+1}$ o bien $\\frac{x_{i}+ x_{i+1}}{2}$ según se trate de la fórmula de los rectángulos a izquierda, derecha o del punto medio.\n",
        "\n",
        "Si se tratara de particiones uniformes podremos escribir\n",
        "\n",
        "$$\\int_a^b f(x)\\,dx \\simeq h \\sum_{i=0}^{n-1} f(\\psi_i)$$\n",
        "con $\\psi_i = a+ i h, a+(i+1) h$ o bien $a+ (i+1/2)h$ según el caso, y así podríamos programarlo también sin mucha dificultad."
      ]
    },
    {
      "cell_type": "markdown",
      "metadata": {
        "id": "hR8P0WNx-my9"
      },
      "source": [
        "### Fórmula compuesta de los rectángulos a izquierda"
      ]
    },
    {
      "cell_type": "code",
      "execution_count": null,
      "metadata": {
        "id": "vHkfJYSq-my9"
      },
      "outputs": [],
      "source": [
        "def formrectangizda(f,a,b,nx):\n",
        "    \"\"\"fórmula compuesta de los rectangulos a izquierda\"\"\"\n",
        "    h = (b-a)/nx\n",
        "    return h*sum([f(a+i*h) for i in range(0,nx)])"
      ]
    },
    {
      "cell_type": "code",
      "execution_count": null,
      "metadata": {
        "id": "MW01Yhs3-my-",
        "colab": {
          "base_uri": "https://localhost:8080/"
        },
        "outputId": "3e71ec99-309a-40ba-ee29-3d7a2ff5acdc"
      },
      "outputs": [
        {
          "output_type": "execute_result",
          "data": {
            "text/plain": [
              "1.3283500000000001"
            ]
          },
          "metadata": {},
          "execution_count": 79
        }
      ],
      "source": [
        "formrectangizda(f,a,b,100)"
      ]
    },
    {
      "cell_type": "code",
      "execution_count": null,
      "metadata": {
        "id": "v_Pd8Fp2-my-",
        "colab": {
          "base_uri": "https://localhost:8080/"
        },
        "outputId": "cd822991-52f4-45bd-b0c3-82845e6ed108"
      },
      "outputs": [
        {
          "output_type": "execute_result",
          "data": {
            "text/plain": [
              "1.3283500000000001"
            ]
          },
          "metadata": {},
          "execution_count": 80
        }
      ],
      "source": [
        "formrectangizda(lambda z:z**2+1,0,1,100) # Usando una función anónima lambda para definir z^2+1"
      ]
    },
    {
      "cell_type": "code",
      "execution_count": null,
      "metadata": {
        "id": "RRU_kaJ7-my-",
        "colab": {
          "base_uri": "https://localhost:8080/",
          "height": 729
        },
        "outputId": "de26bb57-6b82-48f4-fba0-cb9e2b262a80"
      },
      "outputs": [
        {
          "output_type": "display_data",
          "data": {
            "text/plain": [
              "<Figure size 800x800 with 1 Axes>"
            ],
            "image/png": "[encoded data removed]"
          },
          "metadata": {}
        }
      ],
      "source": [
        "nxx = 100; nx=10\n",
        "xx = np.linspace(float(a),float(b),nxx)\n",
        "yy = f(xx)\n",
        "x = np.linspace(a,b,nx); y = f(x)\n",
        "\n",
        "fig,ax = plt.subplots(figsize=(8,8))\n",
        "ax.plot(x[:-1],y[:-1],'ro')\n",
        "ax.plot(xx,yy,'k',label='función del integrando')\n",
        "for k in range(1,nx):\n",
        "    zz = np.linspace(float(x[k-1]),float(x[k]),nxx)\n",
        "    yk = [linea(z,x[k-1],y[k-1],x[k],y[k-1]) for z in zz]\n",
        "    ax.fill_between(zz,0,yk);\n",
        "\n",
        "\n",
        "ax.legend(loc=9)\n",
        "ax.set_xlabel('$x$',fontsize=18)\n",
        "ax.set_ylabel('$y$',fontsize=18)\n",
        "ax.set_title('Fórmula compuesta de los rectángulos a la izquierda');"
      ]
    },
    {
      "cell_type": "markdown",
      "metadata": {
        "id": "wY4vkcNl-my-"
      },
      "source": [
        "### Fórmula compuesta de los rectángulos a derecha"
      ]
    },
    {
      "cell_type": "code",
      "execution_count": null,
      "metadata": {
        "id": "tWl8yeqe-my-"
      },
      "outputs": [],
      "source": [
        "def formrectangdcha(f,a,b,nx):\n",
        "    \"\"\"fórmula compuesta de los rectangulos a la derecha\"\"\"\n",
        "    h = (b-a)/nx\n",
        "    return h*sum([f(a+(i+1)*h) for i in range(0,nx)])"
      ]
    },
    {
      "cell_type": "code",
      "execution_count": null,
      "metadata": {
        "id": "q47dBxB5-my-",
        "colab": {
          "base_uri": "https://localhost:8080/"
        },
        "outputId": "c7bc2a88-b929-4bcd-cf2b-2afbaa7ff0ab"
      },
      "outputs": [
        {
          "output_type": "execute_result",
          "data": {
            "text/plain": [
              "1.3383500000000002"
            ]
          },
          "metadata": {},
          "execution_count": 83
        }
      ],
      "source": [
        "formrectangdcha(lambda z:z**2+1,0,1,100)"
      ]
    },
    {
      "cell_type": "code",
      "execution_count": null,
      "metadata": {
        "id": "EQUGq1Aa-my-",
        "colab": {
          "base_uri": "https://localhost:8080/"
        },
        "outputId": "ad293ff5-7010-44cb-9882-c0734fd2b8df"
      },
      "outputs": [
        {
          "output_type": "execute_result",
          "data": {
            "text/plain": [
              "1.3383500000000002"
            ]
          },
          "metadata": {},
          "execution_count": 84
        }
      ],
      "source": [
        "formrectangdcha(f,0,1,100)"
      ]
    },
    {
      "cell_type": "code",
      "execution_count": null,
      "metadata": {
        "colab": {
          "base_uri": "https://localhost:8080/",
          "height": 729
        },
        "id": "dRCzwSpy-my-",
        "outputId": "494ca8fa-73ce-4204-ff9f-86fdf2d1e27b"
      },
      "outputs": [
        {
          "output_type": "display_data",
          "data": {
            "text/plain": [
              "<Figure size 800x800 with 1 Axes>"
            ],
            "image/png": "[encoded data removed]"
          },
          "metadata": {}
        }
      ],
      "source": [
        "nx=10; x = np.linspace(a,b,nx); y = f(x)\n",
        "nxx = 100;\n",
        "xx = np.linspace(float(a),float(b),nxx)\n",
        "yy = f(xx)\n",
        "fig,ax = plt.subplots(figsize=(8,8))\n",
        "ax.plot(x[1:],y[1:],'ro')\n",
        "ax.plot(xx,yy,'k',label='función del integrando')\n",
        "for k in range(1,nx):\n",
        "    zz = np.linspace(float(x[k-1]),float(x[k]),nxx)\n",
        "    yk = [linea(z,x[k-1],y[k],x[k],y[k]) for z in zz]\n",
        "    ax.fill_between(zz,0,yk);\n",
        "\n",
        "ax.legend(loc=9)\n",
        "ax.set_xlabel('$x$',fontsize=18)\n",
        "ax.set_ylabel('$y$',fontsize=18)\n",
        "ax.set_title('Fórmula compuesta de los rectángulos a la derecha');"
      ]
    },
    {
      "cell_type": "markdown",
      "metadata": {
        "id": "W4qHdusK-my_"
      },
      "source": [
        "### Fórmula compuesta de los rectángulos del punto medio"
      ]
    },
    {
      "cell_type": "code",
      "execution_count": null,
      "metadata": {
        "id": "ZYEEIWhx-my_"
      },
      "outputs": [],
      "source": [
        "def formrectangptomedio(f,a,b,nx):\n",
        "    \"\"\"fórmula compuesta de los rectangulos de punto medio\"\"\"\n",
        "    h = (b-a)/nx\n",
        "    return h*sum([f(a+(i+1/2)*h) for i in range(0,nx)])"
      ]
    },
    {
      "cell_type": "code",
      "execution_count": null,
      "metadata": {
        "colab": {
          "base_uri": "https://localhost:8080/"
        },
        "id": "hR0WUG0D-my_",
        "outputId": "676d2558-80b9-4352-9873-bd2b1f6a352a"
      },
      "outputs": [
        {
          "output_type": "execute_result",
          "data": {
            "text/plain": [
              "1.333325"
            ]
          },
          "metadata": {},
          "execution_count": 87
        }
      ],
      "source": [
        "formrectangptomedio(lambda z:z**2+1,0,1,100)"
      ]
    },
    {
      "cell_type": "code",
      "execution_count": null,
      "metadata": {
        "colab": {
          "base_uri": "https://localhost:8080/"
        },
        "id": "hupsjNA--my_",
        "outputId": "14321e1d-ec4e-4b17-8ce6-4d74f4c5046e"
      },
      "outputs": [
        {
          "output_type": "execute_result",
          "data": {
            "text/plain": [
              "1.333325"
            ]
          },
          "metadata": {},
          "execution_count": 88
        }
      ],
      "source": [
        "formrectangptomedio(f,0,1,100)"
      ]
    },
    {
      "cell_type": "code",
      "execution_count": null,
      "metadata": {
        "colab": {
          "base_uri": "https://localhost:8080/",
          "height": 729
        },
        "id": "38nMHNPF-my_",
        "outputId": "6a0f09fc-616a-4c18-f214-d7f10747391e"
      },
      "outputs": [
        {
          "output_type": "display_data",
          "data": {
            "text/plain": [
              "<Figure size 800x800 with 1 Axes>"
            ],
            "image/png": "[encoded data removed]"
          },
          "metadata": {}
        }
      ],
      "source": [
        "nxx = 100; nx=10\n",
        "xx = np.linspace(float(a),float(b),nxx)\n",
        "yy = f(xx)\n",
        "x = np.linspace(a,b,nx); y = f(x)\n",
        "x0 = (x[1:]+x[:-1])/2; y0 = f(x0)\n",
        "\n",
        "fig,ax = plt.subplots(figsize=(8,8))\n",
        "ax.plot(x0,y0,'ro')\n",
        "ax.plot(xx,yy,'k',label='función del integrando')\n",
        "for k in range(1,nx):\n",
        "    zz = np.linspace(float(x[k-1]),float(x[k]),nxx)\n",
        "    yk = [linea(z,x[k-1],(y[k-1]+y[k])/2,x[k],(y[k-1]+y[k])/2) for z in zz]\n",
        "    ax.fill_between(zz,0,yk);\n",
        "\n",
        "ax.legend(loc=9)\n",
        "ax.set_xlabel('$x$',fontsize=18)\n",
        "ax.set_ylabel('$y$',fontsize=18)\n",
        "ax.set_title('Fórmula compuesta de los rectángulos del punto medio');"
      ]
    },
    {
      "cell_type": "markdown",
      "metadata": {
        "id": "pdme8h5N-my_"
      },
      "source": [
        "## Fórmulas de los trapecios (simple y compuesta)"
      ]
    },
    {
      "cell_type": "markdown",
      "metadata": {
        "id": "g5a1jScz-my_"
      },
      "source": [
        "Si ahora empleamos trapecios, en vez de rectángulos, para aproximar las integrales de la función integrando en cada uno de los subintervalos $[x_{i},x_{i+1}],\\; i=0,1,\\ldots,n-1$, sabiendo por otra parte que el área de un trapecio de base $[x_{i},x_{i+1}]$ y alturas $f(x_{i})$ y $f(x_{i+1})$ es $(x_{i+1}-x_i)\\frac{f(x_{i})+f(x_{i+1})}{2}$, entonces llegaríamos a las siguientes fórmulas de los trapecios:\n",
        "\n",
        "- simple (con $n=1$ y $x_0=a, \\; x_1=b$):\n",
        "$$\\int_a^b f(x)\\,dx\\simeq (b-a)\\frac{f(a)+f(b)}{2}$$\n",
        "- compuesta (para cierto $n\\in \\mathbb{N}$, con $n>1$, y particiones arbitrarias):\n",
        "$$\\int_a^b f(x)\\,dx = \\sum_{i=0}^{n-1}\\int_{x_{i}}^{x_{i+1}} f(x)\\,dx\\simeq  \\sum_{i=0}^{n-1} (x_{i+1}- x_{i})\\, \\frac{f(x_{i})+f(x_{i+1})}{2}$$\n",
        "- compuesta (para cierto $n\\in \\mathbb{N}$, con $n>1$, y particiones uniformes):\n",
        "$$\\int_a^b f(x)\\,dx = \\sum_{i=0}^{n-1}\\int_{a+i\\,h}^{a+(i+1)\\,h} f(x)\\,dx\\\\\n",
        "\\simeq  h\\; \\sum_{i=0}^{n-1} \\frac{f(a+i\\,h)+f(a+(i+1)\\,h)}{2} \\\\\n",
        "= \\frac{h}{2}\\left( f(a)+2\\sum_{i=1}^{n-1}f(a+i\\,h)+f(b)\\right)$$\n",
        "\n",
        "Nótese que por otro lado, la fórmula de los trapecios simple se obtiene sin más que integrar en el intervalo $[a,b]$ la función lineal que pasa por los puntos $(a,f(a))$ y $(b,f(b))$ de manera que  $$\\int_a^b \\left( \\frac{f(b)-f(a)}{b-a}(x-a)+f(a) \\right)\\,dx\n",
        "= \\left[ \\frac{f(b)-f(a)}{b-a}\\frac{(x-a)^2}{2}+f(a)(x-a) \\right]_{x=a}^{x=b}=\\frac{f(b)-f(a)}{b-a}\\frac{(b-a)^2}{2}+f(a)(b-a)=\\frac{b-a}{2}(f(b)-f(a)+2f(a))= \\frac{b-a}{2}(f(a)+f(b))$$"
      ]
    },
    {
      "cell_type": "code",
      "execution_count": null,
      "metadata": {
        "id": "9yMVtkI7-my_"
      },
      "outputs": [],
      "source": [
        "def formtrapecios(f,a,b,nx):\n",
        "    \"\"\"fórmula compuesta de los trapecios\"\"\"\n",
        "    h = (b-a)/nx\n",
        "    return h/2*(f(a)+2*sum([f(a+i*h) for i in range(1,nx)])+f(b))"
      ]
    },
    {
      "cell_type": "code",
      "execution_count": null,
      "metadata": {
        "colab": {
          "base_uri": "https://localhost:8080/"
        },
        "id": "BjCnJEgw-mzA",
        "outputId": "5bd7aba8-07f7-4834-dc34-f1c037d13da8"
      },
      "outputs": [
        {
          "output_type": "execute_result",
          "data": {
            "text/plain": [
              "1.33335"
            ]
          },
          "metadata": {},
          "execution_count": 91
        }
      ],
      "source": [
        "formtrapecios(lambda x:x**2+1 ,0,1,100)"
      ]
    },
    {
      "cell_type": "code",
      "execution_count": null,
      "metadata": {
        "id": "7awXpP6k-mzA",
        "colab": {
          "base_uri": "https://localhost:8080/"
        },
        "outputId": "6ff85e11-cbee-44e4-ec53-3c8bf5ad8c5e"
      },
      "outputs": [
        {
          "output_type": "execute_result",
          "data": {
            "text/plain": [
              "1.33335"
            ]
          },
          "metadata": {},
          "execution_count": 92
        }
      ],
      "source": [
        "formtrapecios(f,0,1,100)"
      ]
    },
    {
      "cell_type": "code",
      "execution_count": null,
      "metadata": {
        "id": "eJXhUcV9-mzA",
        "colab": {
          "base_uri": "https://localhost:8080/",
          "height": 729
        },
        "outputId": "0d54d859-eec7-4069-a4dd-e642e182476a"
      },
      "outputs": [
        {
          "output_type": "display_data",
          "data": {
            "text/plain": [
              "<Figure size 800x800 with 1 Axes>"
            ],
            "image/png": "[encoded data removed]"
          },
          "metadata": {}
        }
      ],
      "source": [
        "nxx = 100\n",
        "xx = np.linspace(float(a),float(b),nxx)\n",
        "yy = f(xx)\n",
        "x0 = [a,b]; y0 = [f(a),f(b)]\n",
        "zz = (y0[1]-y0[0])/(b-a)*(xx-a)+y0[0]\n",
        "fig,ax = plt.subplots(figsize=(8,8))\n",
        "ax.plot(x0,y0,'ro')\n",
        "ax.plot(xx,yy,'k',label='función del integrando')\n",
        "ax.fill_between(xx,0,zz)\n",
        "ax.legend(loc=9)\n",
        "ax.set_xlabel('$x$',fontsize=18)\n",
        "ax.set_ylabel('$y$',fontsize=18)\n",
        "ax.set_title('Fórmula del trapecio');"
      ]
    },
    {
      "cell_type": "code",
      "execution_count": null,
      "metadata": {
        "id": "jkfK873E-mzA",
        "colab": {
          "base_uri": "https://localhost:8080/",
          "height": 729
        },
        "outputId": "2bd56fb9-3013-4d4d-a5c7-a226c00de588"
      },
      "outputs": [
        {
          "output_type": "display_data",
          "data": {
            "text/plain": [
              "<Figure size 800x800 with 1 Axes>"
            ],
            "image/png": "[encoded data removed]"
          },
          "metadata": {}
        }
      ],
      "source": [
        "nxx = 100; nx=10\n",
        "xx = np.linspace(float(a),float(b),nxx)\n",
        "yy = f(xx)\n",
        "x = np.linspace(a,b,nx); y = f(x)\n",
        "\n",
        "fig,ax = plt.subplots(figsize=(8,8))\n",
        "ax.plot(x,y,'ro')\n",
        "ax.plot(xx,yy,'k',label='función del integrando')\n",
        "for k in range(1,nx):\n",
        "    zz = np.linspace(float(x[k-1]),float(x[k]),nxx)\n",
        "    yk = [linea(z,x[k-1],y[k-1],x[k],y[k]) for z in zz]\n",
        "    ax.fill_between(zz,0,yk);\n",
        "\n",
        "ax.legend(loc=9)\n",
        "ax.set_xlabel('$x$',fontsize=18)\n",
        "ax.set_ylabel('$y$',fontsize=18)\n",
        "ax.set_title('Fórmula del trapecio compuesta');"
      ]
    },
    {
      "cell_type": "markdown",
      "metadata": {
        "id": "8b3LSdMs-mzA"
      },
      "source": [
        "## Fórmulas de Simpson (simple y compuesta)"
      ]
    },
    {
      "cell_type": "markdown",
      "metadata": {
        "id": "IUuuoiCt-mzA"
      },
      "source": [
        "Ya hemos visto que las *fórmulas simples* de integración numérica  se pueden obtener sin más que sustituir la función del integrando por un polinomio de interpolación de grado cero (en el caso de las fórmulas de los rectángulos) o bien por un polinomio de grado uno que iterpola los valores de la función en ambos extremos del intervalo.\n",
        "\n",
        "Por otro lado, para obtener las correspondientes *fórmulas compuestas*, bastaría con sustituir la función en el intervalo total $[a,b]$ por funciones polinómicas a trozos: ya sea de grado cero discontínuas, (en el caso de las fórmulas de los rectángulos) o bien lineales continuas (en el caso de la fórmula de los trapecios compuesta).\n",
        "\n",
        "En el caso de la fórmula de Simpson que nos ocupa ahora, este procedimiento se lleva un paso más allá, considerando ahora polinomios de grado $2$ (es decir, una parábola en el caso de la *fórmula de Simpson* simple o bien trozos de parábolas consecutivos, en el caso de la fórmula de Simpson compuesta)."
      ]
    },
    {
      "cell_type": "markdown",
      "metadata": {
        "id": "0JJswTSw-mzA"
      },
      "source": [
        "Empecemos pues recordando la fórmula que nos proporciona la parábola que pasa por tres puntos del plano distintos, que ya fué deducida en la correspondiente práctica sobre la interpolación lagrangiana."
      ]
    },
    {
      "cell_type": "code",
      "execution_count": null,
      "metadata": {
        "id": "UEUP7l5e-mzA"
      },
      "outputs": [],
      "source": [
        "x = sp.Symbol('x')"
      ]
    },
    {
      "cell_type": "code",
      "execution_count": null,
      "metadata": {
        "id": "P8QTSiYD-mzA"
      },
      "outputs": [],
      "source": [
        "def parabola(x,xL,yL,xM,yM,xR,yR):# Véase celda 21\n",
        "    return yL -(x-xL)*(x-xM)*(xL*yM-xL*yR-xM*yL+xM*yR+xR*yL-xR*yM)/(xL**2*xM-xL**2*xR-xL*xM**2+xL*xR**2+xM**2*xR-xM*xR**2)+(x-xL)*(yL-yM)/(xL-xM)"
      ]
    },
    {
      "cell_type": "code",
      "execution_count": null,
      "metadata": {
        "id": "RBeWo5QV-mzB",
        "colab": {
          "base_uri": "https://localhost:8080/"
        },
        "outputId": "4052f281-7b1b-4f41-ae7c-f9c25478c308"
      },
      "outputs": [
        {
          "output_type": "execute_result",
          "data": {
            "text/plain": [
              "(yL, yM, yR)"
            ]
          },
          "metadata": {},
          "execution_count": 97
        }
      ],
      "source": [
        "# bastaría con una simple comprobación\n",
        "parabola(x,xL,yL,xM,yM,xR,yR).subs({x:xL}),parabola(x,xL,yL,xM,yM,xR,yR).subs({x:xM}).simplify(),parabola(x,xL,yL,xM,yM,xR,yR).subs({x:xR}).simplify()"
      ]
    },
    {
      "cell_type": "markdown",
      "metadata": {
        "id": "6cAabmyg-mzB"
      },
      "source": [
        "Si ahora integramos la parábola que pasa por los puntos determinados por los valores de cierta función en los extremos del intervalo $[x_L,x_R]$: $(x_L,y_L)$ y $(x_R,y_R)$, así como por el correspondiente valor $y_M$ en el punto medio del intervalo $\\frac{x_L+x_R}{2}$, obtendremos la fórmula de Simpson simple."
      ]
    },
    {
      "cell_type": "code",
      "execution_count": null,
      "metadata": {
        "id": "FcvTf04c-mzB",
        "colab": {
          "base_uri": "https://localhost:8080/",
          "height": 53
        },
        "outputId": "66e3c70a-a3c3-4a61-b9c7-8041c8f05cc8"
      },
      "outputs": [
        {
          "output_type": "execute_result",
          "data": {
            "text/plain": [
              "-(xL - xR)*(yL + 4*yM + yR)/6"
            ],
            "text/latex": "$\\displaystyle - \\frac{\\left(xL - xR\\right) \\left(yL + 4 yM + yR\\right)}{6}$"
          },
          "metadata": {},
          "execution_count": 98
        }
      ],
      "source": [
        "sp.integrate(parabola(x,xL,yL,(xL+xR)/2,yM,xR,yR),[x,xL,xR]).factor()"
      ]
    },
    {
      "cell_type": "code",
      "execution_count": null,
      "metadata": {
        "id": "UbTxfDRv-mzB",
        "colab": {
          "base_uri": "https://localhost:8080/"
        },
        "outputId": "b01ae89a-4714-4fb0-ed36-7097679e390d"
      },
      "outputs": [
        {
          "output_type": "stream",
          "name": "stdout",
          "text": [
            "-(xL - xR)*(yL + 4*yM + yR)/6\n"
          ]
        }
      ],
      "source": [
        "print(_)"
      ]
    },
    {
      "cell_type": "code",
      "execution_count": null,
      "metadata": {
        "id": "vKb852eq-mzB"
      },
      "outputs": [],
      "source": [
        "def Simpsonsimple(xL,yL,yM,xR,yR):\n",
        "    \"\"\"Fórmula de Simpson simple\"\"\"\n",
        "    return -(xL - xR)*(yL + 4*yM + yR)/6"
      ]
    },
    {
      "cell_type": "code",
      "execution_count": null,
      "metadata": {
        "id": "qQta9cJ--mzB"
      },
      "outputs": [],
      "source": [
        "f   = sp.Function('f') # ha hecho falta cambiar Symbol por Function\n",
        "a,b = sp.symbols('a,b')"
      ]
    },
    {
      "cell_type": "code",
      "execution_count": null,
      "metadata": {
        "id": "nMaYR-ry-mzB",
        "colab": {
          "base_uri": "https://localhost:8080/",
          "height": 56
        },
        "outputId": "c0eb0f8c-9984-4025-8d7b-53988fc3751d"
      },
      "outputs": [
        {
          "output_type": "execute_result",
          "data": {
            "text/plain": [
              "(-a + b)*(f(a) + f(b) + 4*f(a/2 + b/2))/6"
            ],
            "text/latex": "$\\displaystyle \\frac{\\left(- a + b\\right) \\left(f{\\left(a \\right)} + f{\\left(b \\right)} + 4 f{\\left(\\frac{a}{2} + \\frac{b}{2} \\right)}\\right)}{6}$"
          },
          "metadata": {},
          "execution_count": 102
        }
      ],
      "source": [
        "Simpsonsimple(a,f(a),f((a+b)/2),b,f(b))"
      ]
    },
    {
      "cell_type": "markdown",
      "metadata": {
        "id": "5lYqZ8Ij-mzB"
      },
      "source": [
        "Un método alternativo, pero equivalente, consistiría en imponer exactitud al menos para los monomios generadores de la base canónica de  $\\mathbb{P}_2\\equiv gen(\\{1,x,x^2\\})$, los polinomios de grado menor o igual que $2$.  Veámos cómo sería el proceso para esta fórmula de Simpson."
      ]
    },
    {
      "cell_type": "code",
      "execution_count": null,
      "metadata": {
        "id": "X1dnLs5y-mzB",
        "colab": {
          "base_uri": "https://localhost:8080/"
        },
        "outputId": "6d64e3e9-8432-4316-928f-714331d3f6e1"
      },
      "outputs": [
        {
          "output_type": "execute_result",
          "data": {
            "text/plain": [
              "[0, 1, 2]"
            ]
          },
          "metadata": {},
          "execution_count": 103
        }
      ],
      "source": [
        "list(range(3))"
      ]
    },
    {
      "cell_type": "code",
      "execution_count": null,
      "metadata": {
        "id": "dOC7SnA1-mzC",
        "colab": {
          "base_uri": "https://localhost:8080/",
          "height": 88
        },
        "outputId": "a3fe286e-198b-4de3-dc8d-7feab7eadc5d"
      },
      "outputs": [
        {
          "output_type": "execute_result",
          "data": {
            "text/plain": [
              "Matrix([\n",
              "[   1,              1,    1,           -a + b],\n",
              "[   a,      a/2 + b/2,    b, -a**2/2 + b**2/2],\n",
              "[a**2, (a/2 + b/2)**2, b**2, -a**3/3 + b**3/3]])"
            ],
            "text/latex": "$\\displaystyle \\left[\\begin{matrix}1 & 1 & 1 & - a + b\\\\a & \\frac{a}{2} + \\frac{b}{2} & b & - \\frac{a^{2}}{2} + \\frac{b^{2}}{2}\\\\a^{2} & \\left(\\frac{a}{2} + \\frac{b}{2}\\right)^{2} & b^{2} & - \\frac{a^{3}}{3} + \\frac{b^{3}}{3}\\end{matrix}\\right]$"
          },
          "metadata": {},
          "execution_count": 104
        }
      ],
      "source": [
        "AB = sp.Matrix([ [a**k,((a+b)/2)**k,b**k, sp.integrate(x**k,[x,a,b])] for k in range(3)])\n",
        "AB"
      ]
    },
    {
      "cell_type": "code",
      "execution_count": null,
      "metadata": {
        "id": "Dv1wbF45-mzC"
      },
      "outputs": [],
      "source": [
        "?sp.linsolve"
      ]
    },
    {
      "cell_type": "code",
      "execution_count": null,
      "metadata": {
        "id": "aNt0TMaB-mzC",
        "colab": {
          "base_uri": "https://localhost:8080/",
          "height": 58
        },
        "outputId": "249747b3-ee1f-4e02-e881-0c08347f889b"
      },
      "outputs": [
        {
          "output_type": "execute_result",
          "data": {
            "text/plain": [
              "{(-a/6 + b/6, -2*a/3 + 2*b/3, -a/6 + b/6)}"
            ],
            "text/latex": "$\\displaystyle \\left\\{\\left( - \\frac{a}{6} + \\frac{b}{6}, \\  - \\frac{2 a}{3} + \\frac{2 b}{3}, \\  - \\frac{a}{6} + \\frac{b}{6}\\right)\\right\\}$"
          },
          "metadata": {},
          "execution_count": 106
        }
      ],
      "source": [
        "c0,c1,c2 = sp.symbols('c0,c1,c2')\n",
        "sp.linsolve(AB,[c0,c1,c2])"
      ]
    },
    {
      "cell_type": "markdown",
      "metadata": {
        "id": "M84ATihD-mzC"
      },
      "source": [
        "Vemos que hubiéramos obtenido exactamente la misma fórmula por este procedimiento\n",
        "\n",
        "$$ \\int_a^b f(x)\\,dx \\simeq \\frac{b-a}{6} \\left( f(a)+ 4f(\\frac{a+b}{2}) +f(b) \\right)$$"
      ]
    },
    {
      "cell_type": "markdown",
      "metadata": {
        "id": "P-ioNVlb-mzC"
      },
      "source": [
        "Ahora para obtener la correspondiente fórmula compuesta la idea sigue siendo la de aplicar esta misma fórmula, pero aplicada a cada par de subintervalos consecutivos: $[x_{i-1},x_i],\\; [x_{i},x_{i+1}]$, con $x_i=\\frac{x_{i-1}+x_{i+1}}{2}$.\n",
        "\n",
        "Esta cuestión la tendremos asegurada por ejemplo si la partición de partida\n",
        "$$a=x_0<x_1<\\ldots<x_n=b$$\n",
        "es uniforme y tiene un número par de subintervalos ($n=2m$, con $m\\in \\mathbb{N}$). Así pues\n",
        "\n",
        "$$\\int_a^b f(x)\\,dx = \\sum_{i=1}^{m}\\int_{x_{2(i-1)}}^{x_{2i}} f(x)\\,dx \\\\\n",
        "\\simeq  \\sum_{i=1}^{m} \\frac{x_{2i}- x_{2(i-1)}}{6}\\,\n",
        "\\left(f(x_{2(i-1)})+ 4 f(x_{2i-1}) + f(x_{2i}) \\right) \\\\\n",
        "= \\frac{h}{3}\\,\\left(f(a)+2\\sum_{i=1}^{m-1}f(x_{2i})\n",
        "+4\\sum_{i=1}^{m}f(x_{2i-1}) + f(b) \\right)\n",
        "$$\n",
        "para $h:=\\frac{b-a}{n}$, con $n=2m$ en el caso de una partición uniforme, con un número par de subintervalos de la misma longitud $h$."
      ]
    },
    {
      "cell_type": "code",
      "execution_count": null,
      "metadata": {
        "id": "irPity5p-mzC"
      },
      "outputs": [],
      "source": [
        "def Simpsoncompuesta(f,a,b,m):\n",
        "    \"\"\"fórmula de Simpson compuesta\"\"\"\n",
        "    h= (b-a)/(2*m)\n",
        "    P = sum([f(a+2*i*h) for i in range(1,m)])\n",
        "    I = sum([f(a+(2*i-1)*h) for i in range(1,m+1)])\n",
        "    E = f(a)+f(b)\n",
        "    return h/3*(E+2*P+4*I)"
      ]
    },
    {
      "cell_type": "code",
      "execution_count": null,
      "metadata": {
        "id": "qa6MZol_-mzC",
        "colab": {
          "base_uri": "https://localhost:8080/"
        },
        "outputId": "0b4b326b-2b5c-4c6d-9482-d22cb9fd7daf"
      },
      "outputs": [
        {
          "output_type": "execute_result",
          "data": {
            "text/plain": [
              "(0.3333333333333333, 1/3)"
            ]
          },
          "metadata": {},
          "execution_count": 108
        }
      ],
      "source": [
        "Simpsoncompuesta(lambda x:x**2,0,1,10),sp.integrate(x**2,[x,0,1])"
      ]
    },
    {
      "cell_type": "markdown",
      "metadata": {
        "id": "ofNZpzXa-mzC"
      },
      "source": [
        "Observamos la gran precisión de la fórmula de Simpson compuesta, que además es muy fácil de implementar en la práctica.\n",
        "\n",
        "**Ejercicio:** Realice una comparativa entre los errores cometidos al aproximar una integral definida concreta (como por ejemplo, potencias sucesivas $x^i$, con $i=1,2,3,\\ldots$) mediante las fórmulas de los trapecios y de Simpson compuestas; e inducir de ahí, los posibles órdenes de exactitud (a partir de los valores de $i$ que proporcionen valores exactos de la integral) y de aproximación (en función de $h=\\frac{b-a}{n}$, con $n=2m$ para $m\\in\\mathbb{N}$) de ambas fórmulas. No deje de tener en cuenta los posibles errores de redondeo, inevitables en todo cálculo realizado con ordenador."
      ]
    },
    {
      "cell_type": "code",
      "execution_count": null,
      "metadata": {
        "id": "uATPkwSs-mzC",
        "colab": {
          "base_uri": "https://localhost:8080/"
        },
        "outputId": "ceac6979-0dee-4dc4-fd7e-968b0decbd93"
      },
      "outputs": [
        {
          "output_type": "execute_result",
          "data": {
            "text/plain": [
              "0.01"
            ]
          },
          "metadata": {},
          "execution_count": 109
        }
      ],
      "source": [
        "m = 50; a = 0; b = 1;\n",
        "h = (b-a)/(2*m); h"
      ]
    },
    {
      "cell_type": "code",
      "execution_count": null,
      "metadata": {
        "id": "b_NiwiQw-mzC",
        "colab": {
          "base_uri": "https://localhost:8080/"
        },
        "outputId": "007f6a2d-f765-4af7-b9bb-786b274d6351"
      },
      "outputs": [
        {
          "output_type": "execute_result",
          "data": {
            "text/plain": [
              "(0.5, 0.5, 0.5)"
            ]
          },
          "metadata": {},
          "execution_count": 110
        }
      ],
      "source": [
        "k = 1;\n",
        "formtrapecios(lambda x:x**k ,a,b,2*m),Simpsoncompuesta(lambda x:x**k,a,b,m),(b**(k+1)-a**(k+1))/(k+1)"
      ]
    },
    {
      "cell_type": "code",
      "execution_count": null,
      "metadata": {
        "id": "u3wtFZX7-mzD",
        "colab": {
          "base_uri": "https://localhost:8080/"
        },
        "outputId": "aaa503e3-fc28-4023-ac71-fc2aa7828761"
      },
      "outputs": [
        {
          "output_type": "execute_result",
          "data": {
            "text/plain": [
              "(0.33335000000000004, 0.33333333333333337, 0.3333333333333333)"
            ]
          },
          "metadata": {},
          "execution_count": 111
        }
      ],
      "source": [
        "k = 2;\n",
        "formtrapecios(lambda x:x**k ,a,b,2*m),Simpsoncompuesta(lambda x:x**k,a,b,m),(b**(k+1)-a**(k+1))/(k+1)"
      ]
    },
    {
      "cell_type": "code",
      "execution_count": null,
      "metadata": {
        "id": "H4MeeKmK-mzD",
        "colab": {
          "base_uri": "https://localhost:8080/"
        },
        "outputId": "098e2cca-c587-4a23-e6fd-a62d251882b0"
      },
      "outputs": [
        {
          "output_type": "execute_result",
          "data": {
            "text/plain": [
              "(0.250025, 0.25, 0.25)"
            ]
          },
          "metadata": {},
          "execution_count": 112
        }
      ],
      "source": [
        "k = 3;\n",
        "formtrapecios(lambda x:x**k ,a,b,2*m),Simpsoncompuesta(lambda x:x**k,a,b,m),(b**(k+1)-a**(k+1))/(k+1)"
      ]
    },
    {
      "cell_type": "code",
      "execution_count": null,
      "metadata": {
        "id": "zbIgzd2Z-mzD",
        "colab": {
          "base_uri": "https://localhost:8080/"
        },
        "outputId": "429f5e5e-315a-4ce8-ebf8-7241d0fd0b6c"
      },
      "outputs": [
        {
          "output_type": "execute_result",
          "data": {
            "text/plain": [
              "(0.20003333300000006, 0.20000000133333337, 0.2)"
            ]
          },
          "metadata": {},
          "execution_count": 113
        }
      ],
      "source": [
        "k = 4;\n",
        "formtrapecios(lambda x:x**k ,a,b,2*m),Simpsoncompuesta(lambda x:x**k,a,b,m),(b**(k+1)-a**(k+1))/(k+1)"
      ]
    },
    {
      "cell_type": "code",
      "execution_count": null,
      "metadata": {
        "id": "t1dQG9yc-mzD"
      },
      "outputs": [],
      "source": [
        "f = func"
      ]
    },
    {
      "cell_type": "code",
      "execution_count": null,
      "metadata": {
        "id": "UraJ5o2B-mzD"
      },
      "outputs": [],
      "source": [
        "m=5; # Veámos ahora gráficamente cómo se puede visualizar esta\n",
        "nx=2*m; nxx = 100;  # fórmula de Simpson compuesta\n",
        "xx = np.linspace(float(a),float(b),nxx+1)\n",
        "yy = f(xx)\n",
        "x = np.linspace(a,b,nx+1); y = f(x)"
      ]
    },
    {
      "cell_type": "code",
      "execution_count": null,
      "metadata": {
        "id": "Ys0wnSzJ-mzD",
        "colab": {
          "base_uri": "https://localhost:8080/",
          "height": 729
        },
        "outputId": "d0c0d469-49cd-4393-c8a1-6a146f2cd72f"
      },
      "outputs": [
        {
          "output_type": "display_data",
          "data": {
            "text/plain": [
              "<Figure size 800x800 with 1 Axes>"
            ],
            "image/png": "[encoded data removed]"
          },
          "metadata": {}
        }
      ],
      "source": [
        "fig,ax = plt.subplots(figsize=(8,8))\n",
        "ax.plot(x,y,'ro')\n",
        "ax.plot(xx,yy,'k',label='función del integrando')\n",
        "\n",
        "for k in range(1,m+1):\n",
        "    zz = np.linspace(float(x[2*(k-1)]),float(x[2*k]),nxx)\n",
        "    yk = [parabola(z,x[2*(k-1)],y[2*(k-1)],x[2*k-1],y[2*k-1],x[2*k],y[2*k]) for z in zz]\n",
        "    ax.fill_between(zz,0,yk);\n",
        "\n",
        "ax.legend(loc=9)\n",
        "ax.set_xlabel('$x$',fontsize=18)\n",
        "ax.set_ylabel('$y$',fontsize=18)\n",
        "ax.set_title('Fórmula de Simpson compuesta');"
      ]
    },
    {
      "cell_type": "markdown",
      "metadata": {
        "id": "li7oJ-pu-mzD"
      },
      "source": [
        "## Fórmula del Trapecio corregida (solo leer)"
      ]
    },
    {
      "cell_type": "markdown",
      "metadata": {
        "id": "fDVYWnA4-mzD"
      },
      "source": [
        "Por último, vamos a obtener la fórmula del trapecio corregida, es decir, la que usa como datos el valor de la función y el de la derivada en cada extremo."
      ]
    },
    {
      "cell_type": "code",
      "execution_count": null,
      "metadata": {
        "id": "o5T52Doa-mzD"
      },
      "outputs": [],
      "source": [
        "x, d  = sp.symbols('x, d')"
      ]
    },
    {
      "cell_type": "code",
      "execution_count": null,
      "metadata": {
        "id": "Exum6MKj-mzE"
      },
      "outputs": [],
      "source": [
        "def parabolaconderivada(x,d,xL,yL,xR,yR):\n",
        "    \"\"\"parábola con derivada fijada en el primer punto\"\"\"\n",
        "    return (yL*(xL-xR)**2+(x-xL)*(x-xR)*(d*(xL-xR)+(yR-yL))+(x-xL)*(xL-xR)*(yL-yR))/(xL-xR)**2\n",
        "\n",
        "def cubicaconderivadas(x,xL,yL,dL,xR,yR,dR):\n",
        "    \"\"\"cúbica con datos de Lagrange y Hermite en ambos extremos\"\"\"\n",
        "    # DR = sp.Symbol('DR')\n",
        "    # DR = sp.Rational(dL*xL-dL*xR+dR*xL-dR*xR-2*(yL-yR),(xL-xR)**3)\n",
        "    DR = (dL*xL-dL*xR+dR*xL-dR*xR-2*(yL-yR))/(xL-xR)**3\n",
        "    return parabolaconderivada(x,dL,xL,yL,xR,yR) + DR*(x-xL)**2*(x-xR)"
      ]
    },
    {
      "cell_type": "code",
      "execution_count": null,
      "metadata": {
        "colab": {
          "base_uri": "https://localhost:8080/"
        },
        "id": "AQn-eQx6-mzE",
        "outputId": "65592d3a-c664-452b-add4-3ec1db31cc94"
      },
      "outputs": [
        {
          "output_type": "execute_result",
          "data": {
            "text/plain": [
              "(yL, yR)"
            ]
          },
          "metadata": {},
          "execution_count": 119
        }
      ],
      "source": [
        "# hágamos las comprobaciones oportunas de su valor en los extremos\n",
        "parabolaconderivada(x,d,xL,yL,xR,yR).subs({x:xL}), parabolaconderivada(x,d,xL,yL,xR,yR).subs({x:xR}).simplify()"
      ]
    },
    {
      "cell_type": "code",
      "execution_count": null,
      "metadata": {
        "colab": {
          "base_uri": "https://localhost:8080/"
        },
        "id": "ea2qcrv3-mzE",
        "outputId": "ae764f5c-9fe4-4804-94cb-052f8fed4695"
      },
      "outputs": [
        {
          "output_type": "execute_result",
          "data": {
            "text/plain": [
              "d"
            ],
            "text/latex": "$\\displaystyle d$"
          },
          "metadata": {},
          "execution_count": 120
        }
      ],
      "source": [
        "# así como el valor de su derivada en el extremo izquierdo\n",
        "sp.diff(parabolaconderivada(x,d,xL,yL,xR,yR),x).subs({x:xL}).simplify()"
      ]
    },
    {
      "cell_type": "markdown",
      "metadata": {
        "id": "0zIRUf_y-mzE"
      },
      "source": [
        "De manera totalmente equivalente se podría comprobar que la funcion `cubicaconderivadas` verifica las condiciones de interpolación correspondientes en ambos extremos del intervalo $[x_L,x_R]$, $p(x_k)=y_k, p'(x_k)=d_k$, con $k=L,R$."
      ]
    },
    {
      "cell_type": "code",
      "execution_count": null,
      "metadata": {
        "id": "t5rDM7IK-mzE"
      },
      "outputs": [],
      "source": [
        "f   = sp.Function('f')\n",
        "df  = sp.Function('df')\n",
        "a,b, d = sp.symbols('a,b, d')"
      ]
    },
    {
      "cell_type": "code",
      "execution_count": null,
      "metadata": {
        "colab": {
          "base_uri": "https://localhost:8080/"
        },
        "id": "HTSy3DCH-mzE",
        "outputId": "57695f2d-3bf9-4a2e-fcfb-52bee200437f"
      },
      "outputs": [
        {
          "output_type": "execute_result",
          "data": {
            "text/plain": [
              "(-a + x)**2*(-b + x)*(a*df(a) + a*df(b) - b*df(a) - b*df(b) - 2*f(a) + 2*f(b))/(a - b)**3 + ((-a + x)*(a - b)*(f(a) - f(b)) + (-a + x)*(-b + x)*((a - b)*df(a) - f(a) + f(b)) + (a - b)**2*f(a))/(a - b)**2"
            ],
            "text/latex": "$\\displaystyle \\frac{\\left(- a + x\\right)^{2} \\left(- b + x\\right) \\left(a \\operatorname{df}{\\left(a \\right)} + a \\operatorname{df}{\\left(b \\right)} - b \\operatorname{df}{\\left(a \\right)} - b \\operatorname{df}{\\left(b \\right)} - 2 f{\\left(a \\right)} + 2 f{\\left(b \\right)}\\right)}{\\left(a - b\\right)^{3}} + \\frac{\\left(- a + x\\right) \\left(a - b\\right) \\left(f{\\left(a \\right)} - f{\\left(b \\right)}\\right) + \\left(- a + x\\right) \\left(- b + x\\right) \\left(\\left(a - b\\right) \\operatorname{df}{\\left(a \\right)} - f{\\left(a \\right)} + f{\\left(b \\right)}\\right) + \\left(a - b\\right)^{2} f{\\left(a \\right)}}{\\left(a - b\\right)^{2}}$"
          },
          "metadata": {},
          "execution_count": 122
        }
      ],
      "source": [
        "cubicaconderivadas(x,a,f(a),df(a),b,f(b),df(b))"
      ]
    },
    {
      "cell_type": "code",
      "execution_count": null,
      "metadata": {
        "colab": {
          "base_uri": "https://localhost:8080/"
        },
        "id": "PuW_FCzw-mzE",
        "outputId": "9a5bfb51-4810-4f21-ddcb-2a9ee453c6ec"
      },
      "outputs": [
        {
          "output_type": "execute_result",
          "data": {
            "text/plain": [
              "(a - b)*(a*df(a) - a*df(b) - b*df(a) + b*df(b) - 6*f(a) - 6*f(b))/12"
            ],
            "text/latex": "$\\displaystyle \\frac{\\left(a - b\\right) \\left(a \\operatorname{df}{\\left(a \\right)} - a \\operatorname{df}{\\left(b \\right)} - b \\operatorname{df}{\\left(a \\right)} + b \\operatorname{df}{\\left(b \\right)} - 6 f{\\left(a \\right)} - 6 f{\\left(b \\right)}\\right)}{12}$"
          },
          "metadata": {},
          "execution_count": 123
        }
      ],
      "source": [
        "sp.integrate(cubicaconderivadas(x,a,f(a),df(a),b,f(b),df(b)),[x,a,b]).factor()"
      ]
    },
    {
      "cell_type": "code",
      "execution_count": null,
      "metadata": {
        "colab": {
          "base_uri": "https://localhost:8080/"
        },
        "id": "pMh8SHZM-mzE",
        "outputId": "fc3b281d-757b-4db5-dbf3-486fe2be1a67"
      },
      "outputs": [
        {
          "output_type": "stream",
          "name": "stdout",
          "text": [
            "(a - b)*(a*df(a) - a*df(b) - b*df(a) + b*df(b) - 6*f(a) - 6*f(b))/12\n"
          ]
        }
      ],
      "source": [
        "print(_)"
      ]
    },
    {
      "cell_type": "markdown",
      "metadata": {
        "collapsed": true,
        "id": "n5MW4USf-mzF"
      },
      "source": [
        "Obtenemos pues finalmente la siguiente *fórmula del trapecio corregida*\n",
        "\n",
        "$$\\int_a^b f(x)\\,dx \\simeq \\frac{b-a}{12}\\left(6(f(a)+f(b))\n",
        "-(b-a)(f'(b)-f'(a)) \\right)\n",
        "$$"
      ]
    },
    {
      "cell_type": "code",
      "execution_count": null,
      "metadata": {
        "colab": {
          "base_uri": "https://localhost:8080/"
        },
        "id": "iZtybgQc-mzF",
        "outputId": "0aef477f-4805-43c3-d7d2-3eac4a2e5510"
      },
      "outputs": [
        {
          "output_type": "execute_result",
          "data": {
            "text/plain": [
              "(-a + b)*(-a*df(a) + a*df(b) + b*df(a) - b*df(b) + 6*f(a) + 6*f(b))/12"
            ],
            "text/latex": "$\\displaystyle \\frac{\\left(- a + b\\right) \\left(- a \\operatorname{df}{\\left(a \\right)} + a \\operatorname{df}{\\left(b \\right)} + b \\operatorname{df}{\\left(a \\right)} - b \\operatorname{df}{\\left(b \\right)} + 6 f{\\left(a \\right)} + 6 f{\\left(b \\right)}\\right)}{12}$"
          },
          "metadata": {},
          "execution_count": 125
        }
      ],
      "source": [
        "(b-a)*(-a*df(a)+a*df(b)+b*df(a)-b*df(b)+6*f(a)+6*f(b))/12"
      ]
    },
    {
      "cell_type": "code",
      "execution_count": null,
      "metadata": {
        "id": "g5auJwUe-mzF"
      },
      "outputs": [],
      "source": [
        "a = 0; b = 1; f = func; df = dfunc"
      ]
    },
    {
      "cell_type": "code",
      "execution_count": null,
      "metadata": {
        "id": "9-74ibNv-mzF"
      },
      "outputs": [],
      "source": [
        "nx=10;\n",
        "x = np.linspace(a,b,nx); y = f(x)\n",
        "d = df(x)"
      ]
    },
    {
      "cell_type": "code",
      "execution_count": null,
      "metadata": {
        "id": "yMBCb-D_-mzF"
      },
      "outputs": [],
      "source": [
        "nxx = 100;\n",
        "xx = np.linspace(a,b,nxx)\n",
        "yy = f(xx)"
      ]
    },
    {
      "cell_type": "code",
      "execution_count": null,
      "metadata": {
        "colab": {
          "base_uri": "https://localhost:8080/"
        },
        "id": "vmcrEkdU-mzF",
        "outputId": "d7062d1d-38ae-4bdf-d416-434c98185124"
      },
      "outputs": [
        {
          "output_type": "display_data",
          "data": {
            "text/plain": [
              "<Figure size 800x800 with 1 Axes>"
            ],
            "image/png": "[encoded data removed]"
          },
          "metadata": {}
        }
      ],
      "source": [
        "fig,ax = plt.subplots(figsize=(8,8))\n",
        "ax.plot(x,y,'ro')\n",
        "ax.plot(xx,yy,'k',label='función del integrando')\n",
        "for k in range(1,nx):\n",
        "    zz = np.linspace(float(x[k-1]),float(x[k]),nxx)\n",
        "    yk = [cubicaconderivadas(z,x[k-1],y[k-1],d[k-1],x[k],y[k],d[k]) for z in zz]\n",
        "    ax.fill_between(zz,0,yk);\n",
        "\n",
        "ax.legend(loc=9)\n",
        "ax.set_xlabel('$x$',fontsize=18)\n",
        "ax.set_ylabel('$y$',fontsize=18)\n",
        "ax.set_title('Fórmula del trapecio corregida compuesta');"
      ]
    },
    {
      "cell_type": "markdown",
      "metadata": {
        "id": "jnmXLAq2-mzF"
      },
      "source": [
        "**Ejercicio:** Escribir y a continuación implementar la correspondiente fórmula compuesta asociada a esta nueva fórmula del trapecio corregida cuando se aplique a una función derivable en un intervalo genérico $[a,b]$."
      ]
    },
    {
      "cell_type": "code",
      "execution_count": null,
      "metadata": {
        "id": "iVhBu79o-mzF"
      },
      "outputs": [],
      "source": [
        "def formtrapecioscorregida(f,df,a,b,nx):\n",
        "    h = (b-a)/nx\n",
        "    return h/2*(f(a)+f(b)+2*sum([f(a+i*h) for i in range(1,nx)]))-h**2/12*(df(b)-df(a))"
      ]
    },
    {
      "cell_type": "code",
      "execution_count": null,
      "metadata": {
        "colab": {
          "base_uri": "https://localhost:8080/"
        },
        "id": "zl-7GBkh-mzF",
        "outputId": "68994690-a6e4-4044-947b-c3e7bc2cd116"
      },
      "outputs": [
        {
          "output_type": "execute_result",
          "data": {
            "text/plain": [
              "0.33333333333333326"
            ]
          },
          "metadata": {},
          "execution_count": 131
        }
      ],
      "source": [
        "k=2;\n",
        "formtrapecioscorregida(lambda z:z**k,lambda z:k*z**(k-1),0,1,1000)"
      ]
    },
    {
      "cell_type": "code",
      "execution_count": null,
      "metadata": {
        "colab": {
          "base_uri": "https://localhost:8080/"
        },
        "id": "vQfdhOYt-mzF",
        "outputId": "1553855a-039a-40a4-c10a-cde1c9a0587f"
      },
      "outputs": [
        {
          "output_type": "execute_result",
          "data": {
            "text/plain": [
              "(0.3333333333, 0.3333333333)"
            ]
          },
          "metadata": {},
          "execution_count": 132
        }
      ],
      "source": [
        "k=2; ncifras = 10; # juegue con los valores de k y ncifras\n",
        "sp.N(1/(k+1),ncifras),sp.N(formtrapecioscorregida(lambda z:z**k,lambda z:k*z**(k-1),0,1,1000),ncifras)"
      ]
    },
    {
      "cell_type": "markdown",
      "metadata": {
        "id": "nLXqTLsz-mzG"
      },
      "source": [
        "## Fórmulas gaussianas"
      ]
    },
    {
      "cell_type": "markdown",
      "metadata": {
        "id": "zlt4KnSy-mzG"
      },
      "source": [
        "Las fórmulas gaussianas usan como nodos aquellos que conducen a una precisión máxima. Si vamos a construir una fórmula de integración numérica con $n$ nodos, sabemos que podemos elegirlos de manera única, de forma que la fórmula correspondiente alcanza precisión $2n-1$. Por tanto, para construir fórmulas gaussianas, hemos de calcular los nodos y los coeficientes. Tenemos varias alternativas; una de ellas es plantear el sistema no lineal de las $2n$ incógnitas que resulta de imponer exactitud para $1, x, \\ldots,x^{2n-1}$.\n",
        "\n",
        "Lo haremos a continuación, puesto que *Python* (o cualquier otro sistema que permita realizar cálculos simbólicos, o bien numéricos) lo resuelve sin dificultad para valores de $n$ bajos. También sabemos que los nodos de una fórmula gaussiana son los ceros de cierto polinomio ortogonal. Para los productos escalares más usuales, los *polinomios ortogonales* correspondientes están contenidos en ciertos módulos concretos de *Python*; por tanto, podemos calcular sus raíces para obtener dichos nodos. Lo haremos para el polinomio de Laguerre. En un caso especial es posible encontrar el polinomio ortogonal correspondiente y calcular sus raíces con la orden correspondiente."
      ]
    },
    {
      "cell_type": "markdown",
      "metadata": {
        "id": "faAelNRX-mzG"
      },
      "source": [
        "### La fórmula gaussiana con dos nodos y peso $w=1$"
      ]
    },
    {
      "cell_type": "code",
      "execution_count": null,
      "metadata": {
        "id": "lEUup3Kn-mzG"
      },
      "outputs": [],
      "source": [
        "?f"
      ]
    },
    {
      "cell_type": "code",
      "execution_count": null,
      "metadata": {
        "id": "xNZhG3Vi-mzG"
      },
      "outputs": [],
      "source": [
        "f = sp.Function('f')"
      ]
    },
    {
      "cell_type": "code",
      "execution_count": null,
      "metadata": {
        "id": "SV6woxDu-mzG"
      },
      "outputs": [],
      "source": [
        "a = -1; b = 1; n = 2\n",
        "grexact = 2*n-1"
      ]
    },
    {
      "cell_type": "code",
      "execution_count": null,
      "metadata": {
        "colab": {
          "base_uri": "https://localhost:8080/"
        },
        "id": "WOe7SSY4-mzG",
        "outputId": "346b0457-d1ed-4b1a-e0c7-359da11a9760"
      },
      "outputs": [
        {
          "output_type": "execute_result",
          "data": {
            "text/plain": [
              "(2, 3)"
            ]
          },
          "metadata": {},
          "execution_count": 136
        }
      ],
      "source": [
        "n,grexact"
      ]
    },
    {
      "cell_type": "code",
      "execution_count": null,
      "metadata": {
        "colab": {
          "base_uri": "https://localhost:8080/"
        },
        "id": "JfCGLnmE-mzG",
        "outputId": "ee708df6-7c09-42e1-f905-144fc0ef1a13"
      },
      "outputs": [
        {
          "output_type": "execute_result",
          "data": {
            "text/plain": [
              "[p1, p2]"
            ]
          },
          "metadata": {},
          "execution_count": 137
        }
      ],
      "source": [
        "p = sp.symbols('p1:'+ str(n+1)) # generamos una tupla de n nodos\n",
        "nodos1 = list(p)\n",
        "nodos1"
      ]
    },
    {
      "cell_type": "code",
      "execution_count": null,
      "metadata": {
        "colab": {
          "base_uri": "https://localhost:8080/"
        },
        "id": "bUWhH7_Q-mzG",
        "outputId": "36958296-f619-4cff-de8e-e6c3e87c19ee"
      },
      "outputs": [
        {
          "output_type": "execute_result",
          "data": {
            "text/plain": [
              "[c1, c2]"
            ]
          },
          "metadata": {},
          "execution_count": 138
        }
      ],
      "source": [
        "c = sp.symbols('c1:'+ str(n+1)) # generamos una tupla de n coeficientes\n",
        "coefs1 = list(c)\n",
        "coefs1"
      ]
    },
    {
      "cell_type": "code",
      "execution_count": null,
      "metadata": {
        "id": "RDy5qER2-mzG"
      },
      "outputs": [],
      "source": [
        " # Esto también funcionaba así en versiones anteriores de Sympy\n",
        "# p,c = sp.symbols('p,c')\n",
        "# nodos1 = [p(i) for i in range(n)]\n",
        "# coefs1 = [c(i) for i in range(n)]\n",
        "incogs1 = coefs1 + nodos1   # aquí el signo '+' indica simplemente\n",
        "# yuxtaposición de las listas de nodos y coeficientes"
      ]
    },
    {
      "cell_type": "code",
      "execution_count": null,
      "metadata": {
        "colab": {
          "base_uri": "https://localhost:8080/"
        },
        "id": "J-VfvnFH-mzH",
        "outputId": "1b2657eb-58bf-47a5-bc68-67d581378cfb"
      },
      "outputs": [
        {
          "output_type": "execute_result",
          "data": {
            "text/plain": [
              "[c1, c2, p1, p2]"
            ]
          },
          "metadata": {},
          "execution_count": 140
        }
      ],
      "source": [
        "incogs1  # Esta sería pues la lista completa de incógnitas"
      ]
    },
    {
      "cell_type": "code",
      "execution_count": null,
      "metadata": {
        "colab": {
          "base_uri": "https://localhost:8080/"
        },
        "id": "DFK6H-xl-mzH",
        "outputId": "52acfebd-7ce2-4508-a8a3-0a41b39459e4"
      },
      "outputs": [
        {
          "output_type": "execute_result",
          "data": {
            "text/plain": [
              "[[1, 1], [p1, p2], [p1**2, p2**2]]"
            ]
          },
          "metadata": {},
          "execution_count": 141
        }
      ],
      "source": [
        "[[(z**i).subs({z:nodos1[j]}) for j in range(n)] for i in range(grexact)]# Nodos elevados a potencias desde 0 hasta grexact-1=2"
      ]
    },
    {
      "cell_type": "markdown",
      "metadata": {
        "id": "iKXN1WPJYeb-"
      },
      "source": [
        "Las ecuaciones a resolver son del tipo\n",
        "$$c_1p_1^i+c_2p_2^i=(b^{i+1}-a^{i+1})/(i+1)\\quad\\forall i=0,\\ldots,\\text{grexact} $$"
      ]
    },
    {
      "cell_type": "code",
      "execution_count": null,
      "metadata": {
        "colab": {
          "base_uri": "https://localhost:8080/"
        },
        "id": "96RP-aSL-mzH",
        "outputId": "31f7a495-806c-4a87-d9a2-f694842227e7"
      },
      "outputs": [
        {
          "output_type": "execute_result",
          "data": {
            "text/plain": [
              "[c1 + c2 - 2, c1*p1 + c2*p2, c1*p1**2 + c2*p2**2 - 2/3, c1*p1**3 + c2*p2**3]"
            ]
          },
          "metadata": {},
          "execution_count": 142
        }
      ],
      "source": [
        "ecs1 = [np.dot([(z**i).subs({z:nodos1[j]}) for j in range(n)],coefs1)-sp.Rational(b**(i+1)-a**(i+1),(i+1)) for i in range(grexact+1)]#Suma desde 0 hasta grexact\n",
        "ecs1  # Y así construimos pues el conjunto de ecuaciones a resolver"
      ]
    },
    {
      "cell_type": "code",
      "execution_count": null,
      "metadata": {
        "colab": {
          "base_uri": "https://localhost:8080/"
        },
        "id": "ROuuv8YW-mzH",
        "outputId": "dcf49991-cffc-4dcf-ecec-4d851b651dc1"
      },
      "outputs": [
        {
          "output_type": "execute_result",
          "data": {
            "text/plain": [
              "[(1, 1, -sqrt(3)/3, sqrt(3)/3), (1, 1, sqrt(3)/3, -sqrt(3)/3)]"
            ]
          },
          "metadata": {},
          "execution_count": 143
        }
      ],
      "source": [
        "solsGauss1 = sp.solve(ecs1,incogs1)\n",
        "solsGauss1 # Solicuiones en el formato (c1, c2, p1, p2)"
      ]
    },
    {
      "cell_type": "code",
      "execution_count": null,
      "metadata": {
        "colab": {
          "base_uri": "https://localhost:8080/"
        },
        "id": "O6995Oeq-mzH",
        "outputId": "d2f21d8b-49e5-4f50-fcc8-6e1b3ee0ea62"
      },
      "outputs": [
        {
          "output_type": "execute_result",
          "data": {
            "text/plain": [
              "[1, 1]"
            ]
          },
          "metadata": {},
          "execution_count": 144
        }
      ],
      "source": [
        "for i in range(n):  # Y así le asignaríamos a los coeficientes\n",
        "    coefs1[i] = solsGauss1[0][i]  # las soluciones obtenidas (nos quedamos solo con la primera solución, nodos ordenamos de menos a mayor)\n",
        "coefs1"
      ]
    },
    {
      "cell_type": "code",
      "execution_count": null,
      "metadata": {
        "colab": {
          "base_uri": "https://localhost:8080/"
        },
        "id": "qPRtlyvy-mzH",
        "outputId": "b97c0bcd-4759-4460-955c-773f53ebfcb3"
      },
      "outputs": [
        {
          "output_type": "execute_result",
          "data": {
            "text/plain": [
              "[-sqrt(3)/3, sqrt(3)/3]"
            ]
          },
          "metadata": {},
          "execution_count": 145
        }
      ],
      "source": [
        "for i in range(n):   # Y así le asignaríamos a los nodos\n",
        "    nodos1[i] = solsGauss1[0][n+i] # las soluciones obtenidas (nos quedamos solo con la primera solución)\n",
        "nodos1"
      ]
    },
    {
      "cell_type": "code",
      "execution_count": null,
      "metadata": {
        "colab": {
          "base_uri": "https://localhost:8080/",
          "height": 68
        },
        "id": "W3BK0Io0-mzH",
        "outputId": "2ee175ec-af76-48e8-a8ed-ebbb910a15d8"
      },
      "outputs": [
        {
          "output_type": "execute_result",
          "data": {
            "text/plain": [
              "f(-sqrt(3)/3) + f(sqrt(3)/3)"
            ],
            "text/latex": "$\\displaystyle f{\\left(- \\frac{\\sqrt{3}}{3} \\right)} + f{\\left(\\frac{\\sqrt{3}}{3} \\right)}$"
          },
          "metadata": {},
          "execution_count": 146
        }
      ],
      "source": [
        "formGauss1 = np.dot([f(nodos1[i]) for i in range(n)],coefs1) # Aquí realizamos un simple producto escalar\n",
        "formGauss1           # multiplicando término a término los valores de los coeficientes por la evaluación de la función evaluada\n",
        "# en los nodos obtenidos y sumando posteriormente esos términos obtenidos."
      ]
    },
    {
      "cell_type": "markdown",
      "metadata": {
        "id": "LsBKCl8hamL4"
      },
      "source": [
        "En otras palabras, $c_1f(p_1)+c_2f(p_2)$, con $(c_1,c_2,p_1,p_2)$ dados por la solución obtenida al sistema de eq."
      ]
    },
    {
      "cell_type": "markdown",
      "metadata": {
        "id": "cEbg14jM-mzH"
      },
      "source": [
        "Vemos pues que con la ayuda del comando `solve` del módulo de cálculo simbólico `SymPy` hemos podido obtener sin demasiado problema tanto los coeficientes de la fórmula Gaussiana como los nodos que hace falta considerar para obtener la máxima exactitud en el intervalo considerado ($[-1,1]$ en este caso). También vemos que\n",
        "uno de los posibles inconvenientes para la obtención de estas fórmulas gaussianas es que debemos resolver sistemas de ecuaciones no lineales, no siempre fáciles de resolver, aparte de que los nodos suelen ser números trascencentes, y si no trabajáramos en simbólico, ya su mera aproximación introduciría un primer error."
      ]
    },
    {
      "cell_type": "markdown",
      "metadata": {
        "id": "X8aLZIpc-mzI"
      },
      "source": [
        "### Una fórmula gaussiana para una integral impropia con función peso no idénticamente uno"
      ]
    },
    {
      "cell_type": "code",
      "execution_count": null,
      "metadata": {
        "colab": {
          "base_uri": "https://localhost:8080/"
        },
        "id": "1yccS_1N-mzI",
        "outputId": "760c91ab-7701-4289-f981-737e9b0b814a"
      },
      "outputs": [
        {
          "output_type": "execute_result",
          "data": {
            "text/plain": [
              "(0, oo)"
            ]
          },
          "metadata": {},
          "execution_count": 147
        }
      ],
      "source": [
        "a = 0; b = sp.oo;  # En este caso estaremos obteniendo una fórmula de integración numérica para la semirecta\n",
        "(a,b)              # formada por todos los números reales positivos"
      ]
    },
    {
      "cell_type": "code",
      "execution_count": null,
      "metadata": {
        "id": "xJDrZ1tA-mzI"
      },
      "outputs": [],
      "source": [
        "x = sp.Symbol('x')\n",
        "def w(x):\n",
        "    \"\"\"función peso\"\"\"\n",
        "    return sp.exp(-x)"
      ]
    },
    {
      "cell_type": "code",
      "execution_count": null,
      "metadata": {
        "colab": {
          "base_uri": "https://localhost:8080/"
        },
        "id": "KiF3Tpdg-mzI",
        "outputId": "a0866f5c-ae71-4c1c-edd5-2a685c610a60"
      },
      "outputs": [
        {
          "output_type": "execute_result",
          "data": {
            "text/plain": [
              "(E, 1, exp(-1))"
            ]
          },
          "metadata": {},
          "execution_count": 149
        }
      ],
      "source": [
        "w(-1),w(0),w(1)"
      ]
    },
    {
      "cell_type": "code",
      "execution_count": null,
      "metadata": {
        "id": "MlFPHOup-mzI"
      },
      "outputs": [],
      "source": [
        "n = 2; grexact = 2*n-1"
      ]
    },
    {
      "cell_type": "code",
      "execution_count": null,
      "metadata": {
        "colab": {
          "base_uri": "https://localhost:8080/"
        },
        "id": "gAAlRQsb-mzI",
        "outputId": "2a8930ec-5ccd-4c7e-c9ca-384415b5de62"
      },
      "outputs": [
        {
          "output_type": "execute_result",
          "data": {
            "text/plain": [
              "[p0, p1]"
            ]
          },
          "metadata": {},
          "execution_count": 151
        }
      ],
      "source": [
        "p = sp.symbols('p0:'+ str(n)) # generamos una tupla de n nodos, ahora empezamos por p0\n",
        "nodos2 = list(p)\n",
        "nodos2"
      ]
    },
    {
      "cell_type": "code",
      "execution_count": null,
      "metadata": {
        "colab": {
          "base_uri": "https://localhost:8080/"
        },
        "id": "srLbNJW8-mzI",
        "outputId": "6140ce55-454c-4de3-83af-f9e3da7fcf2f"
      },
      "outputs": [
        {
          "output_type": "execute_result",
          "data": {
            "text/plain": [
              "[c0, c1]"
            ]
          },
          "metadata": {},
          "execution_count": 152
        }
      ],
      "source": [
        "c = sp.symbols('c0:'+ str(n)) # generamos una tupla de n coeficientes\n",
        "coefs2 = list(c)\n",
        "coefs2"
      ]
    },
    {
      "cell_type": "code",
      "execution_count": null,
      "metadata": {
        "colab": {
          "base_uri": "https://localhost:8080/"
        },
        "id": "esBXXEIw-mzI",
        "outputId": "debb2011-b5e5-4082-ddc6-ac724b9b7815"
      },
      "outputs": [
        {
          "output_type": "execute_result",
          "data": {
            "text/plain": [
              "[c0, c1, p0, p1]"
            ]
          },
          "metadata": {},
          "execution_count": 153
        }
      ],
      "source": [
        "# p,c = sp.symbols('p,c')\n",
        "# nodos2 = [p(i) for i in range(n)]\n",
        "# coefs2 = [c(i) for i in range(n)]\n",
        "incogs2 = coefs2 + nodos2\n",
        "incogs2"
      ]
    },
    {
      "cell_type": "markdown",
      "metadata": {
        "id": "sk__REqVbYXI"
      },
      "source": [
        "Las ecuaciones a resolver son del tipo\n",
        "$$c_1p_1^i+c_2p_2^i=\\int_a^b w(x)x^i\\text{d}x\\quad\\forall i=0,\\ldots,\\text{grexact} $$\n",
        "con $w(x)=e^{-x}$ la función peso. El caso de peso constante se recupera haciendo $w=1$ e integrando."
      ]
    },
    {
      "cell_type": "code",
      "execution_count": null,
      "metadata": {
        "colab": {
          "base_uri": "https://localhost:8080/"
        },
        "id": "G5OYMFZ3-mzI",
        "outputId": "8c4dcd3d-bcf8-43ff-9163-069952a60d1f"
      },
      "outputs": [
        {
          "output_type": "execute_result",
          "data": {
            "text/plain": [
              "[c0 + c1 - 1,\n",
              " c0*p0 + c1*p1 - 1,\n",
              " c0*p0**2 + c1*p1**2 - 2,\n",
              " c0*p0**3 + c1*p1**3 - 6]"
            ]
          },
          "metadata": {},
          "execution_count": 154
        }
      ],
      "source": [
        "ecs2 = [np.dot([(z**i).subs({z:nodos2[j]}) for j in range(n)],coefs2)-sp.integrate(w(x)*x**i,(x,a,b)) for i in range(grexact+1)]\n",
        "ecs2"
      ]
    },
    {
      "cell_type": "code",
      "execution_count": null,
      "metadata": {
        "colab": {
          "base_uri": "https://localhost:8080/"
        },
        "id": "8M4xp8fN-mzJ",
        "outputId": "c396e374-d976-4ba6-c4b9-1b3cf7b03039"
      },
      "outputs": [
        {
          "output_type": "execute_result",
          "data": {
            "text/plain": [
              "[(1/2 - sqrt(2)/4, sqrt(2)/4 + 1/2, sqrt(2) + 2, 2 - sqrt(2)),\n",
              " (sqrt(2)/4 + 1/2, 1/2 - sqrt(2)/4, 2 - sqrt(2), sqrt(2) + 2)]"
            ]
          },
          "metadata": {},
          "execution_count": 155
        }
      ],
      "source": [
        "solsGauss2 = sp.solve(ecs2,incogs2)\n",
        "solsGauss2"
      ]
    },
    {
      "cell_type": "code",
      "execution_count": null,
      "metadata": {
        "colab": {
          "base_uri": "https://localhost:8080/"
        },
        "id": "ZI44nwT--mzJ",
        "outputId": "215213a1-3ca4-4735-fcf2-a5008fc23732"
      },
      "outputs": [
        {
          "output_type": "execute_result",
          "data": {
            "text/plain": [
              "[1/2 - sqrt(2)/4, sqrt(2)/4 + 1/2]"
            ]
          },
          "metadata": {},
          "execution_count": 156
        }
      ],
      "source": [
        "for i in range(n):\n",
        "    coefs2[i] = solsGauss2[0][i]\n",
        "coefs2"
      ]
    },
    {
      "cell_type": "code",
      "execution_count": null,
      "metadata": {
        "colab": {
          "base_uri": "https://localhost:8080/"
        },
        "id": "MZx8qOHn-mzJ",
        "outputId": "60a71d0f-0bf5-4519-e434-4a9559c0075f"
      },
      "outputs": [
        {
          "output_type": "execute_result",
          "data": {
            "text/plain": [
              "[sqrt(2) + 2, 2 - sqrt(2)]"
            ]
          },
          "metadata": {},
          "execution_count": 157
        }
      ],
      "source": [
        "for i in range(n):\n",
        "    nodos2[i] = solsGauss2[0][n+i]\n",
        "nodos2"
      ]
    },
    {
      "cell_type": "code",
      "execution_count": null,
      "metadata": {
        "colab": {
          "base_uri": "https://localhost:8080/"
        },
        "id": "kdmmAX3D-mzJ",
        "outputId": "2127e261-48d1-42ed-b116-9114038704aa"
      },
      "outputs": [
        {
          "output_type": "execute_result",
          "data": {
            "text/plain": [
              "[1/2 - sqrt(2)/4, sqrt(2)/4 + 1/2]"
            ]
          },
          "metadata": {},
          "execution_count": 158
        }
      ],
      "source": [
        "for i in range(n):\n",
        "    coefs2[i] = solsGauss2[0][i]\n",
        "coefs2"
      ]
    },
    {
      "cell_type": "code",
      "execution_count": null,
      "metadata": {
        "colab": {
          "base_uri": "https://localhost:8080/",
          "height": 68
        },
        "id": "XlFR6Nf3-mzJ",
        "outputId": "3c32359d-d2ab-4674-89d6-22310752e16f"
      },
      "outputs": [
        {
          "output_type": "execute_result",
          "data": {
            "text/plain": [
              "(sqrt(2)/4 + 1/2)*f(2 - sqrt(2)) + (1/2 - sqrt(2)/4)*f(sqrt(2) + 2)"
            ],
            "text/latex": "$\\displaystyle \\left(\\frac{\\sqrt{2}}{4} + \\frac{1}{2}\\right) f{\\left(2 - \\sqrt{2} \\right)} + \\left(\\frac{1}{2} - \\frac{\\sqrt{2}}{4}\\right) f{\\left(\\sqrt{2} + 2 \\right)}$"
          },
          "metadata": {},
          "execution_count": 159
        }
      ],
      "source": [
        "formGauss2 = np.dot([f(nodos2[i]) for i in range(n)],coefs2)\n",
        "formGauss2"
      ]
    },
    {
      "cell_type": "markdown",
      "metadata": {
        "id": "bITRPw8Z-mzJ"
      },
      "source": [
        "Por otro lado, también podemos llegar a esta misma fórmula partiendo de los ceros del polinomio de Laguerre."
      ]
    },
    {
      "cell_type": "code",
      "execution_count": null,
      "metadata": {
        "id": "yc_z9MDD-mzJ"
      },
      "outputs": [],
      "source": [
        "from scipy.special import laguerre"
      ]
    },
    {
      "cell_type": "code",
      "execution_count": null,
      "metadata": {
        "id": "7KY5U12Y-mzJ"
      },
      "outputs": [],
      "source": [
        "?laguerre"
      ]
    },
    {
      "cell_type": "code",
      "execution_count": null,
      "metadata": {
        "colab": {
          "base_uri": "https://localhost:8080/"
        },
        "id": "oIrogr5_-mzJ",
        "outputId": "1bab13fc-d46d-446e-9d46-b3ec1ed79cfa"
      },
      "outputs": [
        {
          "output_type": "execute_result",
          "data": {
            "text/plain": [
              "(poly1d([1.]), poly1d([-1.,  1.]), poly1d([ 0.5, -2. ,  1. ]))"
            ]
          },
          "metadata": {},
          "execution_count": 162
        }
      ],
      "source": [
        "laguerre(0),laguerre(1),laguerre(2)"
      ]
    },
    {
      "cell_type": "code",
      "execution_count": null,
      "metadata": {
        "colab": {
          "base_uri": "https://localhost:8080/"
        },
        "id": "DsNQcVpD-mzJ",
        "outputId": "ed241bd0-1897-45b0-ebd4-002f52b974c4"
      },
      "outputs": [
        {
          "output_type": "execute_result",
          "data": {
            "text/plain": [
              "poly1d([ 0.5, -2. ,  1. ])"
            ]
          },
          "metadata": {},
          "execution_count": 163
        }
      ],
      "source": [
        "laguerre(2) # poly1d es un formato específico para almacenar este\n",
        "# tipo de polinomios ortogonales, pero no vamos a verlo en detalle"
      ]
    },
    {
      "cell_type": "code",
      "execution_count": null,
      "metadata": {
        "colab": {
          "base_uri": "https://localhost:8080/"
        },
        "id": "2-AFVI1R-mzK",
        "outputId": "4fefc9c9-e5c7-4e4c-918f-bc3789c90afd"
      },
      "outputs": [
        {
          "output_type": "execute_result",
          "data": {
            "text/plain": [
              "array([[0.58578644, 0.85355339, 1.53332603],\n",
              "       [3.41421356, 0.14644661, 4.45095734]])"
            ]
          },
          "metadata": {},
          "execution_count": 164
        }
      ],
      "source": [
        "laguerre(2).weights # este atributo de la clase poly1d nos permite\n",
        "# obtener los ceros del correspondiente polinomio, así como otros\n",
        "# parámetros interesantes para confeccionar fórmulas gaussianas."
      ]
    },
    {
      "cell_type": "code",
      "execution_count": null,
      "metadata": {
        "colab": {
          "base_uri": "https://localhost:8080/"
        },
        "id": "92J69sxY-mzK",
        "outputId": "711cf89f-acba-40b7-b87a-4a0394b771ca"
      },
      "outputs": [
        {
          "output_type": "execute_result",
          "data": {
            "text/plain": [
              "(0.585786437626905, 3.4142135623730954)"
            ]
          },
          "metadata": {},
          "execution_count": 165
        }
      ],
      "source": [
        "nodos = (laguerre(2).weights)[0,0],(laguerre(2).weights)[1,0]\n",
        "nodos"
      ]
    },
    {
      "cell_type": "code",
      "execution_count": null,
      "metadata": {
        "colab": {
          "base_uri": "https://localhost:8080/"
        },
        "id": "2Oas2pk3-mzK",
        "outputId": "b0b69d97-5f2c-401d-d0f7-54384fc29bde"
      },
      "outputs": [
        {
          "output_type": "execute_result",
          "data": {
            "text/plain": [
              "[sqrt(2) + 2, 2 - sqrt(2)]"
            ]
          },
          "metadata": {},
          "execution_count": 166
        }
      ],
      "source": [
        "nodos2"
      ]
    },
    {
      "cell_type": "code",
      "execution_count": null,
      "metadata": {
        "colab": {
          "base_uri": "https://localhost:8080/"
        },
        "id": "yvoWVKSw-mzK",
        "outputId": "d98b7084-3a99-4c91-8efd-aa0951bf1528"
      },
      "outputs": [
        {
          "output_type": "execute_result",
          "data": {
            "text/plain": [
              "(0.5857864376269049, 3.414213562373095)"
            ]
          },
          "metadata": {},
          "execution_count": 167
        }
      ],
      "source": [
        "2-np.sqrt(2),2+np.sqrt(2) # nótese que en este último caso aparecen pequeños errores de redondeo\n",
        "                          # al trabajar con números en coma flotante"
      ]
    },
    {
      "cell_type": "code",
      "execution_count": null,
      "metadata": {
        "colab": {
          "base_uri": "https://localhost:8080/"
        },
        "id": "scS9d06h-mzK",
        "outputId": "011224f8-0365-41e3-a818-e88a03f1f2bb"
      },
      "outputs": [
        {
          "output_type": "execute_result",
          "data": {
            "text/plain": [
              "array([[0.58578644, 0.85355339, 1.53332603],\n",
              "       [3.41421356, 0.14644661, 4.45095734]])"
            ]
          },
          "metadata": {},
          "execution_count": 168
        }
      ],
      "source": [
        "laguerre(2).weights"
      ]
    },
    {
      "cell_type": "code",
      "execution_count": null,
      "metadata": {
        "colab": {
          "base_uri": "https://localhost:8080/"
        },
        "id": "JtfPs9QR-mzK",
        "outputId": "8b979735-5316-4156-e707-da83d3ad2c3b"
      },
      "outputs": [
        {
          "output_type": "execute_result",
          "data": {
            "text/plain": [
              "(0.8535533905932737, 0.14644660940672624)"
            ]
          },
          "metadata": {},
          "execution_count": 169
        }
      ],
      "source": [
        "coefs = (laguerre(2).weights)[0,1],(laguerre(2).weights)[1,1]\n",
        "coefs   # aquí también aparecen pequeños errores de redondeo"
      ]
    },
    {
      "cell_type": "code",
      "execution_count": null,
      "metadata": {
        "colab": {
          "base_uri": "https://localhost:8080/"
        },
        "id": "7M5EevMu-mzK",
        "outputId": "a7798ecb-b37b-4371-e472-64fe8fac8048"
      },
      "outputs": [
        {
          "output_type": "execute_result",
          "data": {
            "text/plain": [
              "(0.853553390593274, 0.146446609406726)"
            ]
          },
          "metadata": {},
          "execution_count": 170
        }
      ],
      "source": [
        "sp.N(coefs2[1]),sp.N(coefs2[0])\n"
      ]
    },
    {
      "cell_type": "markdown",
      "metadata": {
        "id": "cXV14R0u-mzK"
      },
      "source": [
        "Vemos entonces que tenemos de esta forma todo lo que necesitamos para construir la fórmula gaussiana de integración numérica que obtuvimos previamente"
      ]
    },
    {
      "cell_type": "code",
      "execution_count": null,
      "metadata": {
        "id": "_WcthArP-mzL"
      },
      "outputs": [],
      "source": [
        "?f"
      ]
    },
    {
      "cell_type": "code",
      "execution_count": null,
      "metadata": {
        "id": "UdBiDFcC-mzL"
      },
      "outputs": [],
      "source": [
        "f = sp.Function('f')"
      ]
    },
    {
      "cell_type": "code",
      "execution_count": null,
      "metadata": {
        "colab": {
          "base_uri": "https://localhost:8080/",
          "height": 68
        },
        "id": "Fq9upkzd-mzL",
        "outputId": "87771efd-7580-48c7-ccb5-aa6d7d946283"
      },
      "outputs": [
        {
          "output_type": "execute_result",
          "data": {
            "text/plain": [
              "(sqrt(2)/4 + 1/2)*f(2 - sqrt(2)) + (1/2 - sqrt(2)/4)*f(sqrt(2) + 2)"
            ],
            "text/latex": "$\\displaystyle \\left(\\frac{\\sqrt{2}}{4} + \\frac{1}{2}\\right) f{\\left(2 - \\sqrt{2} \\right)} + \\left(\\frac{1}{2} - \\frac{\\sqrt{2}}{4}\\right) f{\\left(\\sqrt{2} + 2 \\right)}$"
          },
          "metadata": {},
          "execution_count": 173
        }
      ],
      "source": [
        "np.dot([f(nodos2[k]) for k in range(len(nodos2))],coefs2)"
      ]
    },
    {
      "cell_type": "code",
      "execution_count": null,
      "metadata": {
        "id": "7FO0PDkh-mzL"
      },
      "outputs": [],
      "source": [
        "def integGauss2(f):\n",
        "    \"\"\"integración Gaussiana en [0,oo[ usando pols. de Laguerre\"\"\"\n",
        "    return np.dot([f(nodos[k]) for k in range(len(nodos))],coefs)"
      ]
    },
    {
      "cell_type": "code",
      "execution_count": null,
      "metadata": {
        "colab": {
          "base_uri": "https://localhost:8080/"
        },
        "id": "zHvzvlBX-mzL",
        "outputId": "040e71ff-a083-40df-fb28-31be5c96f1e7"
      },
      "outputs": [
        {
          "output_type": "execute_result",
          "data": {
            "text/plain": [
              "2.0000000000000004"
            ]
          },
          "metadata": {},
          "execution_count": 175
        }
      ],
      "source": [
        "integGauss2(lambda x:x**2) #Probamos la fórmula de integración gaussiana (obtenida con peso exp(-x), 2 nodos, y el intervalo [-1,1]) para la función x^2"
      ]
    },
    {
      "cell_type": "markdown",
      "metadata": {
        "id": "motGABvA-mzL"
      },
      "source": [
        "## Otras posibilidades para la integración numérica usando algunos módulos de Python"
      ]
    },
    {
      "cell_type": "markdown",
      "metadata": {
        "id": "Woaob-yO-mzL"
      },
      "source": [
        "*Python* tiene también  varias órdenes para la integración de funciones, ya sea de manera simbólica o numérica. Cada una de ellas vendrá implementada en cierto módulo concreto de Python, por lo que será conveniente saber dónde y cómo deberemos cargar y usar dichas órdenes.\n",
        "\n",
        "Por ejemplo, para la integración simbólica usaremos evidentemente la orden correspondiente incorporada en el módulo `SymPy`. Esta órden es `integrate` (parecida a la orden `Integrate` de *Mathematica*) y a continuación vemos algunos ejemplos de uso, tanto para obtener integrales indefinidas (primitivas) como integrales definidas, de forma exacta siempre que sea posible. Nótese que esta orden requiere que la función tenga una primitiva, a la que aplica la regla de Barrow en el caso de tratarse de una integral definida."
      ]
    },
    {
      "cell_type": "code",
      "execution_count": null,
      "metadata": {
        "id": "x4Zenwfv-mzL"
      },
      "outputs": [],
      "source": [
        "x = sp.Symbol('x')"
      ]
    },
    {
      "cell_type": "code",
      "execution_count": null,
      "metadata": {
        "colab": {
          "base_uri": "https://localhost:8080/"
        },
        "id": "O2etP1jZ-mzL",
        "outputId": "bc450f11-1f9a-40c6-dd79-366e2033d481"
      },
      "outputs": [
        {
          "output_type": "execute_result",
          "data": {
            "text/plain": [
              "(x**2/2, 1/2)"
            ]
          },
          "metadata": {},
          "execution_count": 177
        }
      ],
      "source": [
        "sp.integrate(x,x),sp.integrate(x,[x,0,1])"
      ]
    },
    {
      "cell_type": "code",
      "execution_count": null,
      "metadata": {
        "colab": {
          "base_uri": "https://localhost:8080/"
        },
        "id": "HL73O4AR-mzM",
        "outputId": "513835af-8d62-42b1-d73c-635c9eeb5cc7"
      },
      "outputs": [
        {
          "output_type": "execute_result",
          "data": {
            "text/plain": [
              "(x**3/3, 1/3)"
            ]
          },
          "metadata": {},
          "execution_count": 178
        }
      ],
      "source": [
        "sp.integrate(x**2,x),sp.integrate(x**2,[x,0,1])"
      ]
    },
    {
      "cell_type": "code",
      "execution_count": null,
      "metadata": {
        "colab": {
          "base_uri": "https://localhost:8080/",
          "height": 54
        },
        "id": "1ROT2DJI-mzM",
        "outputId": "b2c109e1-3d06-4461-d662-8d81a0f72e05"
      },
      "outputs": [
        {
          "output_type": "execute_result",
          "data": {
            "text/plain": [
              "x**4/4 - x**2/2 + 2*x"
            ],
            "text/latex": "$\\displaystyle \\frac{x^{4}}{4} - \\frac{x^{2}}{2} + 2 x$"
          },
          "metadata": {},
          "execution_count": 179
        }
      ],
      "source": [
        "sp.integrate(x**3-x+2,x) # primitiva salvo constantes de un polinomio"
      ]
    },
    {
      "cell_type": "code",
      "execution_count": null,
      "metadata": {
        "colab": {
          "base_uri": "https://localhost:8080/"
        },
        "id": "xJxSSmB--mzM",
        "outputId": "c2ba5d5c-f74c-4b9e-b4f9-5baaaf31969f"
      },
      "outputs": [
        {
          "output_type": "execute_result",
          "data": {
            "text/plain": [
              "(7/4, 1.75000000000000)"
            ]
          },
          "metadata": {},
          "execution_count": 180
        }
      ],
      "source": [
        "sp.integrate(x**3-x+2,[x,0,1]),sp.integrate(x**3-x+2,[x,0,1.])\n",
        "# Nótese aquí el efecto de indicar alguno de los límites\n",
        "# de integración con el punto decimal"
      ]
    },
    {
      "cell_type": "code",
      "execution_count": null,
      "metadata": {
        "colab": {
          "base_uri": "https://localhost:8080/",
          "height": 54
        },
        "id": "YrnXtUok-mzM",
        "outputId": "3a13fd00-fbe8-4a28-ad54-a9cdff1629aa"
      },
      "outputs": [
        {
          "output_type": "execute_result",
          "data": {
            "text/plain": [
              "sqrt(pi)*erfi(x)/2"
            ],
            "text/latex": "$\\displaystyle \\frac{\\sqrt{\\pi} \\operatorname{erfi}{\\left(x \\right)}}{2}$"
          },
          "metadata": {},
          "execution_count": 181
        }
      ],
      "source": [
        "sp.integrate(sp.exp(x**2),x)"
      ]
    },
    {
      "cell_type": "code",
      "execution_count": null,
      "metadata": {
        "colab": {
          "base_uri": "https://localhost:8080/",
          "height": 54
        },
        "id": "Xg0pwFZe-mzM",
        "outputId": "c427f2fa-6cec-4a7b-9a5d-e6afae1dcc1e"
      },
      "outputs": [
        {
          "output_type": "execute_result",
          "data": {
            "text/plain": [
              "sqrt(pi)*erfi(1)/2"
            ],
            "text/latex": "$\\displaystyle \\frac{\\sqrt{\\pi} \\operatorname{erfi}{\\left(1 \\right)}}{2}$"
          },
          "metadata": {},
          "execution_count": 182
        }
      ],
      "source": [
        "sp.integrate(sp.exp(x**2),[x,0,1])"
      ]
    },
    {
      "cell_type": "code",
      "execution_count": null,
      "metadata": {
        "colab": {
          "base_uri": "https://localhost:8080/",
          "height": 37
        },
        "id": "P_MxYmyZ-mzM",
        "outputId": "341db1e3-6924-4146-ec21-5f8ec555d6df"
      },
      "outputs": [
        {
          "output_type": "execute_result",
          "data": {
            "text/plain": [
              "sqrt(pi)"
            ],
            "text/latex": "$\\displaystyle \\sqrt{\\pi}$"
          },
          "metadata": {},
          "execution_count": 183
        }
      ],
      "source": [
        "sp.integrate(sp.exp(-x**2),[x,-sp.oo,sp.oo])"
      ]
    },
    {
      "cell_type": "code",
      "execution_count": null,
      "metadata": {
        "colab": {
          "base_uri": "https://localhost:8080/",
          "height": 73
        },
        "id": "-mXh62cX-mzN",
        "outputId": "e6156bad-52f5-4745-990d-96cac001c8f1"
      },
      "outputs": [
        {
          "output_type": "execute_result",
          "data": {
            "text/plain": [
              "sqrt(2)*sqrt(pi)*fresnelc(sqrt(2)*x/sqrt(pi))*gamma(1/4)/(8*gamma(5/4))"
            ],
            "text/latex": "$\\displaystyle \\frac{\\sqrt{2} \\sqrt{\\pi} C\\left(\\frac{\\sqrt{2} x}{\\sqrt{\\pi}}\\right) \\Gamma\\left(\\frac{1}{4}\\right)}{8 \\Gamma\\left(\\frac{5}{4}\\right)}$"
          },
          "metadata": {},
          "execution_count": 184
        }
      ],
      "source": [
        "sp.integrate(sp.cos(x**2),x)"
      ]
    },
    {
      "cell_type": "code",
      "execution_count": null,
      "metadata": {
        "id": "1pcVJy1a-mzN",
        "colab": {
          "base_uri": "https://localhost:8080/",
          "height": 73
        },
        "outputId": "cb56ddf3-6143-4fba-fba6-76320acc267b"
      },
      "outputs": [
        {
          "output_type": "execute_result",
          "data": {
            "text/plain": [
              "sqrt(2)*sqrt(pi)*fresnelc(sqrt(2)/sqrt(pi))*gamma(1/4)/(8*gamma(5/4))"
            ],
            "text/latex": "$\\displaystyle \\frac{\\sqrt{2} \\sqrt{\\pi} C\\left(\\frac{\\sqrt{2}}{\\sqrt{\\pi}}\\right) \\Gamma\\left(\\frac{1}{4}\\right)}{8 \\Gamma\\left(\\frac{5}{4}\\right)}$"
          },
          "metadata": {},
          "execution_count": 185
        }
      ],
      "source": [
        "sp.integrate(sp.cos(x**2),[x,0,1])"
      ]
    },
    {
      "cell_type": "markdown",
      "metadata": {
        "id": "QRJ-ffYE-mzN"
      },
      "source": [
        "**Ejercicio:** Intente integrar en el intervalo $[1,2]$ las funciones $e^x x$ y $\\frac{e^x}{x}$, usando la orden `integrate` y por otro lado calculando previamente una primitiva de la función integrando y aplicando la conocida regla de Barrow. Compare los resultados."
      ]
    },
    {
      "cell_type": "code",
      "execution_count": null,
      "metadata": {
        "id": "qBVlGPnH-mzN",
        "colab": {
          "base_uri": "https://localhost:8080/"
        },
        "outputId": "a0b0aff3-21a7-457e-d7a1-02361f4c476b"
      },
      "outputs": [
        {
          "output_type": "execute_result",
          "data": {
            "text/plain": [
              "(E, exp(2)/2)"
            ]
          },
          "metadata": {},
          "execution_count": 186
        }
      ],
      "source": [
        "def f(x):\n",
        "    return sp.exp(x)/x\n",
        "f(1),f(2)"
      ]
    },
    {
      "cell_type": "code",
      "execution_count": null,
      "metadata": {
        "id": "W7wWCsDT-mzN",
        "colab": {
          "base_uri": "https://localhost:8080/",
          "height": 39
        },
        "outputId": "24cf16a4-5783-41b8-acd9-659c4b5c53b6"
      },
      "outputs": [
        {
          "output_type": "execute_result",
          "data": {
            "text/plain": [
              "Ei(x)"
            ],
            "text/latex": "$\\displaystyle \\operatorname{Ei}{\\left(x \\right)}$"
          },
          "metadata": {},
          "execution_count": 187
        }
      ],
      "source": [
        "sp.integrate(f(x),x)"
      ]
    },
    {
      "cell_type": "code",
      "execution_count": null,
      "metadata": {
        "id": "gjzgjd7h-mzN",
        "colab": {
          "base_uri": "https://localhost:8080/"
        },
        "outputId": "56d4d9e7-bf34-4d9d-b299-64d3435b1b57"
      },
      "outputs": [
        {
          "output_type": "stream",
          "name": "stdout",
          "text": [
            "Ei(x)\n"
          ]
        }
      ],
      "source": [
        "print(_)"
      ]
    },
    {
      "cell_type": "code",
      "execution_count": null,
      "metadata": {
        "id": "JikrEVmP-mzQ",
        "colab": {
          "base_uri": "https://localhost:8080/",
          "height": 37
        },
        "outputId": "47b1ebed-b397-4db0-e52e-bb766dde141c"
      },
      "outputs": [
        {
          "output_type": "execute_result",
          "data": {
            "text/plain": [
              "3.05911653964595"
            ],
            "text/latex": "$\\displaystyle 3.05911653964595$"
          },
          "metadata": {},
          "execution_count": 189
        }
      ],
      "source": [
        "(sp.Ei(2)-sp.Ei(1)).evalf()"
      ]
    },
    {
      "cell_type": "code",
      "execution_count": null,
      "metadata": {
        "id": "9WvNQlag-mzQ",
        "colab": {
          "base_uri": "https://localhost:8080/",
          "height": 37
        },
        "outputId": "56d38b66-0c2f-4679-d731-6531a9d87b56"
      },
      "outputs": [
        {
          "output_type": "execute_result",
          "data": {
            "text/plain": [
              "3.05911653964595"
            ],
            "text/latex": "$\\displaystyle 3.05911653964595$"
          },
          "metadata": {},
          "execution_count": 190
        }
      ],
      "source": [
        "sp.N(sp.integrate(f(x),[x,1,2]))"
      ]
    },
    {
      "cell_type": "markdown",
      "metadata": {
        "id": "ud2-zyr4-mzQ"
      },
      "source": [
        "Por otro lado estarían las órdenes específicas para la integración numérica, entre las que resaltamos la órden `quad` (igual que en MATLAB/Octave) para la integración de funciones de una variable. Existen las correspondientes versiones para funciones de dos y tres variables (`dblquad` y `tplquad`) que nos permitirán aproximar numéricamente integrales dobles y triples, respectivamente. Todas ellas se encuentran implementadas dentro del submódulo `integrate` del módulo `SciPy` y tendremos que cargarlas previamente para poder usarlas."
      ]
    },
    {
      "cell_type": "code",
      "execution_count": null,
      "metadata": {
        "id": "BNT3_yCO-mzQ"
      },
      "outputs": [],
      "source": [
        "from scipy.integrate import quad, dblquad, tplquad"
      ]
    },
    {
      "cell_type": "markdown",
      "metadata": {
        "id": "78tFKRzy-mzQ"
      },
      "source": [
        "Empecemos con la orden `quad`, que nos permitirá aproximar la integral definida de una función real de variable real en un intervalo determinado. Así pues, esta orden lleva programada una integración numérica adaptativa que puede en principio ser aplicada a cualquier función definida y acotada en un intervalo $[a,b]$.\n",
        "Por otro lado, tiene bastantes argumentos opcionales que pueden ser usados para afinar mucho más en el cálculo de dicha aproximación numérica (pruebe a escribir `?quad` o `help(quad)` para más detalles)."
      ]
    },
    {
      "cell_type": "code",
      "execution_count": null,
      "metadata": {
        "id": "5abvbvdI-mzQ"
      },
      "outputs": [],
      "source": [
        "?quad"
      ]
    },
    {
      "cell_type": "code",
      "execution_count": null,
      "metadata": {
        "id": "fCxSiiDO-mzQ"
      },
      "outputs": [],
      "source": [
        "def f(x):\n",
        "    \"\"\"función del integrando: x^2+1\"\"\"\n",
        "    return x**2+1"
      ]
    },
    {
      "cell_type": "code",
      "execution_count": null,
      "metadata": {
        "id": "n8aTWEvW-mzQ",
        "colab": {
          "base_uri": "https://localhost:8080/"
        },
        "outputId": "da9a622c-0fd9-41cc-ebd2-cbb7579effed"
      },
      "outputs": [
        {
          "output_type": "stream",
          "name": "stdout",
          "text": [
            "valor aprox. de la integral = 1.3333333333333333 ,\n",
            " error estimado = 1.4802973661668752e-14\n"
          ]
        }
      ],
      "source": [
        "# No obstante, su uso básico sería el siguiente:\n",
        "# f sería la función del integrando,\n",
        "# que debería estar definida previamente\n",
        "# a no ser que usemos una función anónima, del tipo `lambda`\n",
        "\n",
        "x_min = 0 # el límite inferior en la variable de integración x\n",
        "x_max = 1 # el límite superior en la variable de integración x\n",
        "\n",
        "val, abserr = quad(f, x_min, x_max)\n",
        "\n",
        "# en las variables val y abserr almacenaremos el valor aproximado\n",
        "# de la integral, así como la estimación del error cometido en\n",
        "# valor absoluto\n",
        "\n",
        "print (\"valor aprox. de la integral =\", val, \",\\n\", \"error estimado =\", abserr)"
      ]
    },
    {
      "cell_type": "markdown",
      "metadata": {
        "id": "v0jnUmLd-mzQ"
      },
      "source": [
        "# Ejercicios"
      ]
    },
    {
      "cell_type": "markdown",
      "metadata": {
        "id": "EPoIHx3O-mzQ"
      },
      "source": [
        "1.- Obtenga mediante interpolación en el espacio $\\mathbb{P}_2$ una fórmula para aproximar $f''(a)$ del tipo combinación\n",
        "de $f(a-h)$, $f(a)$ y $f(a+h)$.\n",
        "\n",
        "2.- Con la fórmula obtenida en el ejercicio 1, halle una tabla de aproximaciones y errores de $f_1''(2.5)$, siendo $f_1(x)=x^x$, para $h=10^{-i},\\; i=1,\\ldots,5.$\n",
        "\n",
        "3.- Sea $f_2(x)=\\frac{x^2+40}{x+\\sqrt{5x}+7}$. Calcule una tabla que recoja las derivadas de $f_2$ en $x_i=1,2,\\ldots,10$, utilizando alguna de las fórmulas de derivación numérica de primer orden obtenidas al inicio de la práctica, con $h=10^{-3}$, y muestre al mismo tiempo el error cometido en cada punto. Repita el ejercicio con la fórmula centrada obtenida para la derivada primera y, finalmente, para la obtenida en el ejercicio 1 (con respecto a la segunda derivada).\n",
        "\n",
        "4.- Divida el intervalo $[1,2]$ en 100 partes iguales y aplique las fórmulas del rectángulo, Simpson y trapecio compuestas para aproximar la integral en dicho intervalo de $f_1$. Compare dichos resultados.\n",
        "\n",
        "5.- Repita el ejercicio 4 para $f_2$.\n",
        "\n",
        "6.- Sea $f_3(x)=x^{15} e^x$ en $[0,2]$. Vamos a dividir el intervalo en $10\\times 2^n$ subintervalos, es decir, $10,\\,20,\\,40,\\, 80,\\ldots $ y a aplicar la fórmula de Simpson compuesta hasta que la diferencia entre dos aproximaciones consecutivas (por ejemplo, podrían\n",
        "ser con $20$ y $40$ subintervalos) sea menor que $10^{-2}$, dando en tal caso por buena la última aproximación obtenida. Programe\n",
        "y calcule dicha aproximación. Compare ambas aproximaciones con\n",
        "el valor exacto.\n",
        "\n",
        "7.- Calcule las fórmulas gaussianas con $2$ y $3$ nodos,en el intervalo $[-1,1]$, siendo la función peso el valor absoluto de la variable. Aplíquelas para aproximar la función $x\\; e^x$ en $[-1,1]$ y compare los resultados con el valor exacto (organizando los cálculos de forma adecuada).\n",
        "\n",
        "8.- Programar las técnicas de integración de Romberg y adaptativa, para después aplicarlas a la aproximación de la siguiente integral $$\\int_a^b p(x)\\, dx$$\n",
        "siendo  $\\;a=\\displaystyle\\min_{0\\leq i\\leq 7}{d_i}$, $\\;b=\\displaystyle\\max_{0\\leq i\\leq 7}{d_i}$ y\n",
        "$$p(x)=d_0 + d_1 x + d_2 x^2 + d_3 x^3+ d_4 x^4 + d_5 x^5 + d_6 x^6 + d_7 x^7 $$\n",
        "(siendo $d_0, d_1, \\ldots, d_7$ los dígitos de su DNI, pasaporte o tarjeta de residente)."
      ]
    }
  ],
  "metadata": {
    "anaconda-cloud": {},
    "colab": {
      "collapsed_sections": [
        "li7oJ-pu-mzD"
      ],
      "provenance": []
    },
    "kernelspec": {
      "display_name": "Python 3 (ipykernel)",
      "language": "python",
      "name": "python3"
    },
    "language_info": {
      "codemirror_mode": {
        "name": "ipython",
        "version": 3
      },
      "file_extension": ".py",
      "mimetype": "text/x-python",
      "name": "python",
      "nbconvert_exporter": "python",
      "pygments_lexer": "ipython3",
      "version": "3.9.12"
    }
  },
  "nbformat": 4,
  "nbformat_minor": 0
}