{
  "nbformat": 4,
  "nbformat_minor": 0,
  "metadata": {
    "colab": {
      "provenance": []
    },
    "kernelspec": {
      "name": "python3",
      "display_name": "Python 3"
    },
    "language_info": {
      "name": "python"
    }
  },
  "cells": [
    {
      "cell_type": "markdown",
      "source": [
        "## Ejercicios"
      ],
      "metadata": {
        "id": "rhYywaNxcbN9"
      }
    },
    {
      "cell_type": "markdown",
      "source": [
        "Autor: Leandro Jorge Fernández Vega\n",
        "\n",
        "Carrera: Doble Grado en Ingeniería Informática y Matemáticas\n",
        "\n",
        "Curso: 3º"
      ],
      "metadata": {
        "id": "8oKzYeec2kGB"
      }
    },
    {
      "cell_type": "code",
      "source": [
        "import numpy as np # Importamos el módulo NumPy con el pseudónimo np\n",
        "import sympy as sp # Importamos el módulo SymPy con el pseudónimo sp\n",
        "\n",
        "# sp.init_printing() # con esta opción obtendremos bonitas fórmulas en la pantalla\n",
        "# pero en las últimas versiones de Python parece ser que no hace falta indicarlo\n",
        "# Aquí importaremos dentro del módulo de gráficos Matplotlib el submódulo\n",
        "\n",
        "import matplotlib.pyplot as plt  #  Pyplot con el pseudónimo plt\n",
        "# usaremos una opción para poder visualizar los gráficos incrustados\n",
        "#  en línea dentro de este mismo notebook\n",
        "%matplotlib inline\n",
        "\n",
        "from random import random\n",
        "# Importamos la función generadora de números pseudoaleatorios\n",
        "\n",
        "import scipy.integrate as spi"
      ],
      "metadata": {
        "id": "diCPIx7KjVmt"
      },
      "execution_count": 121,
      "outputs": []
    },
    {
      "cell_type": "code",
      "source": [
        "#Declaracion de variables simbolicas\n",
        "f = sp.Function('f')# Crea función simbólica\n",
        "a,h = sp.symbols('a,h')\n",
        "z = sp.Symbol('z')  # utilizaremos z como variable simbólica"
      ],
      "metadata": {
        "id": "SyP4kph5kCoI"
      },
      "execution_count": 122,
      "outputs": []
    },
    {
      "cell_type": "markdown",
      "source": [
        "1.- Obtenga mediante interpolación en el espacio $\\mathbb{P}_2$ una fórmula para aproximar $f''(a)$ del tipo combinación\n",
        "de $f(a-h)$, $f(a)$ y $f(a+h)$."
      ],
      "metadata": {
        "id": "jda7wEBCjkg6"
      }
    },
    {
      "cell_type": "code",
      "execution_count": 123,
      "metadata": {
        "colab": {
          "base_uri": "https://localhost:8080/",
          "height": 140
        },
        "id": "P5PCu52sgD20",
        "outputId": "68bf565c-2409-40d6-e70b-569e2198bad0"
      },
      "outputs": [
        {
          "output_type": "stream",
          "name": "stdout",
          "text": [
            "Diferencia dividida de segundo orden:\n",
            " [(-2*f(a) + f(a - h) + f(a + h))/(2*h**2)] \n",
            "\n",
            "Formula de de aproximacion de segunda derivada:\n",
            "\n"
          ]
        },
        {
          "output_type": "execute_result",
          "data": {
            "text/plain": [
              "(-2*f(a) + f(a - h) + f(a + h))/h**2"
            ],
            "text/latex": "$\\displaystyle \\frac{- 2 f{\\left(a \\right)} + f{\\left(a - h \\right)} + f{\\left(a + h \\right)}}{h^{2}}$"
          },
          "metadata": {},
          "execution_count": 123
        }
      ],
      "source": [
        "x = [a-h,a,a+h]  # estos serán los nodos de interpolación, 3 nodos -> polinomio interpolación de grado 2\n",
        "y = [f(x[0]),f(x[1]),f(x[2])]  # y los valores interpolados\n",
        "\n",
        "# Polinomio de grado 1\n",
        "p0 = y[0]  # vamos a ir construyendo el polinomio de interpolación\n",
        "p1 = p0 + (z-x[0])/(x[1]-x[0])*(y[1]-y[0]) # usando la idea de Newton\n",
        "\n",
        "# Polinomio de grado 2\n",
        "D = sp.Symbol('D')   # D será la correspondiente diferencia dividida:  D = f[x0,x1,x2]\n",
        "p2 = p1 + (z-x[0])*(z-x[1])*D\n",
        "\n",
        "# pero también tenemos aún que garantizar que p(x2) = y2\n",
        "sol2=sp.solve(p2.subs({z:x[2]})-y[2],D)  # para ello resolvemos y despejamos el valor de D\n",
        "print(\"Diferencia dividida de segundo orden:\\n\",sol2,\"\\n\")\n",
        "\n",
        "D=sol2[0]\n",
        "p2 = p1 + (z-x[0])*(z-x[1])*D\n",
        "\n",
        "#Hallamos formula derivando 2 veces p2 y evaluando en a\n",
        "formula= sp.diff(p2,z,2).subs({z:a}).simplify()\n",
        "\n",
        "print(\"Formula de de aproximacion de segunda derivada:\\n\")\n",
        "formula"
      ]
    },
    {
      "cell_type": "markdown",
      "source": [
        "2.- Con la fórmula obtenida en el ejercicio 1, halle una tabla de aproximaciones y errores de $f_1''(2.5)$, siendo $f_1(x)=x^x$, para $h=10^{-i},\\; i=1,\\ldots,5.$"
      ],
      "metadata": {
        "id": "25554MKpjn-i"
      }
    },
    {
      "cell_type": "code",
      "source": [
        "def formula(f,a,h):\n",
        "  return (-2*f(a) + f(a-h) + f(a+h))/h**2\n",
        "\n",
        "def f1(z):\n",
        "  return z**z\n",
        "\n",
        "a1=2.5\n",
        "aproximaciones=[]\n",
        "for i in range (1,6):\n",
        "  aproximaciones.append(formula(f1,a1,10**-i))\n",
        "\n",
        "aproximaciones"
      ],
      "metadata": {
        "colab": {
          "base_uri": "https://localhost:8080/"
        },
        "id": "p1JCHWK4zQs7",
        "outputId": "00473811-f96d-4837-a442-12578cf69f34"
      },
      "execution_count": 124,
      "outputs": [
        {
          "output_type": "execute_result",
          "data": {
            "text/plain": [
              "[40.42056829795832,\n",
              " 40.243450230939004,\n",
              " 40.24168270788664,\n",
              " 40.24166475602442,\n",
              " 40.24164113047845]"
            ]
          },
          "metadata": {},
          "execution_count": 124
        }
      ]
    },
    {
      "cell_type": "code",
      "source": [
        "#Valor exacto\n",
        "val_exacto=sp.diff(f1(z),z,2).subs({z:a1})\n",
        "val_exacto"
      ],
      "metadata": {
        "colab": {
          "base_uri": "https://localhost:8080/",
          "height": 37
        },
        "id": "Lt1KXBD34YhW",
        "outputId": "3c093256-f2d9-4368-ac56-a41a27c0c0b9"
      },
      "execution_count": 125,
      "outputs": [
        {
          "output_type": "execute_result",
          "data": {
            "text/plain": [
              "40.2416648563875"
            ],
            "text/latex": "$\\displaystyle 40.2416648563875$"
          },
          "metadata": {},
          "execution_count": 125
        }
      ]
    },
    {
      "cell_type": "markdown",
      "source": [
        "3.- Sea $f_2(x)=\\frac{x^2+40}{x+\\sqrt{5x}+7}$. Calcule una tabla que recoja las derivadas de $f_2$ en $x_i=1,2,\\ldots,10$, utilizando alguna de las fórmulas de derivación numérica de primer orden obtenidas al inicio de la práctica, con $h=10^{-3}$, y muestre al mismo tiempo el error cometido en cada punto. Repita el ejercicio con la fórmula centrada obtenida para la derivada primera y, finalmente, para la obtenida en el ejercicio 1 (con respecto a la segunda derivada)."
      ],
      "metadata": {
        "id": "MwLR6EBkjoMY"
      }
    },
    {
      "cell_type": "code",
      "source": [
        "def f2(z):\n",
        "  return (z**2+40)/(z+(5*z)**(1/2)+7)\n",
        "\n",
        "def formula_primer_orden(f,a,h):\n",
        "  return (-f(a)+f(a+h))/h\n",
        "\n",
        "def formula_centrada(f,a,h):\n",
        "  return (-f(a-h)+f(a+h))/2*h\n",
        "\n",
        "def mostrar_resultados(formula,f,a,h):\n",
        "  valores_exactos=[]\n",
        "  aproximaciones=[]\n",
        "  errores=[]\n",
        "\n",
        "  print(\"x_i\\tValor exacto\\t\\tAproximación\\t\\tError\")\n",
        "  print(\"-\\t------------\\t\\t------------\\t\\t-----\")\n",
        "\n",
        "  for i in range(1,11):\n",
        "\n",
        "    valores_exactos.append(sp.diff(f(z),z).subs({z:i}))\n",
        "    aproximaciones.append(formula_primer_orden(f,i,h))\n",
        "    errores.append(abs(valores_exactos[i-1]-aproximaciones[i-1]))\n",
        "\n",
        "    print(\"{}\\t{}\\t{}\\t{}\".format(i, valores_exactos[i-1], aproximaciones[i-1], errores[i-1]))\n",
        "\n",
        "  print(\"\\n\\n\")\n",
        "\n",
        "\n",
        "h1=10**-3\n",
        "\n",
        "print(\"FÓRMULA USADA: {}\\n\".format(formula_primer_orden(f,a,h)))\n",
        "mostrar_resultados(formula_primer_orden,f2,a,h1)\n",
        "\n",
        "print(\"FÓRMULA USADA: {}\\n\".format(formula_centrada(f,a,h)))\n",
        "mostrar_resultados(formula_centrada,f2,a,h1)\n",
        "\n",
        "print(\"FÓRMULA USADA: {}\\n\".format(formula(f,a,h)))\n",
        "mostrar_resultados(formula,f2,a,h1)\n"
      ],
      "metadata": {
        "colab": {
          "base_uri": "https://localhost:8080/"
        },
        "id": "Cg3eNxd15HNL",
        "outputId": "654741f6-c39d-42f7-ae66-fafaeeec0761"
      },
      "execution_count": 126,
      "outputs": [
        {
          "output_type": "stream",
          "name": "stdout",
          "text": [
            "FÓRMULA USADA: (-f(a) + f(a + h))/h\n",
            "\n",
            "x_i\tValor exacto\t\tAproximación\t\tError\n",
            "-\t------------\t\t------------\t\t-----\n",
            "1\t-0.633413841504903\t-0.6330758508230616\t0.000337990681841038\n",
            "2\t-0.203729991363422\t-0.20358841102519065\t0.000141580338231473\n",
            "3\t0.0135536765957583\t0.013637834543889227\t0.0000841579481308807\n",
            "4\t0.152356382446352\t0.15241382963759875\t0.0000574471912467844\n",
            "5\t0.250865051903114\t0.2509073591920874\t0.0000423072889731979\n",
            "6\t0.325234486346073\t0.32526720196468517\t0.0000327156186125110\n",
            "7\t0.383753089267232\t0.3837792735330581\t0.0000261842658260680\n",
            "8\t0.431201820656649\t0.43122332479583747\t0.0000215041391883886\n",
            "9\t0.470566739057635\t0.47058475905004116\t0.0000180199924058044\n",
            "10\t0.503824070415537\t0.5038394181333672\t0.0000153477178297390\n",
            "\n",
            "\n",
            "\n",
            "FÓRMULA USADA: h*(-f(a - h)/2 + f(a + h)/2)\n",
            "\n",
            "x_i\tValor exacto\t\tAproximación\t\tError\n",
            "-\t------------\t\t------------\t\t-----\n",
            "1\t-0.633413841504903\t-0.6330758508230616\t0.000337990681841038\n",
            "2\t-0.203729991363422\t-0.20358841102519065\t0.000141580338231473\n",
            "3\t0.0135536765957583\t0.013637834543889227\t0.0000841579481308807\n",
            "4\t0.152356382446352\t0.15241382963759875\t0.0000574471912467844\n",
            "5\t0.250865051903114\t0.2509073591920874\t0.0000423072889731979\n",
            "6\t0.325234486346073\t0.32526720196468517\t0.0000327156186125110\n",
            "7\t0.383753089267232\t0.3837792735330581\t0.0000261842658260680\n",
            "8\t0.431201820656649\t0.43122332479583747\t0.0000215041391883886\n",
            "9\t0.470566739057635\t0.47058475905004116\t0.0000180199924058044\n",
            "10\t0.503824070415537\t0.5038394181333672\t0.0000153477178297390\n",
            "\n",
            "\n",
            "\n",
            "FÓRMULA USADA: (-2*f(a) + f(a - h) + f(a + h))/h**2\n",
            "\n",
            "x_i\tValor exacto\t\tAproximación\t\tError\n",
            "-\t------------\t\t------------\t\t-----\n",
            "1\t-0.633413841504903\t-0.6330758508230616\t0.000337990681841038\n",
            "2\t-0.203729991363422\t-0.20358841102519065\t0.000141580338231473\n",
            "3\t0.0135536765957583\t0.013637834543889227\t0.0000841579481308807\n",
            "4\t0.152356382446352\t0.15241382963759875\t0.0000574471912467844\n",
            "5\t0.250865051903114\t0.2509073591920874\t0.0000423072889731979\n",
            "6\t0.325234486346073\t0.32526720196468517\t0.0000327156186125110\n",
            "7\t0.383753089267232\t0.3837792735330581\t0.0000261842658260680\n",
            "8\t0.431201820656649\t0.43122332479583747\t0.0000215041391883886\n",
            "9\t0.470566739057635\t0.47058475905004116\t0.0000180199924058044\n",
            "10\t0.503824070415537\t0.5038394181333672\t0.0000153477178297390\n",
            "\n",
            "\n",
            "\n"
          ]
        }
      ]
    },
    {
      "cell_type": "markdown",
      "source": [
        "4.- Divida el intervalo $[1,2]$ en 100 partes iguales y aplique las fórmulas del rectángulo, Simpson y trapecio compuestas para aproximar la integral en dicho intervalo de $f_1$. Compare dichos resultados."
      ],
      "metadata": {
        "id": "L4zivDBzjoaU"
      }
    },
    {
      "cell_type": "code",
      "source": [
        "def Rectangulo_Izda_C(f,a,b,n):\n",
        "  h=(b-a)/n\n",
        "  return h*sum([f(a+i*h) for i in range (0,n)])\n",
        "\n",
        "def Rectangulo_Dcha_C(f,a,b,n):\n",
        "  h=(b-a)/n\n",
        "  return h*sum([f(a+i*h) for i in range (1,n+1)])\n",
        "\n",
        "def Pto_Medio_C(f,a,b,n):\n",
        "  h=(b-a)/n\n",
        "  return h*sum([f(a+(i-1/2)*h) for i in range (1,n+1)])\n",
        "\n",
        "def Trapecio_C(f,a,b,n):\n",
        "  h=(b-a)/n\n",
        "  return h/2 * (f(a)+ f(b) + 2*sum([f(a+i*h) for i in range (1,n)]))\n",
        "\n",
        "def Simpson_C(f,a,b,n):\n",
        "  h=(b-a)/n\n",
        "  return h/6 * (f(a)+ f(b) + 4*sum([f(a+(i-1/2)*h) for i in range(1,n+1)]) + 2*sum([f(a+i*h) for i in range (1,n)]))\n",
        "\n",
        "\n",
        "def mostrar_resultados(f,a1,b1,n):\n",
        "\n",
        "  aproximaciones=[]\n",
        "  errores=[]\n",
        "  nombres=['Rectangulo_Izda_C', 'Rectangulo_Dcha_C', 'Pto_Medio_C', 'Trapecio_C', 'Simpson_C' ]\n",
        "\n",
        "  #Valor exacto\n",
        "  val_exacto,error=spi.quad(f,a1,b1)\n",
        "\n",
        "  #Rectangulo Izda\n",
        "  val_aprox=Rectangulo_Izda_C(f,a1,b1,n)\n",
        "  error= abs(val_exacto-val_aprox)\n",
        "  aproximaciones.append(val_aprox)\n",
        "  errores.append(error)\n",
        "\n",
        "  #Rectangulo Dcha\n",
        "  val_aprox=Rectangulo_Dcha_C(f,a1,b1,n)\n",
        "  error= abs(val_exacto-val_aprox)\n",
        "  aproximaciones.append(val_aprox)\n",
        "  errores.append(error)\n",
        "\n",
        "  #Punto medio\n",
        "  val_aprox=Pto_Medio_C(f,a1,b1,n)\n",
        "  error= abs(val_exacto-val_aprox)\n",
        "  aproximaciones.append(val_aprox)\n",
        "  errores.append(error)\n",
        "\n",
        "  #Trapecio\n",
        "  val_aprox=Trapecio_C(f,a1,b1,n)\n",
        "  error= abs(val_exacto-val_aprox)\n",
        "  aproximaciones.append(val_aprox)\n",
        "  errores.append(error)\n",
        "\n",
        "  #Simpson\n",
        "  val_aprox=Simpson_C(f,a1,b1,n)\n",
        "  error= abs(val_exacto-val_aprox)\n",
        "  aproximaciones.append(val_aprox)\n",
        "  errores.append(error)\n",
        "\n",
        "  print(\"Valor exacto: \", val_exacto)\n",
        "  print(\"Formula\\t\\t\\tAproximación\\t\\t\\tError\")\n",
        "  print(\"------------\\t\\t------------\\t\\t\\t-----------\")\n",
        "\n",
        "  for i in range (5):\n",
        "    print(\"{}\\t\\t{}\\t\\t{}\".format(nombres[i], aproximaciones[i], errores[i]))\n",
        "\n"
      ],
      "metadata": {
        "id": "dzDJCijXCZSF"
      },
      "execution_count": 127,
      "outputs": []
    },
    {
      "cell_type": "code",
      "source": [
        "a1,b1=1,2\n",
        "n=100\n",
        "mostrar_resultados(f1,a1,b1,n)"
      ],
      "metadata": {
        "colab": {
          "base_uri": "https://localhost:8080/"
        },
        "id": "hvvg6P6WWaNA",
        "outputId": "df6d0059-795b-4b04-c2f0-8cd633d6266e"
      },
      "execution_count": 128,
      "outputs": [
        {
          "output_type": "stream",
          "name": "stdout",
          "text": [
            "Valor exacto:  2.050446234534731\n",
            "Formula\t\t\tAproximación\t\t\tError\n",
            "------------\t\t------------\t\t\t-----------\n",
            "Rectangulo_Izda_C\t\t2.0354943390855573\t\t0.014951895449173858\n",
            "Rectangulo_Dcha_C\t\t2.065494339085557\t\t0.015048104550825947\n",
            "Pto_Medio_C\t\t2.050422182392515\t\t2.4052142216124395e-05\n",
            "Trapecio_C\t\t2.0504943390855574\t\t4.8104550826266745e-05\n",
            "Simpson_C\t\t2.0504462346235295\t\t8.879830204477912e-11\n"
          ]
        }
      ]
    },
    {
      "cell_type": "markdown",
      "source": [
        "5.- Repita el ejercicio 4 para $f_2$."
      ],
      "metadata": {
        "id": "e3Db-m2ljojo"
      }
    },
    {
      "cell_type": "code",
      "source": [
        "mostrar_resultados(f2,a1,b1,n)"
      ],
      "metadata": {
        "colab": {
          "base_uri": "https://localhost:8080/"
        },
        "id": "hYvXRKoxZLBR",
        "outputId": "676ee789-7ed2-4627-dfa6-b4698eb91952"
      },
      "execution_count": 129,
      "outputs": [
        {
          "output_type": "stream",
          "name": "stdout",
          "text": [
            "Valor exacto:  3.77658111776791\n",
            "Formula\t\t\tAproximación\t\t\tError\n",
            "------------\t\t------------\t\t\t-----------\n",
            "Rectangulo_Izda_C\t\t3.778523202782093\t\t0.001942085014183359\n",
            "Rectangulo_Dcha_C\t\t3.774646194132547\t\t0.0019349236353627397\n",
            "Pto_Medio_C\t\t3.7765793274267083\t\t1.7903412015130016e-06\n",
            "Trapecio_C\t\t3.7765846984573206\t\t3.5806894107537346e-06\n",
            "Simpson_C\t\t3.7765811177702457\t\t2.3359092438113294e-12\n"
          ]
        }
      ]
    },
    {
      "cell_type": "markdown",
      "source": [
        "6.- Sea $f_3(x)=x^{15} e^x$ en $[0,2]$. Vamos a dividir el intervalo en $10\\times 2^n$ subintervalos, es decir, $10,\\,20,\\,40,\\, 80,\\ldots $ y a aplicar la fórmula de Simpson compuesta hasta que la diferencia entre dos aproximaciones consecutivas (por ejemplo, podrían\n",
        "ser con $20$ y $40$ subintervalos) sea menor que $10^{-2}$, dando en tal caso por buena la última aproximación obtenida. Programe\n",
        "y calcule dicha aproximación. Compare ambas aproximaciones con\n",
        "el valor exacto."
      ],
      "metadata": {
        "id": "ySMG-4-Wjoqh"
      }
    },
    {
      "cell_type": "code",
      "source": [
        "def f3(z):\n",
        "  return (z**15) * sp.exp(z)\n",
        "\n",
        "\n",
        "a1,b1=0,2\n",
        "n=0\n",
        "tol=10**-2\n",
        "nmax=50\n",
        "\n",
        "val_exacto=sp.integrate(f3(z),(z,a1,b1)).evalf()\n",
        "\n",
        "aproximaciones=[]\n",
        "aproximaciones.append(Simpson_C(f3,a1,b1,2*10**n).evalf())\n",
        "n+=1\n",
        "aproximaciones.append(Simpson_C(f3,a1,b1,2*10**n).evalf())\n",
        "\n",
        "for i in range(2,nmax):\n",
        "  if(abs(aproximaciones[i-2]-aproximaciones[i-1]) < tol): break\n",
        "  else:\n",
        "    n+=1\n",
        "    aproximaciones.append(Simpson_C(f3,a1,b1,2*10**n).evalf())\n",
        "\n",
        "print(\"Aproximaciones:\",aproximaciones)\n",
        "print(\"Error: \", abs(aproximaciones[-1]-val_exacto))"
      ],
      "metadata": {
        "id": "OOXDRMezFr58",
        "colab": {
          "base_uri": "https://localhost:8080/"
        },
        "outputId": "d5b2636b-20ce-48f5-db58-50752befb009"
      },
      "execution_count": 130,
      "outputs": [
        {
          "output_type": "stream",
          "name": "stdout",
          "text": [
            "Aproximaciones: [41663.3406774379, 27067.0299147213, 27062.7028528969, 27062.7024139435]\n",
            "Error:  4.39176801592112e-8\n"
          ]
        }
      ]
    },
    {
      "cell_type": "markdown",
      "source": [
        "7.- Calcule las fórmulas gaussianas con $2$ y $3$ nodos,en el intervalo $[-1,1]$, siendo la función peso el valor absoluto de la variable. Aplíquelas para aproximar la función $x\\; e^x$ en $[-1,1]$ y compare los resultados con el valor exacto (organizando los cálculos de forma adecuada).\n"
      ],
      "metadata": {
        "id": "yg-extA4jow4"
      }
    },
    {
      "cell_type": "code",
      "source": [
        "def f4(z):\n",
        "  return z*sp.exp(z)\n",
        "\n",
        "def w(z):\n",
        "  return abs(z)\n",
        "\n",
        "def Gaussiana_Peso_Simbolica(w,a,b,n):\n",
        "  \"\"\"\n",
        "  Funcion que calcula mediante aproximacion gaussiana una integral.\n",
        "  w: peso\n",
        "  [a,b]: intervalo\n",
        "  n: numero de nodos\n",
        "  \"\"\"\n",
        "  grexact=2*n-1\n",
        "  #Obtenemos lista de coeficientes\n",
        "  p = sp.symbols('p0:'+ str(n)) # generamos una tupla de n nodos, ahora empezamos por p0\n",
        "  nodos2 = list(p)\n",
        "\n",
        "  c = sp.symbols('c0:'+ str(n)) # generamos una tupla de n coeficientes\n",
        "  coefs2 = list(c)\n",
        "  coefs2\n",
        "\n",
        "  incogs2 = coefs2 + nodos2\n",
        "  ################################################################################\n",
        "\n",
        "  #Resolvemos ecuacion\n",
        "  ecs2 = [np.dot([(z**i).subs({z:nodos2[j]}) for j in range(n)],coefs2)-sp.integrate(w(z)*z**i,(z,a,b)) for i in range(grexact+1)]\n",
        "  solsGauss2 = sp.solve(ecs2,incogs2)\n",
        "  ################################################################################\n",
        "\n",
        "  #Obtenemos coeficientes y nodos\n",
        "  for i in range(n):\n",
        "      nodos2[i] = solsGauss2[0][n+i]\n",
        "      coefs2[i] = solsGauss2[0][i]\n",
        "  ################################################################################\n",
        "\n",
        "  #Construimos formula\n",
        "  formGauss2 = np.dot([f(nodos2[i]) for i in range(n)],coefs2)\n",
        "  ################################################################################\n",
        "  return formGauss2\n",
        "\n",
        "\n",
        "def Gaussiana_Peso(f,w,a,b,n):\n",
        "  \"\"\"\n",
        "  Funcion que calcula mediante aproximacion gaussiana una integral.\n",
        "  f: funcion\n",
        "  w: peso\n",
        "  [a,b]: intervalo\n",
        "  n: numero de nodos\n",
        "  \"\"\"\n",
        "  grexact=2*n-1\n",
        "  #Obtenemos lista de coeficientes\n",
        "  p = sp.symbols('p0:'+ str(n)) # generamos una tupla de n nodos, ahora empezamos por p0\n",
        "  nodos2 = list(p)\n",
        "\n",
        "  c = sp.symbols('c0:'+ str(n)) # generamos una tupla de n coeficientes\n",
        "  coefs2 = list(c)\n",
        "  coefs2\n",
        "\n",
        "  incogs2 = coefs2 + nodos2\n",
        "  ################################################################################\n",
        "\n",
        "  #Resolvemos ecuacion\n",
        "  ecs2 = [np.dot([(z**i).subs({z:nodos2[j]}) for j in range(n)],coefs2)-sp.integrate(w(z)*z**i,(z,a,b)) for i in range(grexact+1)]\n",
        "  solsGauss2 = sp.solve(ecs2,incogs2)\n",
        "  ################################################################################\n",
        "\n",
        "  #Obtenemos coeficientes y nodos\n",
        "  for i in range(n):\n",
        "      nodos2[i] = solsGauss2[0][n+i]\n",
        "      coefs2[i] = solsGauss2[0][i]\n",
        "  ################################################################################\n",
        "\n",
        "  #Construimos formula\n",
        "  formGauss2 = np.dot([f(nodos2[i]) for i in range(n)],coefs2)\n",
        "  ################################################################################\n",
        "  return formGauss2.evalf()"
      ],
      "metadata": {
        "id": "z4_m7DujpHOA"
      },
      "execution_count": 131,
      "outputs": []
    },
    {
      "cell_type": "code",
      "source": [
        "n1,n2=2,3\n",
        "a1,b1=-1,1\n",
        "\n",
        "formula1=Gaussiana_Peso_Simbolica(w,a1,b1,n1)\n",
        "print(formula1)\n",
        "\n",
        "formula2=Gaussiana_Peso_Simbolica(w,a1,b1,n2)\n",
        "print(formula2)"
      ],
      "metadata": {
        "colab": {
          "base_uri": "https://localhost:8080/"
        },
        "id": "bXQ6FyulPZDT",
        "outputId": "976176e4-c9e1-451c-e8f6-fa524becabda"
      },
      "execution_count": 132,
      "outputs": [
        {
          "output_type": "stream",
          "name": "stdout",
          "text": [
            "f(-sqrt(2)/2)/2 + f(sqrt(2)/2)/2\n",
            "f(0)/4 + 3*f(-sqrt(6)/3)/8 + 3*f(sqrt(6)/3)/8\n"
          ]
        }
      ]
    },
    {
      "cell_type": "code",
      "source": [
        "aprox1=Gaussiana_Peso(f4,w,a1,b1,n1)\n",
        "aprox2=Gaussiana_Peso(f4,w,a1,b1,n2)\n",
        "val_exacto=sp.integrate(f4(z)*w(z),(z,a1,b1)).evalf()\n",
        "\n",
        "print(\"Valor exacto: {}\\n\".format(val_exacto))\n",
        "print(\"n\\tAproximación\\t\\tError\")\n",
        "print(\"-\\t------------\\t\\t-----\")\n",
        "print(\"{}\\t{}\\t{}\".format(2, aprox1, abs(aprox1 - val_exacto)))\n",
        "print(\"{}\\t{}\\t{}\".format(3, aprox2, abs(aprox2 - val_exacto)))"
      ],
      "metadata": {
        "colab": {
          "base_uri": "https://localhost:8080/"
        },
        "id": "UMJ4ESLmNrDa",
        "outputId": "19241317-40ee-40b7-f05e-6d6af77408b4"
      },
      "execution_count": 133,
      "outputs": [
        {
          "output_type": "stream",
          "name": "stdout",
          "text": [
            "Valor exacto: 0.557679034316257\n",
            "\n",
            "n\tAproximación\t\tError\n",
            "-\t------------\t\t-----\n",
            "2\t0.542720820636303\t0.0149582136799534\n",
            "3\t0.557437075708894\t0.000241958607363313\n"
          ]
        }
      ]
    },
    {
      "cell_type": "markdown",
      "source": [
        "8.- Programar las técnicas de integración de Romberg y adaptativa, para después aplicarlas a la aproximación de la siguiente integral $$\\int_a^b p(x)\\, dx$$\n",
        "siendo  $\\;a=\\displaystyle\\min_{0\\leq i\\leq 7}{d_i}$, $\\;b=\\displaystyle\\max_{0\\leq i\\leq 7}{d_i}$ y\n",
        "$$p(x)=d_0 + d_1 x + d_2 x^2 + d_3 x^3+ d_4 x^4 + d_5 x^5 + d_6 x^6 + d_7 x^7 $$\n",
        "(siendo $d_0, d_1, \\ldots, d_7$ los dígitos de su DNI, pasaporte o tarjeta de residente)."
      ],
      "metadata": {
        "id": "NJANgpiVgq3h"
      }
    },
    {
      "cell_type": "code",
      "source": [
        "def p(z):\n",
        "  return 7+7*z+5*z**2+5*z**3+6*z**4+z**5+3*z**6\n",
        "\n",
        "def Integracion_Romberg(f,a,b,tol=10**-5):\n",
        "    n = 0\n",
        "    r0 = [Trapecio_C(f,a,b,2**n)]\n",
        "    condicion = True\n",
        "\n",
        "    while condicion:\n",
        "        n += 1\n",
        "        # Se calcula R(n,0)\n",
        "        r1 = [Trapecio_C(f,a,b,2**n)]\n",
        "\n",
        "        # Se calculan todos los R(n,i) con 1 <= i <= n (es decir, la fila r1)\n",
        "        for i in range(1,n):\n",
        "            r1.append((4**i*r1[i-1]-r0[i-1])/(4**i-1))\n",
        "\n",
        "        # Se comparan los últimos elementos de las filas, que son justo los R de la diagonal\n",
        "        condicion = (abs(r1[n-1] - r0[n-2]) >= tol)\n",
        "\n",
        "        # La fila r1 se copia en r0 para empezar a generar la fila r1 en la siguiente iteración\n",
        "        r0 = r1\n",
        "\n",
        "    return r1[n-1]\n",
        "\n",
        "def Simpson_Adaptativa(f,a,b):\n",
        "  return (b-a)/6 * (f(a) + 4*f((a+b)/2) + f(b))\n",
        "\n",
        "def Integracion_Adaptativa(f,a,b,error=10**(-4)):\n",
        "\n",
        "    m = (a+b)/2\n",
        "    resultado = 0\n",
        "    if(abs(Simpson_Adaptativa(f,a,b)-Simpson_Adaptativa(f,a,m)-Simpson_Adaptativa(f,m,b))<10*error):\n",
        "        resultado = Simpson_Adaptativa(f,a,m) + Simpson_Adaptativa(f,m,b)\n",
        "    else:\n",
        "        resultado = Integracion_Adaptativa(f,a,m,error/2) + Integracion_Adaptativa(f,m,b,error/2)\n",
        "\n",
        "    return resultado\n"
      ],
      "metadata": {
        "id": "8aBXEeblSp23"
      },
      "execution_count": 134,
      "outputs": []
    },
    {
      "cell_type": "code",
      "source": [
        "a1,b1=0,7\n",
        "val_exacto=sp.integrate(p(z),(z,a1,b1)).evalf()\n",
        "aprox1=Integracion_Romberg(p,a1,b1)\n",
        "aprox2=Integracion_Adaptativa(p,a1,b1)\n",
        "\n",
        "print(\"Valor exacto: {}\\n\".format(val_exacto))\n",
        "print(\"n\\tAproximación\\t\\tError\")\n",
        "print(\"-\\t------------\\t\\t-----\")\n",
        "print(\"{}\\t{}\\t{}\".format(2, aprox1, abs(aprox1 - val_exacto)))\n",
        "print(\"{}\\t{}\\t{}\".format(3, aprox2, abs(aprox2 - val_exacto)))"
      ],
      "metadata": {
        "colab": {
          "base_uri": "https://localhost:8080/"
        },
        "id": "-Pk_uGWOUfQS",
        "outputId": "92dd94f1-66b5-4abc-d591-a8877ec8720e"
      },
      "execution_count": 135,
      "outputs": [
        {
          "output_type": "stream",
          "name": "stdout",
          "text": [
            "Valor exacto: 396516.983333333\n",
            "\n",
            "n\tAproximación\t\tError\n",
            "-\t------------\t\t-----\n",
            "2\t396516.98333333334\t0\n",
            "3\t396516.98336255056\t0.0000292172189801931\n"
          ]
        }
      ]
    }
  ]
}