{
  "cells": [
    {
      "cell_type": "markdown",
      "source": [
        "# Prueba 2 de la prácticas de MN2. Integración y derivación numérica"
      ],
      "metadata": {
        "id": "FUWMwpLZysne"
      }
    },
    {
      "cell_type": "markdown",
      "source": [
        "Guardar el archivo con el formato ```Apellido1_Apellido2_Nombre_DNI.ipynb```."
      ],
      "metadata": {
        "id": "hXQ85tQeL9r6"
      }
    },
    {
      "cell_type": "markdown",
      "source": [
        "**I. Derivación numérica.**<br>\n",
        "1.   Calcular el polinomio de interpolación para los tres nodos $a-2h$, $a-h$, $a$.\n",
        "2.   Calcular la derivada segunda regresiva de forma aproximada usando interpolación polinómica. Comprobar que la fórmula obtenida es distinta a la derivada segunda progresiva para los nodos $a,a+h,a+2h$ (ya hecho en el notebook de la prácticas).\n",
        "3.   Calcular grado de exactitud para funciones de tipo polinomico, es decir, comparar la fórmula aproximada de derivada segunda con la derivada segunda exacta de la base $\\{1,x,...,x^n\\}$ de $\\mathbb{P}_n$. Verificar que se cumple el teorema de la limitación del grado de exactitud (Teorema 2 de los apuntes extendidos).\n",
        "4.   Probar la fórmula aproximada de la derivada segunda regresiva para la función $f(z)=\\frac{z^2-2}{1+z^3}$ y para un paso $h=10^{-j}$ con $j=1,2,\\ldots,20$. Comparar con el valor exacto de la derivada segunda obtenido con el método de sympy ```sp.diff()```. Comprobar para qué valor de $j$ deja de funcionar la fórmula aproximada y da 0.\n",
        "\n",
        "**II. Integración numérica.**<br>\n",
        "1.   Calcular la fórmula gaussiana de integración numérica para 3 nodos y un peso constante $w=1$ en el intervalo $[0,2]$.\n",
        "2.   Aplicar la fórmula gaussiana obtenida a la función $f(x)=\\cosh(x)-1$.\n",
        "3.   Comparar el resultado del apartado anterior con el que sale integrando con ```sp.integrate()```. Utilizar el método ```.evalf()``` para obtener una expresión numérica de ambas integrales.\n"
      ],
      "metadata": {
        "id": "fWpmVvA54jSC"
      }
    },
    {
      "cell_type": "code",
      "source": [
        "import numpy as np # Importamos el módulo NumPy con el pseudónimo np\n",
        "import sympy as sp # Importamos el módulo SymPy con el pseudónimo sp\n",
        "# sp.init_printing() # con esta opción obtendremos bonitas fórmulas en la pantalla\n",
        "# pero en las últimas versiones de Python parece ser que no hace falta indicarlo"
      ],
      "metadata": {
        "id": "EKrjOQME7XkL"
      },
      "execution_count": 139,
      "outputs": []
    },
    {
      "cell_type": "markdown",
      "source": [
        "# **I) Derivación numérica**"
      ],
      "metadata": {
        "id": "mmvOIfzny1Uw"
      }
    },
    {
      "cell_type": "markdown",
      "source": [
        "## 1)"
      ],
      "metadata": {
        "id": "kgYW-yBO9PWV"
      }
    },
    {
      "cell_type": "code",
      "source": [
        "#Declaracion de variables simbolicas\n",
        "f = sp.Function('f')# Crea función simbólica\n",
        "a,h = sp.symbols('a,h')\n",
        "z = sp.Symbol('z')  # utilizaremos z como variable simbólica"
      ],
      "metadata": {
        "id": "SyP4kph5kCoI"
      },
      "execution_count": 140,
      "outputs": []
    },
    {
      "cell_type": "code",
      "source": [
        "x = [a-2*h,a-h,a]  # estos serán los nodos de interpolación, 3 nodos -> polinomio interpolación de grado 2\n",
        "y = [f(x[0]),f(x[1]),f(x[2])]  # y los valores interpolados\n",
        "\n",
        "# Polinomio de grado 1\n",
        "p0 = y[0]  # vamos a ir construyendo el polinomio de interpolación\n",
        "p1 = p0 + (z-x[0])/(x[1]-x[0])*(y[1]-y[0]) # usando la idea de Newton\n",
        "\n",
        "# Polinomio de grado 2\n",
        "D = sp.Symbol('D')   # D será la correspondiente diferencia dividida:  D = f[x0,x1,x2]\n",
        "p2 = p1 + (z-x[0])*(z-x[1])*D\n",
        "\n",
        "# pero también tenemos aún que garantizar que p(x2) = y2\n",
        "sol2=sp.solve(p2.subs({z:x[2]})-y[2],D)  # para ello resolvemos y despejamos el valor de D\n",
        "#print(\"Diferencia dividida de segundo orden:\\n\",sol2,\"\\n\")\n",
        "\n",
        "D=sol2[0]\n",
        "p2 = p1 + (z-x[0])*(z-x[1])*D\n",
        "\n",
        "print(\"Polinomio de interpolacion de grado 2:\\n\")\n",
        "p2"
      ],
      "metadata": {
        "colab": {
          "base_uri": "https://localhost:8080/",
          "height": 88
        },
        "id": "eN1U6iG96Jhw",
        "outputId": "5d4f42cb-f07a-42f3-aa07-6846ac4a5698"
      },
      "execution_count": 141,
      "outputs": [
        {
          "output_type": "stream",
          "name": "stdout",
          "text": [
            "Polinomio de interpolacion de grado 2:\n",
            "\n"
          ]
        },
        {
          "output_type": "execute_result",
          "data": {
            "text/plain": [
              "f(a - 2*h) + (-f(a - 2*h) + f(a - h))*(-a + 2*h + z)/h + (-a + h + z)*(-a + 2*h + z)*(f(a) + f(a - 2*h) - 2*f(a - h))/(2*h**2)"
            ],
            "text/latex": "$\\displaystyle f{\\left(a - 2 h \\right)} + \\frac{\\left(- f{\\left(a - 2 h \\right)} + f{\\left(a - h \\right)}\\right) \\left(- a + 2 h + z\\right)}{h} + \\frac{\\left(- a + h + z\\right) \\left(- a + 2 h + z\\right) \\left(f{\\left(a \\right)} + f{\\left(a - 2 h \\right)} - 2 f{\\left(a - h \\right)}\\right)}{2 h^{2}}$"
          },
          "metadata": {},
          "execution_count": 141
        }
      ]
    },
    {
      "cell_type": "markdown",
      "source": [
        "## 2)"
      ],
      "metadata": {
        "id": "oD4rNUlx9ZKL"
      }
    },
    {
      "cell_type": "code",
      "source": [
        "#Hallamos formula derivando 2 veces p2 y evaluando en a\n",
        "formula= sp.diff(p2,z,2).subs({z:a}).simplify()\n",
        "\n",
        "print(\"\\nFormula de aproximacion de segunda derivada (diferencia regresiva):\\n\")\n",
        "formula"
      ],
      "metadata": {
        "colab": {
          "base_uri": "https://localhost:8080/",
          "height": 105
        },
        "id": "ACUQ8p-z688T",
        "outputId": "d44328ca-14df-435e-eb4d-a9134449e6be"
      },
      "execution_count": 142,
      "outputs": [
        {
          "output_type": "stream",
          "name": "stdout",
          "text": [
            "\n",
            "Formula de aproximacion de segunda derivada (diferencia regresiva):\n",
            "\n"
          ]
        },
        {
          "output_type": "execute_result",
          "data": {
            "text/plain": [
              "(f(a) + f(a - 2*h) - 2*f(a - h))/h**2"
            ],
            "text/latex": "$\\displaystyle \\frac{f{\\left(a \\right)} + f{\\left(a - 2 h \\right)} - 2 f{\\left(a - h \\right)}}{h^{2}}$"
          },
          "metadata": {},
          "execution_count": 142
        }
      ]
    },
    {
      "cell_type": "code",
      "source": [
        "#Veamos que es distinta a la de diferencia progresiva:\n",
        "\n",
        "x = [a,a+h,a+2*h]  # estos serán los nodos de interpolación, 3 nodos -> polinomio interpolación de grado 2\n",
        "y = [f(x[0]),f(x[1]),f(x[2])]  # y los valores interpolados\n",
        "\n",
        "# Polinomio de grado 1\n",
        "p0 = y[0]  # vamos a ir construyendo el polinomio de interpolación\n",
        "p1 = p0 + (z-x[0])/(x[1]-x[0])*(y[1]-y[0]) # usando la idea de Newton\n",
        "\n",
        "# Polinomio de grado 2\n",
        "D = sp.Symbol('D')   # D será la correspondiente diferencia dividida:  D = f[x0,x1,x2]\n",
        "p2 = p1 + (z-x[0])*(z-x[1])*D\n",
        "\n",
        "# pero también tenemos aún que garantizar que p(x2) = y2\n",
        "sol2=sp.solve(p2.subs({z:x[2]})-y[2],D)  # para ello resolvemos y despejamos el valor de D\n",
        "#print(\"Diferencia dividida de segundo orden:\\n\",sol2,\"\\n\")\n",
        "\n",
        "D=sol2[0]\n",
        "p2 = p1 + (z-x[0])*(z-x[1])*D\n",
        "\n",
        "#Hallamos formula derivando 2 veces p2 y evaluando en a\n",
        "formula= sp.diff(p2,z,2).subs({z:a}).simplify()\n",
        "\n",
        "print(\"Formula de de aproximacion de segunda derivada (diferencia progresiva):\\n\")\n",
        "formula"
      ],
      "metadata": {
        "colab": {
          "base_uri": "https://localhost:8080/",
          "height": 88
        },
        "id": "5u-h605C7Mjs",
        "outputId": "b4427d29-5b8e-468b-b1b4-04e24dc1dc1e"
      },
      "execution_count": 143,
      "outputs": [
        {
          "output_type": "stream",
          "name": "stdout",
          "text": [
            "Formula de de aproximacion de segunda derivada (diferencia progresiva):\n",
            "\n"
          ]
        },
        {
          "output_type": "execute_result",
          "data": {
            "text/plain": [
              "(f(a) - 2*f(a + h) + f(a + 2*h))/h**2"
            ],
            "text/latex": "$\\displaystyle \\frac{f{\\left(a \\right)} - 2 f{\\left(a + h \\right)} + f{\\left(a + 2 h \\right)}}{h^{2}}$"
          },
          "metadata": {},
          "execution_count": 143
        }
      ]
    },
    {
      "cell_type": "markdown",
      "source": [
        "Vemos que ambas fórmulas son distintas."
      ],
      "metadata": {
        "id": "5HyE2_H4D8vC"
      }
    },
    {
      "cell_type": "markdown",
      "source": [
        "## 3)"
      ],
      "metadata": {
        "id": "wWdsDwpf9c6S"
      }
    },
    {
      "cell_type": "code",
      "source": [
        "def formula(f):\n",
        "  return (f(a)+f(a-2*h)-2*f(a-h))/h**2\n",
        "\n",
        "# Derivada segunda de x^i con i=0,...,10\n",
        "valoresexactosderivadasegunda =[sp.diff(z**i,z,2).subs({z:a}) for i in range(10)]\n",
        "# Evaluamos formula() en x^i con i=0,...,10, es decir, derivamos x^i con la fórmula de derivación obtenida a partir de interpolación\n",
        "valoresaproximadosderivadasegunda =[formula(lambda z:z**i).simplify() for i in range(10)]\n",
        "\n",
        "# Estamos comparando el funcional derivada con el funcional calculado con la interpolación polinómica\n",
        "np.array(valoresaproximadosderivadasegunda) - np.array(valoresexactosderivadasegunda)"
      ],
      "metadata": {
        "colab": {
          "base_uri": "https://localhost:8080/"
        },
        "id": "kfoydzLR8Oty",
        "outputId": "432566b6-2c9c-4fb0-82d6-b3eeb41d3b3c"
      },
      "execution_count": 144,
      "outputs": [
        {
          "output_type": "execute_result",
          "data": {
            "text/plain": [
              "array([0, 0, 0, -6*h, -24*a*h + 14*h**2,\n",
              "       -20*a**3 + (a**5 + (a - 2*h)**5 - 2*(a - h)**5)/h**2,\n",
              "       -30*a**4 + (a**6 + (a - 2*h)**6 - 2*(a - h)**6)/h**2,\n",
              "       -42*a**5 + (a**7 + (a - 2*h)**7 - 2*(a - h)**7)/h**2,\n",
              "       -56*a**6 + (a**8 + (a - 2*h)**8 - 2*(a - h)**8)/h**2,\n",
              "       -72*a**7 + (a**9 + (a - 2*h)**9 - 2*(a - h)**9)/h**2], dtype=object)"
            ]
          },
          "metadata": {},
          "execution_count": 144
        }
      ]
    },
    {
      "cell_type": "markdown",
      "source": [
        "Podemos comprobar que el grado de exactitud que se alcanza es 2. Además, por el teorema sabemos que a partir de n+k+1=5, con n=2, k=2, la fórmula ya no es exacta, donde n es el número de nodos -1 y k el orden de derivación. Por tanto, el grado de exactitud máximo es 4."
      ],
      "metadata": {
        "id": "hmfUToDc-Jhh"
      }
    },
    {
      "cell_type": "markdown",
      "source": [
        "## 4)"
      ],
      "metadata": {
        "id": "Qc7fO6E89gK5"
      }
    },
    {
      "cell_type": "code",
      "source": [
        "def formula(f,a,h):\n",
        "  return (f(a)+f(a-2*h)-2*f(a-h))/h**2\n",
        "\n",
        "def f1(z):\n",
        "  return (z**2-2)/(1+z**3)\n",
        "\n",
        "a1=2\n",
        "n=21\n",
        "aproximaciones=[]\n",
        "errores=[]\n",
        "val_exacto=sp.diff(f1(z),z,2).subs({z:a1}).evalf()\n",
        "\n",
        "print(\"Valor exacto: \", val_exacto)\n",
        "print(\"j\\t\\t\\tAproximación\\t\\t\\t\\tError\")\n",
        "print(\"------------\\t\\t------------\\t\\t\\t\\t-----------\")\n",
        "\n",
        "for i in range (1,n):\n",
        "  aproximaciones.append(formula(f1,a1,10**-i))\n",
        "  errores.append(abs(aproximaciones[i-1]-val_exacto))\n",
        "  print(\"{}\\t\\t{}\\t\\t\\t\\t{}\".format(i, aproximaciones[i-1], errores[i-1]))\n",
        ""
      ],
      "metadata": {
        "colab": {
          "base_uri": "https://localhost:8080/"
        },
        "id": "xxhYRL7c-ywG",
        "outputId": "652f8866-3346-4094-c7f6-7c0a3d3f91bc"
      },
      "execution_count": 145,
      "outputs": [
        {
          "output_type": "stream",
          "name": "stdout",
          "text": [
            "Valor exacto:  -0.469135802469136\n",
            "j\t\t\tAproximación\t\t\t\tError\n",
            "------------\t\t------------\t\t\t\t-----------\n",
            "1\t\t-0.6000287330661435\t\t\t\t0.130892930597008\n",
            "2\t\t-0.4806528060502524\t\t\t\t0.0115170035811166\n",
            "3\t\t-0.470273181230052\t\t\t\t0.00113737876091624\n",
            "4\t\t-0.4692493948965648\t\t\t\t0.000113592427429032\n",
            "5\t\t-0.46914694351585234\t\t\t\t0.0000111410467165673\n",
            "6\t\t-0.46918025020659115\t\t\t\t0.0000444477374553776\n",
            "7\t\t-0.46074255521944\t\t\t\t0.00839324724969576\n",
            "8\t\t-1.1102230246251563\t\t\t\t0.641087222156021\n",
            "9\t\t0.0\t\t\t\t0.469135802469136\n",
            "10\t\t0.0\t\t\t\t0.469135802469136\n",
            "11\t\t0.0\t\t\t\t0.469135802469136\n",
            "12\t\t0.0\t\t\t\t0.469135802469136\n",
            "13\t\t-5551115123.125782\t\t\t\t5551115122.65665\n",
            "14\t\t-555111512312.5782\t\t\t\t555111512312.109\n",
            "15\t\t55511151231257.82\t\t\t\t55511151231258.3\n",
            "16\t\t0.0\t\t\t\t0.469135802469136\n",
            "17\t\t0.0\t\t\t\t0.469135802469136\n",
            "18\t\t0.0\t\t\t\t0.469135802469136\n",
            "19\t\t0.0\t\t\t\t0.469135802469136\n",
            "20\t\t0.0\t\t\t\t0.469135802469136\n"
          ]
        }
      ]
    },
    {
      "cell_type": "markdown",
      "source": [
        "# **II) Integración numérica**"
      ],
      "metadata": {
        "id": "wr8y-QOS-RX6"
      }
    },
    {
      "cell_type": "markdown",
      "source": [
        "## 1)"
      ],
      "metadata": {
        "id": "YyhVwI7ZLLZT"
      }
    },
    {
      "cell_type": "code",
      "source": [
        "def w(z):\n",
        "  return 1\n",
        "\n",
        "def Gaussiana_Peso_Simbolica(w,a,b,n):\n",
        "  \"\"\"\n",
        "  Funcion que calcula mediante aproximacion gaussiana una integral.\n",
        "  w: peso\n",
        "  [a,b]: intervalo\n",
        "  n: numero de nodos\n",
        "  \"\"\"\n",
        "  grexact=2*n-1\n",
        "  #Obtenemos lista de coeficientes\n",
        "  p = sp.symbols('p0:'+ str(n)) # generamos una tupla de n nodos, ahora empezamos por p0\n",
        "  nodos2 = list(p)\n",
        "\n",
        "  c = sp.symbols('c0:'+ str(n)) # generamos una tupla de n coeficientes\n",
        "  coefs2 = list(c)\n",
        "  coefs2\n",
        "\n",
        "  incogs2 = coefs2 + nodos2\n",
        "  ################################################################################\n",
        "\n",
        "  #Resolvemos ecuacion\n",
        "  ecs2 = [np.dot([(z**i).subs({z:nodos2[j]}) for j in range(n)],coefs2)-sp.integrate(w(z)*z**i,(z,a,b)) for i in range(grexact+1)]\n",
        "  solsGauss2 = sp.solve(ecs2,incogs2)\n",
        "  ################################################################################\n",
        "\n",
        "  #Obtenemos coeficientes y nodos\n",
        "  for i in range(n):\n",
        "      nodos2[i] = solsGauss2[0][n+i]\n",
        "      coefs2[i] = solsGauss2[0][i]\n",
        "  ################################################################################\n",
        "\n",
        "  #Construimos formula\n",
        "  formGauss2 = np.dot([f(nodos2[i]) for i in range(n)],coefs2)\n",
        "  ################################################################################\n",
        "  return formGauss2\n",
        "\n",
        "\n",
        "def Gaussiana_Peso(f,w,a,b,n):\n",
        "  \"\"\"\n",
        "  Funcion que calcula mediante aproximacion gaussiana una integral.\n",
        "  f: funcion\n",
        "  w: peso\n",
        "  [a,b]: intervalo\n",
        "  n: numero de nodos\n",
        "  \"\"\"\n",
        "  grexact=2*n-1\n",
        "  #Obtenemos lista de coeficientes\n",
        "  p = sp.symbols('p0:'+ str(n)) # generamos una tupla de n nodos, ahora empezamos por p0\n",
        "  nodos2 = list(p)\n",
        "\n",
        "  c = sp.symbols('c0:'+ str(n)) # generamos una tupla de n coeficientes\n",
        "  coefs2 = list(c)\n",
        "  coefs2\n",
        "\n",
        "  incogs2 = coefs2 + nodos2\n",
        "  ################################################################################\n",
        "\n",
        "  #Resolvemos ecuacion\n",
        "  ecs2 = [np.dot([(z**i).subs({z:nodos2[j]}) for j in range(n)],coefs2)-sp.integrate(w(z)*z**i,(z,a,b)) for i in range(grexact+1)]\n",
        "  solsGauss2 = sp.solve(ecs2,incogs2)\n",
        "  ################################################################################\n",
        "\n",
        "  #Obtenemos coeficientes y nodos\n",
        "  for i in range(n):\n",
        "      nodos2[i] = solsGauss2[0][n+i]\n",
        "      coefs2[i] = solsGauss2[0][i]\n",
        "  ################################################################################\n",
        "\n",
        "  #Construimos formula\n",
        "  formGauss2 = np.dot([f(nodos2[i]) for i in range(n)],coefs2)\n",
        "  ################################################################################\n",
        "  return formGauss2.evalf()"
      ],
      "metadata": {
        "id": "DnfktVaFBbjv"
      },
      "execution_count": 146,
      "outputs": []
    },
    {
      "cell_type": "code",
      "source": [
        "n=3\n",
        "a1,b1=0,2\n",
        "\n",
        "formula=Gaussiana_Peso_Simbolica(w,a1,b1,n)\n",
        "formula"
      ],
      "metadata": {
        "colab": {
          "base_uri": "https://localhost:8080/",
          "height": 66
        },
        "id": "DGpQRZBGB8BJ",
        "outputId": "0c9e825b-b605-438f-ffcf-4e1c6e5574b8"
      },
      "execution_count": 147,
      "outputs": [
        {
          "output_type": "execute_result",
          "data": {
            "text/plain": [
              "8*f(1)/9 + 5*f(1 - sqrt(15)/5)/9 + 5*f(sqrt(15)/5 + 1)/9"
            ],
            "text/latex": "$\\displaystyle \\frac{8 f{\\left(1 \\right)}}{9} + \\frac{5 f{\\left(1 - \\frac{\\sqrt{15}}{5} \\right)}}{9} + \\frac{5 f{\\left(\\frac{\\sqrt{15}}{5} + 1 \\right)}}{9}$"
          },
          "metadata": {},
          "execution_count": 147
        }
      ]
    },
    {
      "cell_type": "markdown",
      "source": [
        "## 2)"
      ],
      "metadata": {
        "id": "jVdzAMUX_68E"
      }
    },
    {
      "cell_type": "code",
      "source": [
        "def f2(z):\n",
        "  return -1 + sp.cosh(z)\n",
        "\n",
        "aproximacion=Gaussiana_Peso(f2,w,a1,b1,n)\n",
        "aproximacion"
      ],
      "metadata": {
        "colab": {
          "base_uri": "https://localhost:8080/",
          "height": 37
        },
        "id": "XLuf1xT6CNVS",
        "outputId": "83f79a40-8a0d-40aa-a6f7-af0cf35b2610"
      },
      "execution_count": 148,
      "outputs": [
        {
          "output_type": "execute_result",
          "data": {
            "text/plain": [
              "1.62675939993726"
            ],
            "text/latex": "$\\displaystyle 1.62675939993726$"
          },
          "metadata": {},
          "execution_count": 148
        }
      ]
    },
    {
      "cell_type": "markdown",
      "source": [
        "## 3)"
      ],
      "metadata": {
        "id": "tzw1ETdW_DBd"
      }
    },
    {
      "cell_type": "code",
      "source": [
        "val_exacto=sp.integrate(f2(z)*w(z),(z,a1,b1)).evalf()\n",
        "error=abs(aproximacion - val_exacto)\n",
        "print(\"Valor exacto: {}\\n\".format(val_exacto))\n",
        "print(\"n\\tAproximación\\t\\tError\")\n",
        "print(\"-\\t------------\\t\\t-----\")\n",
        "print(\"{}\\t{}\\t{}\".format(n, aproximacion, error))"
      ],
      "metadata": {
        "colab": {
          "base_uri": "https://localhost:8080/"
        },
        "id": "6J72vaH4Cwel",
        "outputId": "17e96815-24c4-4cb2-88ba-7e529f830fcf"
      },
      "execution_count": 149,
      "outputs": [
        {
          "output_type": "stream",
          "name": "stdout",
          "text": [
            "Valor exacto: 1.62686040784702\n",
            "\n",
            "n\tAproximación\t\tError\n",
            "-\t------------\t\t-----\n",
            "3\t1.62675939993726\t0.000101007909756534\n"
          ]
        }
      ]
    }
  ],
  "metadata": {
    "anaconda-cloud": {},
    "colab": {
      "provenance": []
    },
    "kernelspec": {
      "display_name": "Python 3 (ipykernel)",
      "language": "python",
      "name": "python3"
    },
    "language_info": {
      "codemirror_mode": {
        "name": "ipython",
        "version": 3
      },
      "file_extension": ".py",
      "mimetype": "text/x-python",
      "name": "python",
      "nbconvert_exporter": "python",
      "pygments_lexer": "ipython3",
      "version": "3.9.12"
    }
  },
  "nbformat": 4,
  "nbformat_minor": 0
}